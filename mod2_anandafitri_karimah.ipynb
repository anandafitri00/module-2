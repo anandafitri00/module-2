{
 "cells": [
  {
   "cell_type": "markdown",
   "metadata": {},
   "source": [
    "<center><h1>Module 2 Assignment</h1></center>"
   ]
  },
  {
   "cell_type": "markdown",
   "metadata": {},
   "source": [
    "# Choose a dataset\n",
    "\n",
    "Choose a dataset from [NYC Open Data](https://opendata.cityofnewyork.us/) that is available in CSV format (look at the format labels in the list of datasets). Choose one that has at least 2 numerical value columns and 1 string value column. \n",
    "\n",
    "If it's a CSV file you may be able to directly read it with pandas\n",
    "```\n",
    "pd.read_csv(url)\n",
    "```\n",
    "\n",
    "If it is a compressed file (.zip, .gz, etc.), download the zip and unpack it, then read it in with pandas\n",
    "```\n",
    "pd.read_csv(<filename>.csv)\n",
    "```"
   ]
  },
  {
   "cell_type": "code",
   "execution_count": 1,
   "metadata": {},
   "outputs": [],
   "source": [
    "import pandas as pd\n",
    "import matplotlib as plt\n",
    "import seaborn as sns\n",
    "import numpy as np"
   ]
  },
  {
   "cell_type": "code",
   "execution_count": 2,
   "metadata": {},
   "outputs": [],
   "source": [
    "# !pip install matplotlib --upgrade"
   ]
  },
  {
   "cell_type": "code",
   "execution_count": 3,
   "metadata": {},
   "outputs": [],
   "source": [
    "df = pd.read_csv(\"Infant_Mortality.csv\")"
   ]
  },
  {
   "cell_type": "markdown",
   "metadata": {},
   "source": [
    "## Display top 7 rows of the dataframe in your notebook"
   ]
  },
  {
   "cell_type": "code",
   "execution_count": 4,
   "metadata": {},
   "outputs": [
    {
     "data": {
      "text/html": [
       "<div>\n",
       "<style scoped>\n",
       "    .dataframe tbody tr th:only-of-type {\n",
       "        vertical-align: middle;\n",
       "    }\n",
       "\n",
       "    .dataframe tbody tr th {\n",
       "        vertical-align: top;\n",
       "    }\n",
       "\n",
       "    .dataframe thead th {\n",
       "        text-align: right;\n",
       "    }\n",
       "</style>\n",
       "<table border=\"1\" class=\"dataframe\">\n",
       "  <thead>\n",
       "    <tr style=\"text-align: right;\">\n",
       "      <th></th>\n",
       "      <th>Year</th>\n",
       "      <th>Materal Race or Ethnicity</th>\n",
       "      <th>Infant Mortality Rate</th>\n",
       "      <th>Neonatal Mortality Rate</th>\n",
       "      <th>Postneonatal Mortality Rate</th>\n",
       "      <th>Infant Deaths</th>\n",
       "      <th>Neonatal Infant Deaths</th>\n",
       "      <th>Postneonatal Infant Deaths</th>\n",
       "      <th>Number of Live Births</th>\n",
       "    </tr>\n",
       "  </thead>\n",
       "  <tbody>\n",
       "    <tr>\n",
       "      <th>0</th>\n",
       "      <td>2007</td>\n",
       "      <td>Black Non-Hispanic</td>\n",
       "      <td>9.8</td>\n",
       "      <td>6.0</td>\n",
       "      <td>3.8</td>\n",
       "      <td>287.0</td>\n",
       "      <td>177.0</td>\n",
       "      <td>110.0</td>\n",
       "      <td>29268</td>\n",
       "    </tr>\n",
       "    <tr>\n",
       "      <th>1</th>\n",
       "      <td>2013</td>\n",
       "      <td>Other Hispanic</td>\n",
       "      <td>4.3</td>\n",
       "      <td>2.6</td>\n",
       "      <td>1.7</td>\n",
       "      <td>120.0</td>\n",
       "      <td>72.0</td>\n",
       "      <td>48.0</td>\n",
       "      <td>27621</td>\n",
       "    </tr>\n",
       "    <tr>\n",
       "      <th>2</th>\n",
       "      <td>2013</td>\n",
       "      <td>Black Non-Hispanic</td>\n",
       "      <td>8.3</td>\n",
       "      <td>5.5</td>\n",
       "      <td>2.9</td>\n",
       "      <td>201.0</td>\n",
       "      <td>132.0</td>\n",
       "      <td>69.0</td>\n",
       "      <td>24108</td>\n",
       "    </tr>\n",
       "    <tr>\n",
       "      <th>3</th>\n",
       "      <td>2008</td>\n",
       "      <td>White Non-Hispanic</td>\n",
       "      <td>3.3</td>\n",
       "      <td>2.1</td>\n",
       "      <td>1.1</td>\n",
       "      <td>125.0</td>\n",
       "      <td>82.0</td>\n",
       "      <td>43.0</td>\n",
       "      <td>38383</td>\n",
       "    </tr>\n",
       "    <tr>\n",
       "      <th>4</th>\n",
       "      <td>2009</td>\n",
       "      <td>Black Non-Hispanic</td>\n",
       "      <td>9.5</td>\n",
       "      <td>5.8</td>\n",
       "      <td>3.7</td>\n",
       "      <td>259.0</td>\n",
       "      <td>158.0</td>\n",
       "      <td>101.0</td>\n",
       "      <td>27405</td>\n",
       "    </tr>\n",
       "    <tr>\n",
       "      <th>5</th>\n",
       "      <td>2010</td>\n",
       "      <td>Black Non-Hispanic</td>\n",
       "      <td>8.6</td>\n",
       "      <td>5.6</td>\n",
       "      <td>3.1</td>\n",
       "      <td>230.0</td>\n",
       "      <td>148.0</td>\n",
       "      <td>82.0</td>\n",
       "      <td>26635</td>\n",
       "    </tr>\n",
       "    <tr>\n",
       "      <th>6</th>\n",
       "      <td>2010</td>\n",
       "      <td>White Non-Hispanic</td>\n",
       "      <td>2.8</td>\n",
       "      <td>2.0</td>\n",
       "      <td>0.8</td>\n",
       "      <td>104.0</td>\n",
       "      <td>75.0</td>\n",
       "      <td>29.0</td>\n",
       "      <td>37780</td>\n",
       "    </tr>\n",
       "  </tbody>\n",
       "</table>\n",
       "</div>"
      ],
      "text/plain": [
       "   Year Materal Race or Ethnicity  Infant Mortality Rate  \\\n",
       "0  2007        Black Non-Hispanic                    9.8   \n",
       "1  2013            Other Hispanic                    4.3   \n",
       "2  2013        Black Non-Hispanic                    8.3   \n",
       "3  2008        White Non-Hispanic                    3.3   \n",
       "4  2009        Black Non-Hispanic                    9.5   \n",
       "5  2010        Black Non-Hispanic                    8.6   \n",
       "6  2010        White Non-Hispanic                    2.8   \n",
       "\n",
       "   Neonatal Mortality Rate  Postneonatal Mortality Rate  Infant Deaths  \\\n",
       "0                      6.0                          3.8          287.0   \n",
       "1                      2.6                          1.7          120.0   \n",
       "2                      5.5                          2.9          201.0   \n",
       "3                      2.1                          1.1          125.0   \n",
       "4                      5.8                          3.7          259.0   \n",
       "5                      5.6                          3.1          230.0   \n",
       "6                      2.0                          0.8          104.0   \n",
       "\n",
       "   Neonatal Infant Deaths  Postneonatal Infant Deaths  Number of Live Births  \n",
       "0                   177.0                       110.0                  29268  \n",
       "1                    72.0                        48.0                  27621  \n",
       "2                   132.0                        69.0                  24108  \n",
       "3                    82.0                        43.0                  38383  \n",
       "4                   158.0                       101.0                  27405  \n",
       "5                   148.0                        82.0                  26635  \n",
       "6                    75.0                        29.0                  37780  "
      ]
     },
     "execution_count": 4,
     "metadata": {},
     "output_type": "execute_result"
    }
   ],
   "source": [
    "df.head(7)"
   ]
  },
  {
   "cell_type": "markdown",
   "metadata": {},
   "source": [
    "## Count number of null values (if any) for each column"
   ]
  },
  {
   "cell_type": "code",
   "execution_count": 5,
   "metadata": {},
   "outputs": [
    {
     "data": {
      "text/plain": [
       "Year                            0\n",
       "Materal Race or Ethnicity       0\n",
       "Infant Mortality Rate          12\n",
       "Neonatal Mortality Rate        12\n",
       "Postneonatal Mortality Rate    14\n",
       "Infant Deaths                  12\n",
       "Neonatal Infant Deaths         12\n",
       "Postneonatal Infant Deaths     12\n",
       "Number of Live Births           0\n",
       "dtype: int64"
      ]
     },
     "execution_count": 5,
     "metadata": {},
     "output_type": "execute_result"
    }
   ],
   "source": [
    "df.isna().sum()"
   ]
  },
  {
   "cell_type": "code",
   "execution_count": 6,
   "metadata": {},
   "outputs": [],
   "source": [
    "df.dropna(inplace=True)"
   ]
  },
  {
   "cell_type": "code",
   "execution_count": 7,
   "metadata": {},
   "outputs": [
    {
     "name": "stdout",
     "output_type": "stream",
     "text": [
      "<class 'pandas.core.frame.DataFrame'>\n",
      "Int64Index: 53 entries, 0 to 64\n",
      "Data columns (total 9 columns):\n",
      "Year                           53 non-null int64\n",
      "Materal Race or Ethnicity      53 non-null object\n",
      "Infant Mortality Rate          53 non-null float64\n",
      "Neonatal Mortality Rate        53 non-null float64\n",
      "Postneonatal Mortality Rate    53 non-null float64\n",
      "Infant Deaths                  53 non-null float64\n",
      "Neonatal Infant Deaths         53 non-null float64\n",
      "Postneonatal Infant Deaths     53 non-null float64\n",
      "Number of Live Births          53 non-null int64\n",
      "dtypes: float64(6), int64(2), object(1)\n",
      "memory usage: 4.1+ KB\n"
     ]
    }
   ],
   "source": [
    "df.info()"
   ]
  },
  {
   "cell_type": "markdown",
   "metadata": {},
   "source": [
    "## Remove all but 2 numerical values columns of your choice and display the reducted dataframe."
   ]
  },
  {
   "cell_type": "code",
   "execution_count": 8,
   "metadata": {},
   "outputs": [],
   "source": [
    "df.drop(['Year', 'Materal Race or Ethnicity', 'Postneonatal Mortality Rate', 'Infant Deaths', \n",
    "'Neonatal Infant Deaths', 'Postneonatal Infant Deaths', 'Number of Live Births'], axis=1, inplace=True)"
   ]
  },
  {
   "cell_type": "code",
   "execution_count": 9,
   "metadata": {},
   "outputs": [
    {
     "data": {
      "text/html": [
       "<div>\n",
       "<style scoped>\n",
       "    .dataframe tbody tr th:only-of-type {\n",
       "        vertical-align: middle;\n",
       "    }\n",
       "\n",
       "    .dataframe tbody tr th {\n",
       "        vertical-align: top;\n",
       "    }\n",
       "\n",
       "    .dataframe thead th {\n",
       "        text-align: right;\n",
       "    }\n",
       "</style>\n",
       "<table border=\"1\" class=\"dataframe\">\n",
       "  <thead>\n",
       "    <tr style=\"text-align: right;\">\n",
       "      <th></th>\n",
       "      <th>Infant Mortality Rate</th>\n",
       "      <th>Neonatal Mortality Rate</th>\n",
       "    </tr>\n",
       "  </thead>\n",
       "  <tbody>\n",
       "    <tr>\n",
       "      <th>0</th>\n",
       "      <td>9.8</td>\n",
       "      <td>6.0</td>\n",
       "    </tr>\n",
       "    <tr>\n",
       "      <th>1</th>\n",
       "      <td>4.3</td>\n",
       "      <td>2.6</td>\n",
       "    </tr>\n",
       "    <tr>\n",
       "      <th>2</th>\n",
       "      <td>8.3</td>\n",
       "      <td>5.5</td>\n",
       "    </tr>\n",
       "    <tr>\n",
       "      <th>3</th>\n",
       "      <td>3.3</td>\n",
       "      <td>2.1</td>\n",
       "    </tr>\n",
       "    <tr>\n",
       "      <th>4</th>\n",
       "      <td>9.5</td>\n",
       "      <td>5.8</td>\n",
       "    </tr>\n",
       "  </tbody>\n",
       "</table>\n",
       "</div>"
      ],
      "text/plain": [
       "   Infant Mortality Rate  Neonatal Mortality Rate\n",
       "0                    9.8                      6.0\n",
       "1                    4.3                      2.6\n",
       "2                    8.3                      5.5\n",
       "3                    3.3                      2.1\n",
       "4                    9.5                      5.8"
      ]
     },
     "execution_count": 9,
     "metadata": {},
     "output_type": "execute_result"
    }
   ],
   "source": [
    "df.head()"
   ]
  },
  {
   "cell_type": "markdown",
   "metadata": {},
   "source": [
    "## Display the average, median, and standard deviation of each of your numerical columns"
   ]
  },
  {
   "cell_type": "code",
   "execution_count": 10,
   "metadata": {},
   "outputs": [
    {
     "data": {
      "text/html": [
       "<div>\n",
       "<style scoped>\n",
       "    .dataframe tbody tr th:only-of-type {\n",
       "        vertical-align: middle;\n",
       "    }\n",
       "\n",
       "    .dataframe tbody tr th {\n",
       "        vertical-align: top;\n",
       "    }\n",
       "\n",
       "    .dataframe thead th {\n",
       "        text-align: right;\n",
       "    }\n",
       "</style>\n",
       "<table border=\"1\" class=\"dataframe\">\n",
       "  <thead>\n",
       "    <tr style=\"text-align: right;\">\n",
       "      <th></th>\n",
       "      <th>Infant Mortality Rate</th>\n",
       "      <th>Neonatal Mortality Rate</th>\n",
       "    </tr>\n",
       "  </thead>\n",
       "  <tbody>\n",
       "    <tr>\n",
       "      <th>count</th>\n",
       "      <td>53.000000</td>\n",
       "      <td>53.000000</td>\n",
       "    </tr>\n",
       "    <tr>\n",
       "      <th>mean</th>\n",
       "      <td>5.041509</td>\n",
       "      <td>3.313208</td>\n",
       "    </tr>\n",
       "    <tr>\n",
       "      <th>std</th>\n",
       "      <td>2.271600</td>\n",
       "      <td>1.432727</td>\n",
       "    </tr>\n",
       "    <tr>\n",
       "      <th>min</th>\n",
       "      <td>2.400000</td>\n",
       "      <td>1.600000</td>\n",
       "    </tr>\n",
       "    <tr>\n",
       "      <th>25%</th>\n",
       "      <td>3.100000</td>\n",
       "      <td>2.100000</td>\n",
       "    </tr>\n",
       "    <tr>\n",
       "      <th>50%</th>\n",
       "      <td>4.300000</td>\n",
       "      <td>2.700000</td>\n",
       "    </tr>\n",
       "    <tr>\n",
       "      <th>75%</th>\n",
       "      <td>6.600000</td>\n",
       "      <td>4.500000</td>\n",
       "    </tr>\n",
       "    <tr>\n",
       "      <th>max</th>\n",
       "      <td>10.200000</td>\n",
       "      <td>6.500000</td>\n",
       "    </tr>\n",
       "  </tbody>\n",
       "</table>\n",
       "</div>"
      ],
      "text/plain": [
       "       Infant Mortality Rate  Neonatal Mortality Rate\n",
       "count              53.000000                53.000000\n",
       "mean                5.041509                 3.313208\n",
       "std                 2.271600                 1.432727\n",
       "min                 2.400000                 1.600000\n",
       "25%                 3.100000                 2.100000\n",
       "50%                 4.300000                 2.700000\n",
       "75%                 6.600000                 4.500000\n",
       "max                10.200000                 6.500000"
      ]
     },
     "execution_count": 10,
     "metadata": {},
     "output_type": "execute_result"
    }
   ],
   "source": [
    "df.describe()"
   ]
  },
  {
   "cell_type": "markdown",
   "metadata": {},
   "source": [
    "## Plot two of the numerical columns one against the other in a scatter plot"
   ]
  },
  {
   "cell_type": "code",
   "execution_count": 11,
   "metadata": {},
   "outputs": [
    {
     "data": {
      "image/png": "[encoded data removed]",
      "text/plain": [
       "<Figure size 432x288 with 1 Axes>"
      ]
     },
     "metadata": {
      "needs_background": "light"
     },
     "output_type": "display_data"
    },
    {
     "data": {
      "image/png": "[encoded data removed]",
      "text/plain": [
       "<Figure size 432x288 with 1 Axes>"
      ]
     },
     "metadata": {
      "needs_background": "light"
     },
     "output_type": "display_data"
    }
   ],
   "source": [
    "ax1 = df.plot.scatter(x='Infant Mortality Rate', y='Neonatal Mortality Rate', c='DarkBlue')\n",
    "ax2 = df.plot.scatter(x='Neonatal Mortality Rate', y='Infant Mortality Rate', c='cyan')"
   ]
  },
  {
   "cell_type": "markdown",
   "metadata": {},
   "source": [
    "## Plot the data distribution of all your numerical columns in histogram and boxplot"
   ]
  },
  {
   "cell_type": "code",
   "execution_count": 12,
   "metadata": {},
   "outputs": [
    {
     "data": {
      "image/png": "[encoded data removed]",
      "text/plain": [
       "<Figure size 720x360 with 2 Axes>"
      ]
     },
     "metadata": {
      "needs_background": "light"
     },
     "output_type": "display_data"
    }
   ],
   "source": [
    "data_hist_plot = df.hist(figsize = (10,5), color = \"orange\")"
   ]
  },
  {
   "cell_type": "code",
   "execution_count": 13,
   "metadata": {},
   "outputs": [
    {
     "data": {
      "image/png": "[encoded data removed]",
      "text/plain": [
       "<Figure size 432x288 with 1 Axes>"
      ]
     },
     "metadata": {
      "needs_background": "light"
     },
     "output_type": "display_data"
    }
   ],
   "source": [
    "box = sns.boxplot(data=df, orient=\"h\", palette=\"Set2\")"
   ]
  },
  {
   "cell_type": "markdown",
   "metadata": {},
   "source": [
    "## Create a new column in the same dataframe that is raised power of two of an existing column\n",
    "Example:\n",
    "![power_of_two](images/ex1.jpeg)\n"
   ]
  },
  {
   "cell_type": "code",
   "execution_count": 14,
   "metadata": {},
   "outputs": [],
   "source": [
    "df['Infant Mortality Rate^2']=np.power((df['Infant Mortality Rate']),2)\n",
    "df['Neonatal Mortality Rate^2']=np.power((df['Neonatal Mortality Rate']),2)"
   ]
  },
  {
   "cell_type": "code",
   "execution_count": 15,
   "metadata": {},
   "outputs": [
    {
     "data": {
      "text/html": [
       "<div>\n",
       "<style scoped>\n",
       "    .dataframe tbody tr th:only-of-type {\n",
       "        vertical-align: middle;\n",
       "    }\n",
       "\n",
       "    .dataframe tbody tr th {\n",
       "        vertical-align: top;\n",
       "    }\n",
       "\n",
       "    .dataframe thead th {\n",
       "        text-align: right;\n",
       "    }\n",
       "</style>\n",
       "<table border=\"1\" class=\"dataframe\">\n",
       "  <thead>\n",
       "    <tr style=\"text-align: right;\">\n",
       "      <th></th>\n",
       "      <th>Infant Mortality Rate</th>\n",
       "      <th>Neonatal Mortality Rate</th>\n",
       "      <th>Infant Mortality Rate^2</th>\n",
       "      <th>Neonatal Mortality Rate^2</th>\n",
       "    </tr>\n",
       "  </thead>\n",
       "  <tbody>\n",
       "    <tr>\n",
       "      <th>0</th>\n",
       "      <td>9.8</td>\n",
       "      <td>6.0</td>\n",
       "      <td>96.04</td>\n",
       "      <td>36.00</td>\n",
       "    </tr>\n",
       "    <tr>\n",
       "      <th>1</th>\n",
       "      <td>4.3</td>\n",
       "      <td>2.6</td>\n",
       "      <td>18.49</td>\n",
       "      <td>6.76</td>\n",
       "    </tr>\n",
       "    <tr>\n",
       "      <th>2</th>\n",
       "      <td>8.3</td>\n",
       "      <td>5.5</td>\n",
       "      <td>68.89</td>\n",
       "      <td>30.25</td>\n",
       "    </tr>\n",
       "    <tr>\n",
       "      <th>3</th>\n",
       "      <td>3.3</td>\n",
       "      <td>2.1</td>\n",
       "      <td>10.89</td>\n",
       "      <td>4.41</td>\n",
       "    </tr>\n",
       "    <tr>\n",
       "      <th>4</th>\n",
       "      <td>9.5</td>\n",
       "      <td>5.8</td>\n",
       "      <td>90.25</td>\n",
       "      <td>33.64</td>\n",
       "    </tr>\n",
       "  </tbody>\n",
       "</table>\n",
       "</div>"
      ],
      "text/plain": [
       "   Infant Mortality Rate  Neonatal Mortality Rate  Infant Mortality Rate^2  \\\n",
       "0                    9.8                      6.0                    96.04   \n",
       "1                    4.3                      2.6                    18.49   \n",
       "2                    8.3                      5.5                    68.89   \n",
       "3                    3.3                      2.1                    10.89   \n",
       "4                    9.5                      5.8                    90.25   \n",
       "\n",
       "   Neonatal Mortality Rate^2  \n",
       "0                      36.00  \n",
       "1                       6.76  \n",
       "2                      30.25  \n",
       "3                       4.41  \n",
       "4                      33.64  "
      ]
     },
     "execution_count": 15,
     "metadata": {},
     "output_type": "execute_result"
    }
   ],
   "source": [
    "df.head()"
   ]
  },
  {
   "cell_type": "markdown",
   "metadata": {},
   "source": [
    "# Citi Bike investigation\n",
    "![citi-bike](images/citibike.jpeg)\n",
    ">Citi Bike is the largest bike share program in the US, with 20,000 bikes and over 1,300 stations across Manhattan, Brooklyn, Queens, the Bronx and Jersey City. It was designed for quick trips with convenience in mind, and it’s a fun and affordable way to get around town."
   ]
  },
  {
   "cell_type": "markdown",
   "metadata": {},
   "source": [
    "## Choose a citibikes dataset (one or two months, earlier datasets are convenient because they are smaller)"
   ]
  },
  {
   "cell_type": "markdown",
   "metadata": {},
   "source": [
    "Example for downloading September 2017 Citibike data:\n",
    "```\n",
    "! month=201709\n",
    "! curl https://s3.amazonaws.com/tripdata/$month-citibike-tripdata.csv.zip >> $month-citibike-tripdata.csv.zip\n",
    "! unzip $month-citibike-tripdata.csv.zip\n",
    "```"
   ]
  },
  {
   "cell_type": "code",
   "execution_count": 16,
   "metadata": {},
   "outputs": [],
   "source": [
    "# Web scraping libraries\n",
    "import requests\n",
    "import urllib.request\n",
    "from bs4 import BeautifulSoup\n",
    "\n",
    "# Downloading, moving and unzipping files\n",
    "import webbrowser\n",
    "from time import sleep\n",
    "import shutil\n",
    "import os\n",
    "from zipfile import ZipFile\n",
    "\n",
    "# DataFrame exploration and manipulation\n",
    "import pandas as pd\n",
    "from glob import glob\n",
    "\n",
    "# PostgreSQL interaction\n",
    "# import psycopg2\n",
    "# import linecache\n",
    "# from psycopg2 import sql\n",
    "# from psycopg2 import Error\n",
    "# from psycopg2.extensions import ISOLATION_LEVEL_AUTOCOMMIT"
   ]
  },
  {
   "cell_type": "code",
   "execution_count": 17,
   "metadata": {},
   "outputs": [
    {
     "data": {
      "text/plain": [
       "<Response [200]>"
      ]
     },
     "execution_count": 17,
     "metadata": {},
     "output_type": "execute_result"
    }
   ],
   "source": [
    "url = 'https://s3.amazonaws.com/tripdata/'\n",
    "response = requests.get(url)\n",
    "response"
   ]
  },
  {
   "cell_type": "code",
   "execution_count": 18,
   "metadata": {},
   "outputs": [
    {
     "data": {
      "text/plain": [
       "<?xml version=\"1.0\" encoding=\"utf-8\"?>\n",
       "<ListBucketResult xmlns=\"http://s3.amazonaws.com/doc/2006-03-01/\"><Name>tripdata</Name><Prefix/><Marker/><MaxKeys>1000</MaxKeys><IsTruncated>false</IsTruncated><Contents><Key>201306-citibike-tripdata.zip</Key><LastModified>2018-04-30T13:18:55.000Z</LastModified><ETag>\"b520a12de58eea58a3586f89bfcfbd9d-2\"</ETag><Size>16785103</Size><StorageClass>STANDARD</StorageClass></Contents><Contents><Key>201307-201402-citibike-tripdata.zip</Key><LastModified>2017-01-18T22:23:25.000Z</LastModified><ETag>\"7b3b260b2ab2e5349320121d04bd821c-22\"</ETag><Size>178262576</Size><StorageClass>STANDARD</StorageClass></Contents><Contents><Key>201307-citibike-tripdata.zip</Key><LastModified>2017-01-18T22:23:27.000Z</LastModified><ETag>\"dd3e6fd5f91715b31eae72868086c08c-4\"</ETag><Size>27074629</Size><StorageClass>STANDARD</StorageClass></Contents><Contents><Key>201308-citibike-tripdata.zip</Key><LastModified>2017-01-18T22:23:27.000Z</LastModified><ETag>\"2f661063576734f614b9f1d6bba0ec59-4\"</ETag><Size>32090869</Size><StorageClass>STANDARD</StorageClass></Contents><Contents><Key>201309-citibike-tripdata.zip</Key><LastModified>2017-01-18T22:23:27.000Z</LastModified><ETag>\"a42f947db7bd14e423a7dbfbb11596a1-4\"</ETag><Size>33155593</Size><StorageClass>STANDARD</StorageClass></Contents><Contents><Key>201310-citibike-tripdata.zip</Key><LastModified>2017-01-18T22:23:28.000Z</LastModified><ETag>\"ba688008fa403b0f2e45cfe6371ac941-4\"</ETag><Size>33065440</Size><StorageClass>STANDARD</StorageClass></Contents><Contents><Key>201311-citibike-tripdata.zip</Key><LastModified>2017-01-18T22:23:28.000Z</LastModified><ETag>\"e1e69bfad0580b095d4ebaa8367dbe55-3\"</ETag><Size>21618143</Size><StorageClass>STANDARD</StorageClass></Contents><Contents><Key>201312-citibike-tripdata.zip</Key><LastModified>2017-01-18T22:23:28.000Z</LastModified><ETag>\"534482d30a07443756b7581312f6c118-2\"</ETag><Size>14314784</Size><StorageClass>STANDARD</StorageClass></Contents><Contents><Key>201401-citibike-tripdata.zip</Key><LastModified>2017-01-18T22:23:29.000Z</LastModified><ETag>\"9374b1f510f67f63e118b15231a2fa1f-2\"</ETag><Size>9697309</Size><StorageClass>STANDARD</StorageClass></Contents><Contents><Key>201402-citibike-tripdata.zip</Key><LastModified>2017-01-18T22:23:29.000Z</LastModified><ETag>\"bfd6bff90e0b763e3232468d14cc8281\"</ETag><Size>7245963</Size><StorageClass>STANDARD</StorageClass></Contents><Contents><Key>201403-citibike-tripdata.zip</Key><LastModified>2017-01-18T22:23:29.000Z</LastModified><ETag>\"5d0d63fa680d3d3448a3733c7480d75f-2\"</ETag><Size>14132272</Size><StorageClass>STANDARD</StorageClass></Contents><Contents><Key>201404-citibike-tripdata.zip</Key><LastModified>2017-01-18T22:23:29.000Z</LastModified><ETag>\"781f3944db1967a377d0688c5ba9846a-3\"</ETag><Size>21414350</Size><StorageClass>STANDARD</StorageClass></Contents><Contents><Key>201405-citibike-tripdata.zip</Key><LastModified>2017-01-18T22:23:29.000Z</LastModified><ETag>\"e5201dec0b4e77a604a4576d361b22fb-4\"</ETag><Size>27591572</Size><StorageClass>STANDARD</StorageClass></Contents><Contents><Key>201406-citibike-tripdata.zip</Key><LastModified>2017-01-18T22:23:29.000Z</LastModified><ETag>\"fdfdee31d451fa457b241117aabff7e5-4\"</ETag><Size>29902186</Size><StorageClass>STANDARD</StorageClass></Contents><Contents><Key>201407-citibike-tripdata.zip</Key><LastModified>2017-01-18T22:23:30.000Z</LastModified><ETag>\"bf419e04dbf6f39cd4a9d10f8723dc92-4\"</ETag><Size>30893375</Size><StorageClass>STANDARD</StorageClass></Contents><Contents><Key>201408-citibike-tripdata.zip</Key><LastModified>2017-01-18T22:23:30.000Z</LastModified><ETag>\"08b8d0f36c0f6deedaef5555115fb166-4\"</ETag><Size>30625219</Size><StorageClass>STANDARD</StorageClass></Contents><Contents><Key>201409-citibike-tripdata.zip</Key><LastModified>2017-01-18T22:23:30.000Z</LastModified><ETag>\"134e1a7180da1b3ede44a31b93c8b88b-4\"</ETag><Size>30254719</Size><StorageClass>STANDARD</StorageClass></Contents><Contents><Key>201410-citibike-tripdata.zip</Key><LastModified>2017-01-18T22:23:30.000Z</LastModified><ETag>\"86f1717b8d57bb54d70cb9effb76847d-4\"</ETag><Size>26154448</Size><StorageClass>STANDARD</StorageClass></Contents><Contents><Key>201411-citibike-tripdata.zip</Key><LastModified>2017-01-18T22:23:31.000Z</LastModified><ETag>\"57a5ca4902bc6d9aa7eb9fa05c2012ac-3\"</ETag><Size>16825916</Size><StorageClass>STANDARD</StorageClass></Contents><Contents><Key>201412-citibike-tripdata.zip</Key><LastModified>2017-01-18T22:23:31.000Z</LastModified><ETag>\"03df0ec93b039f6d3ffeb7d6ca53912b-2\"</ETag><Size>12724321</Size><StorageClass>STANDARD</StorageClass></Contents><Contents><Key>201501-citibike-tripdata.zip</Key><LastModified>2017-01-18T22:23:31.000Z</LastModified><ETag>\"1eed6b2f2edbc910e250a9f643ec6cdd\"</ETag><Size>7009614</Size><StorageClass>STANDARD</StorageClass></Contents><Contents><Key>201502-citibike-tripdata.zip</Key><LastModified>2017-01-18T22:23:31.000Z</LastModified><ETag>\"52e8a74caf221b6880078b67b4416016\"</ETag><Size>4821145</Size><StorageClass>STANDARD</StorageClass></Contents><Contents><Key>201503-citibike-tripdata.zip</Key><LastModified>2017-01-18T22:23:31.000Z</LastModified><ETag>\"15c197a8174fcba3d2d0f7805530e1bf-2\"</ETag><Size>8418470</Size><StorageClass>STANDARD</StorageClass></Contents><Contents><Key>201504-citibike-tripdata.zip</Key><LastModified>2017-01-18T22:23:31.000Z</LastModified><ETag>\"b05f9f28f9fddb54797ee9ba747d8199-3\"</ETag><Size>20741670</Size><StorageClass>STANDARD</StorageClass></Contents><Contents><Key>201505-citibike-tripdata.zip</Key><LastModified>2017-01-18T22:23:32.000Z</LastModified><ETag>\"4c26fa7a783a091630e0b868d32877d6-4\"</ETag><Size>30344940</Size><StorageClass>STANDARD</StorageClass></Contents><Contents><Key>201506-citibike-tripdata.zip</Key><LastModified>2017-01-18T22:23:32.000Z</LastModified><ETag>\"da58a79cccdd1cde88040eb3b86813bb-3\"</ETag><Size>22888858</Size><StorageClass>STANDARD</StorageClass></Contents><Contents><Key>201507-citibike-tripdata.zip</Key><LastModified>2017-01-18T22:23:32.000Z</LastModified><ETag>\"43263c09d2cfb5f04814d3584b8ddf19-5\"</ETag><Size>34518665</Size><StorageClass>STANDARD</StorageClass></Contents><Contents><Key>201508-citibike-tripdata.zip</Key><LastModified>2017-01-18T22:23:33.000Z</LastModified><ETag>\"9f7c5f303b929aabcbb7d1a6b570730d-5\"</ETag><Size>38041594</Size><StorageClass>STANDARD</StorageClass></Contents><Contents><Key>201509-citibike-tripdata.zip</Key><LastModified>2017-01-18T22:23:33.000Z</LastModified><ETag>\"ddf49d81c04409ca97ffa6f94a820ee4-6\"</ETag><Size>43618303</Size><StorageClass>STANDARD</StorageClass></Contents><Contents><Key>201510-citibike-tripdata.zip</Key><LastModified>2017-01-18T22:23:34.000Z</LastModified><ETag>\"30f3bde775cdf2e4046db407b3a6ef7e-5\"</ETag><Size>41817833</Size><StorageClass>STANDARD</StorageClass></Contents><Contents><Key>201511-citibike-tripdata.zip</Key><LastModified>2017-01-18T22:23:34.000Z</LastModified><ETag>\"0ebee9695eeffbb380bbf3317c351723-5\"</ETag><Size>34354395</Size><StorageClass>STANDARD</StorageClass></Contents><Contents><Key>201512-citibike-tripdata.zip</Key><LastModified>2017-01-18T22:23:35.000Z</LastModified><ETag>\"c730c06cf892a9a03f5ea6ac795df245-3\"</ETag><Size>23145783</Size><StorageClass>STANDARD</StorageClass></Contents><Contents><Key>201601-citibike-tripdata.zip</Key><LastModified>2017-01-18T22:23:35.000Z</LastModified><ETag>\"5b358cae0d810c608f80d01ff78c924a-3\"</ETag><Size>17794115</Size><StorageClass>STANDARD</StorageClass></Contents><Contents><Key>201602-citibike-tripdata.zip</Key><LastModified>2017-01-18T22:23:35.000Z</LastModified><ETag>\"374964e8178459647434063a1795fd13-3\"</ETag><Size>19673400</Size><StorageClass>STANDARD</StorageClass></Contents><Contents><Key>201603-citibike-tripdata.zip</Key><LastModified>2017-01-18T22:23:36.000Z</LastModified><ETag>\"13fc1b0ff6e650f9df24884254b7427d-4\"</ETag><Size>26448564</Size><StorageClass>STANDARD</StorageClass></Contents><Contents><Key>201604-citibike-tripdata.zip</Key><LastModified>2017-01-18T22:23:36.000Z</LastModified><ETag>\"9c3455cc6ba242839a5718cac8b3bfa2-5\"</ETag><Size>35499519</Size><StorageClass>STANDARD</StorageClass></Contents><Contents><Key>201605-citibike-tripdata.zip</Key><LastModified>2017-01-18T22:23:36.000Z</LastModified><ETag>\"a67d8f63a4ef956714a686bf759040bd-6\"</ETag><Size>42455227</Size><StorageClass>STANDARD</StorageClass></Contents><Contents><Key>201606-citibike-tripdata.zip</Key><LastModified>2017-01-18T22:23:37.000Z</LastModified><ETag>\"31b14fa78c2591925b7b9d0d8d643f39-7\"</ETag><Size>51457520</Size><StorageClass>STANDARD</StorageClass></Contents><Contents><Key>201607-citibike-tripdata.zip</Key><LastModified>2017-01-18T22:23:38.000Z</LastModified><ETag>\"0d3af64944f9535abf396a96d5795147-6\"</ETag><Size>48814309</Size><StorageClass>STANDARD</StorageClass></Contents><Contents><Key>201608-citibike-tripdata.zip</Key><LastModified>2017-01-18T22:23:39.000Z</LastModified><ETag>\"dd0649256a52e2e4039cd494a52fff0f-7\"</ETag><Size>56054239</Size><StorageClass>STANDARD</StorageClass></Contents><Contents><Key>201609-citibike-tripdata.zip</Key><LastModified>2017-01-18T22:23:40.000Z</LastModified><ETag>\"4485c06095657f3ef7da0ff9302b5b19-8\"</ETag><Size>60817146</Size><StorageClass>STANDARD</StorageClass></Contents><Contents><Key>201610-citibike-tripdata.zip</Key><LastModified>2017-01-23T14:25:28.000Z</LastModified><ETag>\"a84bade59fd26ad49ef93af9ce2cd52a\"</ETag><Size>52917646</Size><StorageClass>STANDARD</StorageClass></Contents><Contents><Key>201611-citibike-tripdata.zip</Key><LastModified>2017-01-23T14:25:18.000Z</LastModified><ETag>\"880cfc30d95ba9525593375d38bf05a6\"</ETag><Size>40309396</Size><StorageClass>STANDARD</StorageClass></Contents><Contents><Key>201612-citibike-tripdata.zip</Key><LastModified>2017-01-23T14:25:24.000Z</LastModified><ETag>\"03e20a299cedb824da4ec06146b6bf03\"</ETag><Size>27546951</Size><StorageClass>STANDARD</StorageClass></Contents><Contents><Key>201701-citibike-tripdata.csv.zip</Key><LastModified>2017-04-06T21:01:05.000Z</LastModified><ETag>\"07f0bf735465bdcc98b88941695a5996-3\"</ETag><Size>24252143</Size><StorageClass>STANDARD</StorageClass></Contents><Contents><Key>201702-citibike-tripdata.csv.zip</Key><LastModified>2017-04-06T21:01:14.000Z</LastModified><ETag>\"ffe3cd2c33d82f96991eae69aef833a9-4\"</ETag><Size>26345821</Size><StorageClass>STANDARD</StorageClass></Contents><Contents><Key>201703-citibike-tripdata.csv.zip</Key><LastModified>2017-04-06T21:01:25.000Z</LastModified><ETag>\"212ccae72dff7fe43530c987e3d43050-3\"</ETag><Size>24167719</Size><StorageClass>STANDARD</StorageClass></Contents><Contents><Key>201704-citibike-tripdata.csv.zip</Key><LastModified>2017-08-01T16:16:58.000Z</LastModified><ETag>\"0c5a3de95ce45cc9d50fce5a6819dde1-6\"</ETag><Size>45080546</Size><StorageClass>STANDARD</StorageClass></Contents><Contents><Key>201705-citibike-tripdata.csv.zip</Key><LastModified>2017-08-01T16:17:14.000Z</LastModified><ETag>\"c8da677e23e7fd94fe4fdc8b79728a45-7\"</ETag><Size>52672403</Size><StorageClass>STANDARD</StorageClass></Contents><Contents><Key>201706-citibike-tripdata.csv.zip</Key><LastModified>2017-08-01T16:17:25.000Z</LastModified><ETag>\"50b163a2a764b416dc2ffbfe2a09607d-8\"</ETag><Size>60394834</Size><StorageClass>STANDARD</StorageClass></Contents><Contents><Key>201707-citibike-tripdata.csv.zip</Key><LastModified>2017-08-01T16:17:42.000Z</LastModified><ETag>\"74ffbf191c811d5805f0675d78375878-8\"</ETag><Size>60552358</Size><StorageClass>STANDARD</StorageClass></Contents><Contents><Key>201708-citibike-tripdata.csv.zip</Key><LastModified>2017-10-03T15:52:50.000Z</LastModified><ETag>\"a56eaefeea62ac85ef30485731e03161-4\"</ETag><Size>63277904</Size><StorageClass>STANDARD</StorageClass></Contents><Contents><Key>201709-citibike-tripdata.csv.zip</Key><LastModified>2017-10-03T15:52:58.000Z</LastModified><ETag>\"6e453ea73b4e068d9e50652a9ce80110-4\"</ETag><Size>65875226</Size><StorageClass>STANDARD</StorageClass></Contents><Contents><Key>201710-citibike-tripdata.csv.zip</Key><LastModified>2018-01-31T21:14:57.000Z</LastModified><ETag>\"7d399222cc1e0fc7eed2152cef0c70be-5\"</ETag><Size>67606081</Size><StorageClass>STANDARD</StorageClass></Contents><Contents><Key>201711-citibike-tripdata.csv.zip</Key><LastModified>2018-01-31T21:15:07.000Z</LastModified><ETag>\"4df818143c4e832c8067375cc2d5f346-3\"</ETag><Size>47767828</Size><StorageClass>STANDARD</StorageClass></Contents><Contents><Key>201712-citibike-tripdata.csv.zip</Key><LastModified>2018-01-31T21:15:13.000Z</LastModified><ETag>\"9be1866c1dd6dd0f88e7181964cea52d-2\"</ETag><Size>32096921</Size><StorageClass>STANDARD</StorageClass></Contents><Contents><Key>201801-citibike-tripdata.csv.zip</Key><LastModified>2018-09-06T18:44:00.000Z</LastModified><ETag>\"e82b7438b7057052afff71b3941e98b8-2\"</ETag><Size>23243282</Size><StorageClass>STANDARD</StorageClass></Contents><Contents><Key>201802-citibike-tripdata.csv.zip</Key><LastModified>2018-09-06T18:44:02.000Z</LastModified><ETag>\"e9b3c1de5effe60539a11e31438d5760-2\"</ETag><Size>27445342</Size><StorageClass>STANDARD</StorageClass></Contents><Contents><Key>201803-citibike-tripdata.csv.zip</Key><LastModified>2018-09-06T18:44:06.000Z</LastModified><ETag>\"58e1a32bf1c7da71d323871451464751-2\"</ETag><Size>31772071</Size><StorageClass>STANDARD</StorageClass></Contents><Contents><Key>201804-citibike-tripdata.csv.zip</Key><LastModified>2018-09-06T18:44:09.000Z</LastModified><ETag>\"4d2f0b19de8e06a35cb836e1549f94fd-3\"</ETag><Size>42777120</Size><StorageClass>STANDARD</StorageClass></Contents><Contents><Key>201805-citibike-tripdata.csv.zip</Key><LastModified>2018-09-06T18:44:14.000Z</LastModified><ETag>\"9fb1051c486c1ab71f8456bf06dee1e6-4\"</ETag><Size>60398070</Size><StorageClass>STANDARD</StorageClass></Contents><Contents><Key>201806-citibike-tripdata.csv.zip</Key><LastModified>2018-09-06T18:44:22.000Z</LastModified><ETag>\"c1e29d3ceec436f6022258ec148e0868-4\"</ETag><Size>64676423</Size><StorageClass>STANDARD</StorageClass></Contents><Contents><Key>201807-citibike-tripdata.csv.zip</Key><LastModified>2018-09-06T18:44:30.000Z</LastModified><ETag>\"e20638783252b55c824a6fd107e9e4a3-4\"</ETag><Size>63141848</Size><StorageClass>STANDARD</StorageClass></Contents><Contents><Key>201808-citibike-tripdata.csv.zip</Key><LastModified>2018-09-12T18:57:00.000Z</LastModified><ETag>\"75f3f724354d80bbc1df56a7b7027615-6\"</ETag><Size>84330202</Size><StorageClass>STANDARD</StorageClass></Contents><Contents><Key>201809-citibike-tripdata.csv.zip</Key><LastModified>2018-10-03T18:48:03.000Z</LastModified><ETag>\"33d763b77abaca376ec864cf72fd85b0-5\"</ETag><Size>80091394</Size><StorageClass>STANDARD</StorageClass></Contents><Contents><Key>201810-citibike-tripdata.csv.zip</Key><LastModified>2018-11-07T19:43:33.000Z</LastModified><ETag>\"6a47664959f92a7dc5c2fd3f3eeea032-5\"</ETag><Size>79982702</Size><StorageClass>STANDARD</StorageClass></Contents><Contents><Key>201811-citibike-tripdata.csv.zip</Key><LastModified>2018-12-04T16:27:25.000Z</LastModified><ETag>\"2ed5f0212ce2a21b2e85efcce8fc8dd6-7\"</ETag><Size>53731674</Size><StorageClass>STANDARD</StorageClass></Contents><Contents><Key>201812-citibike-tripdata.csv.zip</Key><LastModified>2019-01-08T20:51:08.000Z</LastModified><ETag>\"39ca7a69e73e64036301db8ea801059e-6\"</ETag><Size>43605212</Size><StorageClass>STANDARD</StorageClass></Contents><Contents><Key>201901-citibike-tripdata.csv.zip</Key><LastModified>2019-02-11T14:43:30.000Z</LastModified><ETag>\"2834834164e0f52c3841cc1b0f81ada9-5\"</ETag><Size>41467182</Size><StorageClass>STANDARD</StorageClass></Contents><Contents><Key>201902-citibike-tripdata.csv.zip</Key><LastModified>2019-03-04T16:21:38.000Z</LastModified><ETag>\"de3b0cc72158b1eb0048445dd3344c88-5\"</ETag><Size>40466165</Size><StorageClass>STANDARD</StorageClass></Contents><Contents><Key>201903-citibike-tripdata.csv.zip</Key><LastModified>2019-04-15T18:34:41.000Z</LastModified><ETag>\"8506f8fdb6db709de9fa5923f47ddd72-7\"</ETag><Size>57199131</Size><StorageClass>STANDARD</StorageClass></Contents><Contents><Key>201904-citibike-tripdata.csv.zip</Key><LastModified>2019-05-06T19:07:32.000Z</LastModified><ETag>\"58de1a81266f0635cc60bfcfd6506feb-9\"</ETag><Size>75703003</Size><StorageClass>STANDARD</StorageClass></Contents><Contents><Key>201905-citibike-tripdata.csv.zip</Key><LastModified>2019-06-11T19:37:54.000Z</LastModified><ETag>\"0552361e26e8fa6cb34780bb6b517588-10\"</ETag><Size>82176801</Size><StorageClass>STANDARD</StorageClass></Contents><Contents><Key>201906-citibike-tripdata.csv.zip</Key><LastModified>2019-07-15T17:42:08.000Z</LastModified><ETag>\"4b9c70d4a34e075fe6f6e30b1f5c6827-6\"</ETag><Size>91078031</Size><StorageClass>STANDARD</StorageClass></Contents><Contents><Key>201907-citibike-tripdata.csv.zip</Key><LastModified>2019-08-05T21:34:01.000Z</LastModified><ETag>\"9eaf6d25e73508815c08bd0d09661385-6\"</ETag><Size>93359147</Size><StorageClass>STANDARD</StorageClass></Contents><Contents><Key>201908-citibike-tripdata.csv.zip</Key><LastModified>2019-09-18T20:33:14.000Z</LastModified><ETag>\"6c63755f110671e477130c86c81c4f8f-6\"</ETag><Size>100021943</Size><StorageClass>STANDARD</StorageClass></Contents><Contents><Key>201909-citibike-tripdata.csv.zip</Key><LastModified>2019-10-11T19:42:04.000Z</LastModified><ETag>\"6a359e103229b5fc639df4288333955e-7\"</ETag><Size>104185546</Size><StorageClass>STANDARD</StorageClass></Contents><Contents><Key>201910-citibike-tripdata.csv.zip</Key><LastModified>2019-11-05T22:10:55.000Z</LastModified><ETag>\"4a7316be1333adc40d6e2f4d62c9398b-6\"</ETag><Size>89195648</Size><StorageClass>STANDARD</StorageClass></Contents><Contents><Key>201911-citibike-tripdata.csv.zip</Key><LastModified>2019-12-20T18:44:54.000Z</LastModified><ETag>\"cf2ceba8040d51832f25c701165af044-4\"</ETag><Size>63195929</Size><StorageClass>STANDARD</StorageClass></Contents><Contents><Key>201912-citibike-tripdata.csv.zip</Key><LastModified>2020-01-21T21:23:32.000Z</LastModified><ETag>\"706907c268fcf83a0779b3de1fe5536a-3\"</ETag><Size>41083888</Size><StorageClass>STANDARD</StorageClass></Contents><Contents><Key>202001-citibike-tripdata.csv.zip</Key><LastModified>2020-02-04T19:05:46.000Z</LastModified><ETag>\"18e2f76d448079849c7461b7145597ee-4\"</ETag><Size>53473358</Size><StorageClass>STANDARD</StorageClass></Contents><Contents><Key>202002-citibike-tripdata.csv.zip</Key><LastModified>2020-03-24T20:07:44.000Z</LastModified><ETag>\"292e9bf75561d1936a8ddedebabd0907-3\"</ETag><Size>49514434</Size><StorageClass>STANDARD</StorageClass></Contents><Contents><Key>202003-citibike-tripdata.csv.zip</Key><LastModified>2020-04-17T23:58:01.000Z</LastModified><ETag>\"0ea9dc0fb3226200da261ca43b8687d5-3\"</ETag><Size>46657798</Size><StorageClass>STANDARD</StorageClass></Contents><Contents><Key>202004-citibike-tripdata.csv.zip</Key><LastModified>2020-05-27T00:18:14.000Z</LastModified><ETag>\"965c659721b49ed4559a28b79b51d1a9-2\"</ETag><Size>30120835</Size><StorageClass>STANDARD</StorageClass></Contents><Contents><Key>202005-citibike-tripdata.csv.zip</Key><LastModified>2020-06-05T16:09:37.000Z</LastModified><ETag>\"650abda0a8e62b265bc960a7daf19410-4\"</ETag><Size>65378700</Size><StorageClass>STANDARD</StorageClass></Contents><Contents><Key>202006-citibike-tripdata.csv.zip</Key><LastModified>2020-07-06T00:37:43.000Z</LastModified><ETag>\"a2750991bca1b0bd6aa3ecc185ecfefe-5\"</ETag><Size>83399305</Size><StorageClass>STANDARD</StorageClass></Contents><Contents><Key>202007-citibike-tripdata.csv.zip</Key><LastModified>2020-08-12T02:13:25.000Z</LastModified><ETag>\"e20dea3a394088fed3b9ba33d30dc756-6\"</ETag><Size>94091098</Size><StorageClass>STANDARD</StorageClass></Contents><Contents><Key>202008-citibike-tripdata.csv.zip</Key><LastModified>2020-09-04T19:37:28.000Z</LastModified><ETag>\"b95ad35f4aba6e7aff2f15e7a06c65f3-7\"</ETag><Size>104256804</Size><StorageClass>STANDARD</StorageClass></Contents><Contents><Key>202009-citibike-tripdata.csv.zip</Key><LastModified>2020-10-13T19:55:55.000Z</LastModified><ETag>\"8eb9cb0b22b688d689cb2d0df1a513de-7\"</ETag><Size>111931985</Size><StorageClass>STANDARD</StorageClass></Contents><Contents><Key>202010-citibike-tripdata.csv.zip</Key><LastModified>2020-11-04T14:51:10.000Z</LastModified><ETag>\"1984649779c289f31e90a9cac42aab5d-6\"</ETag><Size>101843579</Size><StorageClass>STANDARD</StorageClass></Contents><Contents><Key>202011-citibike-tripdata.csv.zip</Key><LastModified>2020-12-04T23:26:03.000Z</LastModified><ETag>\"e232da26873706f68ab66de8cea01f18-5\"</ETag><Size>78691946</Size><StorageClass>STANDARD</StorageClass></Contents><Contents><Key>202012-citibike-tripdata.csv.zip</Key><LastModified>2021-01-05T14:25:44.000Z</LastModified><ETag>\"05a785d765fd866f4962c57cd01b74d0-3\"</ETag><Size>49547377</Size><StorageClass>STANDARD</StorageClass></Contents><Contents><Key>202101-citibike-tripdata.csv.zip</Key><LastModified>2021-02-08T15:11:26.000Z</LastModified><ETag>\"d14e4c41cfb30847f3c86b01aa6096a2-3\"</ETag><Size>50120830</Size><StorageClass>STANDARD</StorageClass></Contents><Contents><Key>202102-citibike-tripdata.csv.zip</Key><LastModified>2021-06-11T17:23:12.000Z</LastModified><ETag>\"3c2b9e2a9d96b18adb775caa813f6b17-2\"</ETag><Size>21182933</Size><StorageClass>STANDARD</StorageClass></Contents><Contents><Key>202103-citibike-tripdata.csv.zip</Key><LastModified>2021-06-11T17:23:12.000Z</LastModified><ETag>\"88b6db6e77d71c6d236d5c56cd238f41-3\"</ETag><Size>50543049</Size><StorageClass>STANDARD</StorageClass></Contents><Contents><Key>202104-citibike-tripdata.csv.zip</Key><LastModified>2021-06-11T17:23:12.000Z</LastModified><ETag>\"5ffba3e9c58d425f1bbe44379c0ba59a-4\"</ETag><Size>64779108</Size><StorageClass>STANDARD</StorageClass></Contents><Contents><Key>202105-citibike-tripdata.csv.zip</Key><LastModified>2021-06-11T17:23:12.000Z</LastModified><ETag>\"88995b25f3947fe538127e48ead45c8f-5\"</ETag><Size>79385276</Size><StorageClass>STANDARD</StorageClass></Contents><Contents><Key>202106-citibike-tripdata.csv.zip</Key><LastModified>2021-07-15T23:26:32.000Z</LastModified><ETag>\"bc5c210b645736897c9d4d3979a03aee-7\"</ETag><Size>114530274</Size><StorageClass>STANDARD</StorageClass></Contents><Contents><Key>202107-citibike-tripdata.csv.zip</Key><LastModified>2021-08-14T06:12:05.000Z</LastModified><ETag>\"f3b3cbc2ae5ba547f038164c9e960989-6\"</ETag><Size>97344649</Size><StorageClass>STANDARD</StorageClass></Contents><Contents><Key>202108-citibike-tripdata.csv.zip</Key><LastModified>2021-09-08T18:52:43.000Z</LastModified><ETag>\"6750a7bde5f72145d7a53eeea9bf9bf7-7\"</ETag><Size>106392985</Size><StorageClass>STANDARD</StorageClass></Contents><Contents><Key>202109-citibike-tripdata.csv.zip</Key><LastModified>2021-10-04T17:26:29.000Z</LastModified><ETag>\"ee57b5f09c5b162345adc3dbd713bbe8-7\"</ETag><Size>112049194</Size><StorageClass>STANDARD</StorageClass></Contents><Contents><Key>202110-citibike-tripdata.csv.zip</Key><LastModified>2021-11-05T13:20:06.000Z</LastModified><ETag>\"9734eee8e012b124406fe9ed9b0e855c-6\"</ETag><Size>102725870</Size><StorageClass>STANDARD</StorageClass></Contents><Contents><Key>JC-201509-citibike-tripdata.csv.zip</Key><LastModified>2017-04-06T21:01:34.000Z</LastModified><ETag>\"857f36b80cde633c2dab5d8f7485b4f1\"</ETag><Size>127657</Size><StorageClass>STANDARD</StorageClass></Contents><Contents><Key>JC-201510-citibike-tripdata.csv.zip</Key><LastModified>2017-04-06T21:01:35.000Z</LastModified><ETag>\"f0f80e2462bcb30aed2c3d13203b2047\"</ETag><Size>366062</Size><StorageClass>STANDARD</StorageClass></Contents><Contents><Key>JC-201511-citibike-tripdata.csv.zip</Key><LastModified>2017-04-06T21:01:37.000Z</LastModified><ETag>\"35dc13c5825bec76abc928cc669329ad\"</ETag><Size>288054</Size><StorageClass>STANDARD</StorageClass></Contents><Contents><Key>JC-201512-citibike-tripdata.csv.zip</Key><LastModified>2017-04-06T21:01:38.000Z</LastModified><ETag>\"6ceb3e880db303d525877cc2abff5b75\"</ETag><Size>227741</Size><StorageClass>STANDARD</StorageClass></Contents><Contents><Key>JC-201601-citibike-tripdata.csv.zip</Key><LastModified>2017-04-06T21:01:38.000Z</LastModified><ETag>\"4d1b862592ddbc8c73af1166d24df971\"</ETag><Size>144314</Size><StorageClass>STANDARD</StorageClass></Contents><Contents><Key>JC-201602-citibike-tripdata.csv.zip</Key><LastModified>2017-04-06T21:01:38.000Z</LastModified><ETag>\"f348433da2c7ecb9c3728230efb9bbb7\"</ETag><Size>159787</Size><StorageClass>STANDARD</StorageClass></Contents><Contents><Key>JC-201603-citibike-tripdata.csv.zip</Key><LastModified>2017-04-06T21:01:39.000Z</LastModified><ETag>\"2c7aad6a59d31fa56951b80417131748\"</ETag><Size>259577</Size><StorageClass>STANDARD</StorageClass></Contents><Contents><Key>JC-201604-citibike-tripdata.csv.zip</Key><LastModified>2017-04-06T21:01:39.000Z</LastModified><ETag>\"f158870fad2a154690394553d20037ec\"</ETag><Size>311199</Size><StorageClass>STANDARD</StorageClass></Contents><Contents><Key>JC-201605-citibike-tripdata.csv.zip</Key><LastModified>2017-04-06T21:01:40.000Z</LastModified><ETag>\"8dec52dc3ba61b9d19861ede6a9e81cb\"</ETag><Size>369535</Size><StorageClass>STANDARD</StorageClass></Contents><Contents><Key>JC-201606-citibike-tripdata.csv.zip</Key><LastModified>2017-04-06T21:01:40.000Z</LastModified><ETag>\"46fcef1816baefcf001d8becf0d845e7\"</ETag><Size>452907</Size><StorageClass>STANDARD</StorageClass></Contents><Contents><Key>JC-201607-citibike-tripdata.csv.zip</Key><LastModified>2017-04-06T21:01:41.000Z</LastModified><ETag>\"f9916a0482e1e9fec479f002b7ff6629\"</ETag><Size>465773</Size><StorageClass>STANDARD</StorageClass></Contents><Contents><Key>JC-201608-citibike-tripdata.csv.zip</Key><LastModified>2017-04-06T21:01:41.000Z</LastModified><ETag>\"8d39f010fd0442c60ea96eb684701b7a\"</ETag><Size>666337</Size><StorageClass>STANDARD</StorageClass></Contents><Contents><Key>JC-201609-citibike-tripdata.csv.zip</Key><LastModified>2017-04-06T21:01:42.000Z</LastModified><ETag>\"5b09bea854ab2d6bcedf86e38385a76e\"</ETag><Size>652630</Size><StorageClass>STANDARD</StorageClass></Contents><Contents><Key>JC-201610-citibike-tripdata.csv.zip</Key><LastModified>2017-04-06T21:01:42.000Z</LastModified><ETag>\"9f85aa7b937d472fbce0548183bdc120\"</ETag><Size>581361</Size><StorageClass>STANDARD</StorageClass></Contents><Contents><Key>JC-201611-citibike-tripdata.csv.zip</Key><LastModified>2017-04-06T21:01:43.000Z</LastModified><ETag>\"a57d34785c989b88c3de53a9b173541d\"</ETag><Size>434377</Size><StorageClass>STANDARD</StorageClass></Contents><Contents><Key>JC-201612-citibike-tripdata.csv.zip</Key><LastModified>2017-04-06T21:01:43.000Z</LastModified><ETag>\"5e5420dbbde9bff736c43e755a9a0fc4\"</ETag><Size>304997</Size><StorageClass>STANDARD</StorageClass></Contents><Contents><Key>JC-201701-citibike-tripdata.csv.zip</Key><LastModified>2017-04-06T21:01:43.000Z</LastModified><ETag>\"154e45cac095ee5e2a6b2ca78c335a99\"</ETag><Size>260769</Size><StorageClass>STANDARD</StorageClass></Contents><Contents><Key>JC-201702-citibike-tripdata.csv.zip</Key><LastModified>2017-04-06T21:01:44.000Z</LastModified><ETag>\"4d63b31d2d92a5c6b60bc5d79cadb6f6\"</ETag><Size>281945</Size><StorageClass>STANDARD</StorageClass></Contents><Contents><Key>JC-201703-citibike-tripdata.csv.zip</Key><LastModified>2017-04-06T21:01:44.000Z</LastModified><ETag>\"eb9b695532fa446fc70a5c5c35a122a8\"</ETag><Size>246627</Size><StorageClass>STANDARD</StorageClass></Contents><Contents><Key>JC-201704-citibike-tripdata.csv.zip</Key><LastModified>2017-08-01T16:20:54.000Z</LastModified><ETag>\"6a08beb15c4cec87becf5f7bf381c216\"</ETag><Size>442528</Size><StorageClass>STANDARD</StorageClass></Contents><Contents><Key>JC-201705-citibike-tripdata.csv.zip</Key><LastModified>2017-08-01T16:20:55.000Z</LastModified><ETag>\"d6ab53a4475364a23413a07901888bcb\"</ETag><Size>541466</Size><StorageClass>STANDARD</StorageClass></Contents><Contents><Key>JC-201706-citibike-tripdata.csv.zip</Key><LastModified>2017-08-01T16:20:56.000Z</LastModified><ETag>\"47126b22da448fe4a54315763dfe53cb\"</ETag><Size>662240</Size><StorageClass>STANDARD</StorageClass></Contents><Contents><Key>JC-201707-citibike-tripdata.csv.zip</Key><LastModified>2017-08-01T16:20:57.000Z</LastModified><ETag>\"2ed44308399d4f88dc03875880e46dd8\"</ETag><Size>692715</Size><StorageClass>STANDARD</StorageClass></Contents><Contents><Key>JC-201708 citibike-tripdata.csv.zip</Key><LastModified>2017-10-03T15:52:49.000Z</LastModified><ETag>\"01266afee17f7f69cb2ff83bccd83bda\"</ETag><Size>727994</Size><StorageClass>STANDARD</StorageClass></Contents><Contents><Key>JC-201709-citibike-tripdata.csv.zip</Key><LastModified>2017-10-03T15:52:49.000Z</LastModified><ETag>\"e79ddb4fcc2d9eb50b9b2d26ab8905b4\"</ETag><Size>683286</Size><StorageClass>STANDARD</StorageClass></Contents><Contents><Key>JC-201710-citibike-tripdata.csv.zip</Key><LastModified>2018-01-31T21:15:18.000Z</LastModified><ETag>\"a307814b20dd3382473e4a7b1658e308\"</ETag><Size>720077</Size><StorageClass>STANDARD</StorageClass></Contents><Contents><Key>JC-201711-citibike-tripdata.csv.zip</Key><LastModified>2018-01-31T21:15:19.000Z</LastModified><ETag>\"f89c3a52e4572339c4a57c361bebd5e5\"</ETag><Size>488743</Size><StorageClass>STANDARD</StorageClass></Contents><Contents><Key>JC-201712-citibike-tripdata.csv.zip</Key><LastModified>2018-01-31T21:15:19.000Z</LastModified><ETag>\"31c75e2eaf297f5c2ec907da6eca4b72\"</ETag><Size>331501</Size><StorageClass>STANDARD</StorageClass></Contents><Contents><Key>JC-201801-citibike-tripdata.csv.zip</Key><LastModified>2018-09-06T18:44:38.000Z</LastModified><ETag>\"fdc9be581c57ffd3735b6b2a73a95716\"</ETag><Size>335740</Size><StorageClass>STANDARD</StorageClass></Contents><Contents><Key>JC-201802-citibike-tripdata.csv.zip</Key><LastModified>2018-09-06T18:44:38.000Z</LastModified><ETag>\"c6c4d02299ebe35450b55ba6a20d0042\"</ETag><Size>397953</Size><StorageClass>STANDARD</StorageClass></Contents><Contents><Key>JC-201803-citibike-tripdata.csv.zip</Key><LastModified>2018-09-06T18:44:39.000Z</LastModified><ETag>\"92ce13052e8d0c883c9744bfdfd0830f\"</ETag><Size>453590</Size><StorageClass>STANDARD</StorageClass></Contents><Contents><Key>JC-201804-citibike-tripdata.csv.zip</Key><LastModified>2018-09-06T18:44:39.000Z</LastModified><ETag>\"cd39b12d96bb903e7f0ac7448bab4370\"</ETag><Size>628954</Size><StorageClass>STANDARD</StorageClass></Contents><Contents><Key>JC-201805-citibike-tripdata.csv.zip</Key><LastModified>2018-09-06T18:44:40.000Z</LastModified><ETag>\"f0efb047f0789d35fa8d236798b887e9\"</ETag><Size>909305</Size><StorageClass>STANDARD</StorageClass></Contents><Contents><Key>JC-201806-citibike-tripdata.csv.zip</Key><LastModified>2018-09-06T18:44:40.000Z</LastModified><ETag>\"4d26be7f21f47065b3a97036ecb458f0\"</ETag><Size>1078776</Size><StorageClass>STANDARD</StorageClass></Contents><Contents><Key>JC-201807-citibike-tripdata.csv.zip</Key><LastModified>2018-09-06T18:44:41.000Z</LastModified><ETag>\"7d7f4d25a93a7fce663966d8fedb2332\"</ETag><Size>1114006</Size><StorageClass>STANDARD</StorageClass></Contents><Contents><Key>JC-201808-citibike-tripdata.csv.zip</Key><LastModified>2018-09-12T18:58:07.000Z</LastModified><ETag>\"324eecfa22ddf286719a3df242b89034\"</ETag><Size>1165898</Size><StorageClass>STANDARD</StorageClass></Contents><Contents><Key>JC-201809-citibike-tripdata.csv.zip</Key><LastModified>2018-10-03T18:48:13.000Z</LastModified><ETag>\"ed0ddf8ec6aa8bd2d569dc2c148e6517\"</ETag><Size>1029196</Size><StorageClass>STANDARD</StorageClass></Contents><Contents><Key>JC-201810-citibike-tripdata.csv.zip</Key><LastModified>2018-11-07T19:44:39.000Z</LastModified><ETag>\"eb9856ac4bf76b98f29710982384d482\"</ETag><Size>1025727</Size><StorageClass>STANDARD</StorageClass></Contents><Contents><Key>JC-201811-citibike-tripdata.csv.zip</Key><LastModified>2018-12-04T16:27:38.000Z</LastModified><ETag>\"0ade6c97e94ea6cfdcfad6af03392dc0\"</ETag><Size>655752</Size><StorageClass>STANDARD</StorageClass></Contents><Contents><Key>JC-201812-citibike-tripdata.csv.zip</Key><LastModified>2019-01-08T20:51:15.000Z</LastModified><ETag>\"3d4fbbfb80eaf845ced4384de8712765\"</ETag><Size>533878</Size><StorageClass>STANDARD</StorageClass></Contents><Contents><Key>JC-201901-citibike-tripdata.csv.zip</Key><LastModified>2019-02-11T14:43:41.000Z</LastModified><ETag>\"47cca6aac88569850708f5e34edd1c14\"</ETag><Size>517665</Size><StorageClass>STANDARD</StorageClass></Contents><Contents><Key>JC-201902-citibike-tripdata.csv.zip</Key><LastModified>2019-03-04T16:21:48.000Z</LastModified><ETag>\"3847a7474d6d6ec49d79cd056c6208f8\"</ETag><Size>491166</Size><StorageClass>STANDARD</StorageClass></Contents><Contents><Key>JC-201903-citibike-tripdata.csv.zip</Key><LastModified>2019-04-15T18:34:52.000Z</LastModified><ETag>\"02ddb9c67cbbc383c99d33e02398f956\"</ETag><Size>623509</Size><StorageClass>STANDARD</StorageClass></Contents><Contents><Key>JC-201904-citibike-tripdata.csv.zip</Key><LastModified>2019-05-06T19:07:33.000Z</LastModified><ETag>\"c6a586a126bcac25d37b8c44bdf0900d\"</ETag><Size>867370</Size><StorageClass>STANDARD</StorageClass></Contents><Contents><Key>JC-201905-citibike-tripdata.csv.zip</Key><LastModified>2019-06-11T19:37:55.000Z</LastModified><ETag>\"b2f4e51cf2f5d7447c937d7bedcabe24\"</ETag><Size>931693</Size><StorageClass>STANDARD</StorageClass></Contents><Contents><Key>JC-201906-citibike-tripdata.csv.zip</Key><LastModified>2019-07-15T17:42:09.000Z</LastModified><ETag>\"0d353eb29eedd5eee1cdc0bb840f7284\"</ETag><Size>1018935</Size><StorageClass>STANDARD</StorageClass></Contents><Contents><Key>JC-201907-citibike-tripdata.csv.zip</Key><LastModified>2019-08-05T21:34:01.000Z</LastModified><ETag>\"f7c47b623c12a7cc4ca5b88a9d228f5a\"</ETag><Size>1131502</Size><StorageClass>STANDARD</StorageClass></Contents><Contents><Key>JC-201908-citibike-tripdata.csv.zip</Key><LastModified>2019-09-18T20:33:15.000Z</LastModified><ETag>\"0178fa80feb8249070433a47723490f3\"</ETag><Size>1258122</Size><StorageClass>STANDARD</StorageClass></Contents><Contents><Key>JC-201909-citibike-tripdata.csv.zip</Key><LastModified>2019-10-11T19:42:04.000Z</LastModified><ETag>\"6a2951303488759d3cb9c9c9b69a43ac\"</ETag><Size>1271064</Size><StorageClass>STANDARD</StorageClass></Contents><Contents><Key>JC-201910-citibike-tripdata.csv.zip</Key><LastModified>2019-11-05T22:10:56.000Z</LastModified><ETag>\"2c82b76904c2a1e07ec0cb1457097753\"</ETag><Size>1091154</Size><StorageClass>STANDARD</StorageClass></Contents><Contents><Key>JC-201911-citibike-tripdata.csv.zip</Key><LastModified>2019-12-20T18:44:56.000Z</LastModified><ETag>\"cd216a574db2d2d145147a89a8c6235d\"</ETag><Size>799781</Size><StorageClass>STANDARD</StorageClass></Contents><Contents><Key>JC-201912-citibike-tripdata.csv.zip</Key><LastModified>2020-01-21T21:23:33.000Z</LastModified><ETag>\"4dc7a63c0eac3f12210de53a6a30ea79\"</ETag><Size>517583</Size><StorageClass>STANDARD</StorageClass></Contents><Contents><Key>JC-202001-citibike-tripdata.csv.zip</Key><LastModified>2020-02-04T19:05:47.000Z</LastModified><ETag>\"4a58b007c81a1843a03e0b18a63d3f42\"</ETag><Size>679086</Size><StorageClass>STANDARD</StorageClass></Contents><Contents><Key>JC-202002-citibike-tripdata.csv.zip</Key><LastModified>2020-03-24T20:07:53.000Z</LastModified><ETag>\"8ef84102acf2b355f7457c1aa374b7cf\"</ETag><Size>599276</Size><StorageClass>STANDARD</StorageClass></Contents><Contents><Key>JC-202003-citibike-tripdata.csv.zip</Key><LastModified>2020-04-17T23:58:04.000Z</LastModified><ETag>\"f93a1b4734de9a6e5e422ce8b2fe7419\"</ETag><Size>465329</Size><StorageClass>STANDARD</StorageClass></Contents><Contents><Key>JC-202004-citibike-tripdata.csv.zip</Key><LastModified>2020-05-27T00:18:16.000Z</LastModified><ETag>\"e12fe9d5ba889aa2d891347f80e62be3\"</ETag><Size>246177</Size><StorageClass>STANDARD</StorageClass></Contents><Contents><Key>JC-202005-citibike-tripdata.csv.zip</Key><LastModified>2020-06-05T16:09:40.000Z</LastModified><ETag>\"a8a53f2ae57b29a9fe287a7e666a8c74\"</ETag><Size>655725</Size><StorageClass>STANDARD</StorageClass></Contents><Contents><Key>JC-202006-citibike-tripdata.csv.zip</Key><LastModified>2020-07-06T00:37:53.000Z</LastModified><ETag>\"ebaaa7c1eb9467d04a7748feb6fc4f5b\"</ETag><Size>968484</Size><StorageClass>STANDARD</StorageClass></Contents><Contents><Key>JC-202007-citibike-tripdata.csv.zip</Key><LastModified>2020-08-12T02:13:32.000Z</LastModified><ETag>\"4519a964d5b66156f9e661b7e78906ac\"</ETag><Size>1017946</Size><StorageClass>STANDARD</StorageClass></Contents><Contents><Key>JC-202008-citibike-tripdata.csv.zip</Key><LastModified>2020-09-04T19:37:33.000Z</LastModified><ETag>\"bc110ea6ded190e5625213e05dce31fb\"</ETag><Size>1137151</Size><StorageClass>STANDARD</StorageClass></Contents><Contents><Key>JC-202009-citibike-tripdata.csv.zip</Key><LastModified>2020-10-13T19:56:03.000Z</LastModified><ETag>\"f818f87d1b8357d8755b610ea231aeef\"</ETag><Size>1419708</Size><StorageClass>STANDARD</StorageClass></Contents><Contents><Key>JC-202010-citibike-tripdata.csv.zip</Key><LastModified>2020-11-04T14:51:11.000Z</LastModified><ETag>\"148431d3598f7e962338c33da2afddf3\"</ETag><Size>798066</Size><StorageClass>STANDARD</StorageClass></Contents><Contents><Key>JC-202011-citibike-tripdata.csv.zip</Key><LastModified>2020-12-04T23:26:04.000Z</LastModified><ETag>\"ab9ee4bbbc03633d610e18319d23fc21\"</ETag><Size>569245</Size><StorageClass>STANDARD</StorageClass></Contents><Contents><Key>JC-202012-citibike-tripdata.csv.zip</Key><LastModified>2021-01-05T14:25:45.000Z</LastModified><ETag>\"112033c48cf3fa673b396364a7cc08f6\"</ETag><Size>315012</Size><StorageClass>STANDARD</StorageClass></Contents><Contents><Key>JC-202101-citibike-tripdata.csv.zip</Key><LastModified>2021-02-08T15:11:26.000Z</LastModified><ETag>\"02e5da50db92added528f438587bb1e7\"</ETag><Size>313806</Size><StorageClass>STANDARD</StorageClass></Contents><Contents><Key>JC-202102-citibike-tripdata.csv.zip</Key><LastModified>2021-06-11T17:23:13.000Z</LastModified><ETag>\"53faf8f5323d6ea79f79fdcce5f4894d\"</ETag><Size>145668</Size><StorageClass>STANDARD</StorageClass></Contents><Contents><Key>JC-202103-citibike-tripdata.csv.zip</Key><LastModified>2021-06-11T17:23:13.000Z</LastModified><ETag>\"39de5df5ab7f113d39244aa3722806d5\"</ETag><Size>473774</Size><StorageClass>STANDARD</StorageClass></Contents><Contents><Key>JC-202104-citibike-tripdata.csv.zip</Key><LastModified>2021-06-11T17:23:14.000Z</LastModified><ETag>\"400e559b834a3c02d6a6c57bc4dd9d51\"</ETag><Size>650251</Size><StorageClass>STANDARD</StorageClass></Contents><Contents><Key>JC-202105-citibike-tripdata.csv.zip</Key><LastModified>2021-06-11T17:23:16.000Z</LastModified><ETag>\"6e4acab6b20a03af104f2637b4fb00fc\"</ETag><Size>1251415</Size><StorageClass>STANDARD</StorageClass></Contents><Contents><Key>JC-202106-citibike-tripdata.csv.zip</Key><LastModified>2021-07-15T23:26:34.000Z</LastModified><ETag>\"cfbfadac695041e77d93538ce74c6c51\"</ETag><Size>2057752</Size><StorageClass>STANDARD</StorageClass></Contents><Contents><Key>JC-202107-citibike-tripdata.csv.zip</Key><LastModified>2021-08-14T06:12:13.000Z</LastModified><ETag>\"b3fa4ebc6b302780ac43f169921c4c9a\"</ETag><Size>2330653</Size><StorageClass>STANDARD</StorageClass></Contents><Contents><Key>JC-202108-citibike-tripdata.csv.zip</Key><LastModified>2021-09-08T18:52:46.000Z</LastModified><ETag>\"d69fdaf58eb21c00cc177f9a7cd4d6ec\"</ETag><Size>2704163</Size><StorageClass>STANDARD</StorageClass></Contents><Contents><Key>JC-202109-citibike-tripdata.csv.zip</Key><LastModified>2021-10-04T17:29:35.000Z</LastModified><ETag>\"574c18ed8f853bb34ab43d5a6ce84b41\"</ETag><Size>2610516</Size><StorageClass>STANDARD</StorageClass></Contents><Contents><Key>JC-202110-citibike-tripdata.csv.zip</Key><LastModified>2021-11-05T13:23:35.000Z</LastModified><ETag>\"b0863596f2a1925c2e1d0b35a5e67ce5\"</ETag><Size>2587256</Size><StorageClass>STANDARD</StorageClass></Contents><Contents><Key>index.html</Key><LastModified>2017-01-18T22:23:41.000Z</LastModified><ETag>\"0a0a71d28229db9a3ddd27b9c9ca1f10\"</ETag><Size>6430</Size><StorageClass>STANDARD</StorageClass></Contents></ListBucketResult>"
      ]
     },
     "execution_count": 18,
     "metadata": {},
     "output_type": "execute_result"
    }
   ],
   "source": [
    "soup = BeautifulSoup(response.text, 'xml')\n",
    "soup"
   ]
  },
  {
   "cell_type": "code",
   "execution_count": 19,
   "metadata": {},
   "outputs": [
    {
     "data": {
      "text/plain": [
       "[<Key>201306-citibike-tripdata.zip</Key>,\n",
       " <Key>201307-201402-citibike-tripdata.zip</Key>,\n",
       " <Key>201307-citibike-tripdata.zip</Key>,\n",
       " <Key>201308-citibike-tripdata.zip</Key>,\n",
       " <Key>201309-citibike-tripdata.zip</Key>,\n",
       " <Key>201310-citibike-tripdata.zip</Key>,\n",
       " <Key>201311-citibike-tripdata.zip</Key>,\n",
       " <Key>201312-citibike-tripdata.zip</Key>,\n",
       " <Key>201401-citibike-tripdata.zip</Key>,\n",
       " <Key>201402-citibike-tripdata.zip</Key>,\n",
       " <Key>201403-citibike-tripdata.zip</Key>,\n",
       " <Key>201404-citibike-tripdata.zip</Key>,\n",
       " <Key>201405-citibike-tripdata.zip</Key>,\n",
       " <Key>201406-citibike-tripdata.zip</Key>,\n",
       " <Key>201407-citibike-tripdata.zip</Key>,\n",
       " <Key>201408-citibike-tripdata.zip</Key>,\n",
       " <Key>201409-citibike-tripdata.zip</Key>,\n",
       " <Key>201410-citibike-tripdata.zip</Key>,\n",
       " <Key>201411-citibike-tripdata.zip</Key>,\n",
       " <Key>201412-citibike-tripdata.zip</Key>,\n",
       " <Key>201501-citibike-tripdata.zip</Key>,\n",
       " <Key>201502-citibike-tripdata.zip</Key>,\n",
       " <Key>201503-citibike-tripdata.zip</Key>,\n",
       " <Key>201504-citibike-tripdata.zip</Key>,\n",
       " <Key>201505-citibike-tripdata.zip</Key>,\n",
       " <Key>201506-citibike-tripdata.zip</Key>,\n",
       " <Key>201507-citibike-tripdata.zip</Key>,\n",
       " <Key>201508-citibike-tripdata.zip</Key>,\n",
       " <Key>201509-citibike-tripdata.zip</Key>,\n",
       " <Key>201510-citibike-tripdata.zip</Key>,\n",
       " <Key>201511-citibike-tripdata.zip</Key>,\n",
       " <Key>201512-citibike-tripdata.zip</Key>,\n",
       " <Key>201601-citibike-tripdata.zip</Key>,\n",
       " <Key>201602-citibike-tripdata.zip</Key>,\n",
       " <Key>201603-citibike-tripdata.zip</Key>,\n",
       " <Key>201604-citibike-tripdata.zip</Key>,\n",
       " <Key>201605-citibike-tripdata.zip</Key>,\n",
       " <Key>201606-citibike-tripdata.zip</Key>,\n",
       " <Key>201607-citibike-tripdata.zip</Key>,\n",
       " <Key>201608-citibike-tripdata.zip</Key>,\n",
       " <Key>201609-citibike-tripdata.zip</Key>,\n",
       " <Key>201610-citibike-tripdata.zip</Key>,\n",
       " <Key>201611-citibike-tripdata.zip</Key>,\n",
       " <Key>201612-citibike-tripdata.zip</Key>,\n",
       " <Key>201701-citibike-tripdata.csv.zip</Key>,\n",
       " <Key>201702-citibike-tripdata.csv.zip</Key>,\n",
       " <Key>201703-citibike-tripdata.csv.zip</Key>,\n",
       " <Key>201704-citibike-tripdata.csv.zip</Key>,\n",
       " <Key>201705-citibike-tripdata.csv.zip</Key>,\n",
       " <Key>201706-citibike-tripdata.csv.zip</Key>,\n",
       " <Key>201707-citibike-tripdata.csv.zip</Key>,\n",
       " <Key>201708-citibike-tripdata.csv.zip</Key>,\n",
       " <Key>201709-citibike-tripdata.csv.zip</Key>,\n",
       " <Key>201710-citibike-tripdata.csv.zip</Key>,\n",
       " <Key>201711-citibike-tripdata.csv.zip</Key>,\n",
       " <Key>201712-citibike-tripdata.csv.zip</Key>,\n",
       " <Key>201801-citibike-tripdata.csv.zip</Key>,\n",
       " <Key>201802-citibike-tripdata.csv.zip</Key>,\n",
       " <Key>201803-citibike-tripdata.csv.zip</Key>,\n",
       " <Key>201804-citibike-tripdata.csv.zip</Key>,\n",
       " <Key>201805-citibike-tripdata.csv.zip</Key>,\n",
       " <Key>201806-citibike-tripdata.csv.zip</Key>,\n",
       " <Key>201807-citibike-tripdata.csv.zip</Key>,\n",
       " <Key>201808-citibike-tripdata.csv.zip</Key>,\n",
       " <Key>201809-citibike-tripdata.csv.zip</Key>,\n",
       " <Key>201810-citibike-tripdata.csv.zip</Key>,\n",
       " <Key>201811-citibike-tripdata.csv.zip</Key>,\n",
       " <Key>201812-citibike-tripdata.csv.zip</Key>,\n",
       " <Key>201901-citibike-tripdata.csv.zip</Key>,\n",
       " <Key>201902-citibike-tripdata.csv.zip</Key>,\n",
       " <Key>201903-citibike-tripdata.csv.zip</Key>,\n",
       " <Key>201904-citibike-tripdata.csv.zip</Key>,\n",
       " <Key>201905-citibike-tripdata.csv.zip</Key>,\n",
       " <Key>201906-citibike-tripdata.csv.zip</Key>,\n",
       " <Key>201907-citibike-tripdata.csv.zip</Key>,\n",
       " <Key>201908-citibike-tripdata.csv.zip</Key>,\n",
       " <Key>201909-citibike-tripdata.csv.zip</Key>,\n",
       " <Key>201910-citibike-tripdata.csv.zip</Key>,\n",
       " <Key>201911-citibike-tripdata.csv.zip</Key>,\n",
       " <Key>201912-citibike-tripdata.csv.zip</Key>,\n",
       " <Key>202001-citibike-tripdata.csv.zip</Key>,\n",
       " <Key>202002-citibike-tripdata.csv.zip</Key>,\n",
       " <Key>202003-citibike-tripdata.csv.zip</Key>,\n",
       " <Key>202004-citibike-tripdata.csv.zip</Key>,\n",
       " <Key>202005-citibike-tripdata.csv.zip</Key>,\n",
       " <Key>202006-citibike-tripdata.csv.zip</Key>,\n",
       " <Key>202007-citibike-tripdata.csv.zip</Key>,\n",
       " <Key>202008-citibike-tripdata.csv.zip</Key>,\n",
       " <Key>202009-citibike-tripdata.csv.zip</Key>,\n",
       " <Key>202010-citibike-tripdata.csv.zip</Key>,\n",
       " <Key>202011-citibike-tripdata.csv.zip</Key>,\n",
       " <Key>202012-citibike-tripdata.csv.zip</Key>,\n",
       " <Key>202101-citibike-tripdata.csv.zip</Key>,\n",
       " <Key>202102-citibike-tripdata.csv.zip</Key>,\n",
       " <Key>202103-citibike-tripdata.csv.zip</Key>,\n",
       " <Key>202104-citibike-tripdata.csv.zip</Key>,\n",
       " <Key>202105-citibike-tripdata.csv.zip</Key>,\n",
       " <Key>202106-citibike-tripdata.csv.zip</Key>,\n",
       " <Key>202107-citibike-tripdata.csv.zip</Key>,\n",
       " <Key>202108-citibike-tripdata.csv.zip</Key>,\n",
       " <Key>202109-citibike-tripdata.csv.zip</Key>,\n",
       " <Key>202110-citibike-tripdata.csv.zip</Key>,\n",
       " <Key>JC-201509-citibike-tripdata.csv.zip</Key>,\n",
       " <Key>JC-201510-citibike-tripdata.csv.zip</Key>,\n",
       " <Key>JC-201511-citibike-tripdata.csv.zip</Key>,\n",
       " <Key>JC-201512-citibike-tripdata.csv.zip</Key>,\n",
       " <Key>JC-201601-citibike-tripdata.csv.zip</Key>,\n",
       " <Key>JC-201602-citibike-tripdata.csv.zip</Key>,\n",
       " <Key>JC-201603-citibike-tripdata.csv.zip</Key>,\n",
       " <Key>JC-201604-citibike-tripdata.csv.zip</Key>,\n",
       " <Key>JC-201605-citibike-tripdata.csv.zip</Key>,\n",
       " <Key>JC-201606-citibike-tripdata.csv.zip</Key>,\n",
       " <Key>JC-201607-citibike-tripdata.csv.zip</Key>,\n",
       " <Key>JC-201608-citibike-tripdata.csv.zip</Key>,\n",
       " <Key>JC-201609-citibike-tripdata.csv.zip</Key>,\n",
       " <Key>JC-201610-citibike-tripdata.csv.zip</Key>,\n",
       " <Key>JC-201611-citibike-tripdata.csv.zip</Key>,\n",
       " <Key>JC-201612-citibike-tripdata.csv.zip</Key>,\n",
       " <Key>JC-201701-citibike-tripdata.csv.zip</Key>,\n",
       " <Key>JC-201702-citibike-tripdata.csv.zip</Key>,\n",
       " <Key>JC-201703-citibike-tripdata.csv.zip</Key>,\n",
       " <Key>JC-201704-citibike-tripdata.csv.zip</Key>,\n",
       " <Key>JC-201705-citibike-tripdata.csv.zip</Key>,\n",
       " <Key>JC-201706-citibike-tripdata.csv.zip</Key>,\n",
       " <Key>JC-201707-citibike-tripdata.csv.zip</Key>,\n",
       " <Key>JC-201708 citibike-tripdata.csv.zip</Key>,\n",
       " <Key>JC-201709-citibike-tripdata.csv.zip</Key>,\n",
       " <Key>JC-201710-citibike-tripdata.csv.zip</Key>,\n",
       " <Key>JC-201711-citibike-tripdata.csv.zip</Key>,\n",
       " <Key>JC-201712-citibike-tripdata.csv.zip</Key>,\n",
       " <Key>JC-201801-citibike-tripdata.csv.zip</Key>,\n",
       " <Key>JC-201802-citibike-tripdata.csv.zip</Key>,\n",
       " <Key>JC-201803-citibike-tripdata.csv.zip</Key>,\n",
       " <Key>JC-201804-citibike-tripdata.csv.zip</Key>,\n",
       " <Key>JC-201805-citibike-tripdata.csv.zip</Key>,\n",
       " <Key>JC-201806-citibike-tripdata.csv.zip</Key>,\n",
       " <Key>JC-201807-citibike-tripdata.csv.zip</Key>,\n",
       " <Key>JC-201808-citibike-tripdata.csv.zip</Key>,\n",
       " <Key>JC-201809-citibike-tripdata.csv.zip</Key>,\n",
       " <Key>JC-201810-citibike-tripdata.csv.zip</Key>,\n",
       " <Key>JC-201811-citibike-tripdata.csv.zip</Key>,\n",
       " <Key>JC-201812-citibike-tripdata.csv.zip</Key>,\n",
       " <Key>JC-201901-citibike-tripdata.csv.zip</Key>,\n",
       " <Key>JC-201902-citibike-tripdata.csv.zip</Key>,\n",
       " <Key>JC-201903-citibike-tripdata.csv.zip</Key>,\n",
       " <Key>JC-201904-citibike-tripdata.csv.zip</Key>,\n",
       " <Key>JC-201905-citibike-tripdata.csv.zip</Key>,\n",
       " <Key>JC-201906-citibike-tripdata.csv.zip</Key>,\n",
       " <Key>JC-201907-citibike-tripdata.csv.zip</Key>,\n",
       " <Key>JC-201908-citibike-tripdata.csv.zip</Key>,\n",
       " <Key>JC-201909-citibike-tripdata.csv.zip</Key>,\n",
       " <Key>JC-201910-citibike-tripdata.csv.zip</Key>,\n",
       " <Key>JC-201911-citibike-tripdata.csv.zip</Key>,\n",
       " <Key>JC-201912-citibike-tripdata.csv.zip</Key>,\n",
       " <Key>JC-202001-citibike-tripdata.csv.zip</Key>,\n",
       " <Key>JC-202002-citibike-tripdata.csv.zip</Key>,\n",
       " <Key>JC-202003-citibike-tripdata.csv.zip</Key>,\n",
       " <Key>JC-202004-citibike-tripdata.csv.zip</Key>,\n",
       " <Key>JC-202005-citibike-tripdata.csv.zip</Key>,\n",
       " <Key>JC-202006-citibike-tripdata.csv.zip</Key>,\n",
       " <Key>JC-202007-citibike-tripdata.csv.zip</Key>,\n",
       " <Key>JC-202008-citibike-tripdata.csv.zip</Key>,\n",
       " <Key>JC-202009-citibike-tripdata.csv.zip</Key>,\n",
       " <Key>JC-202010-citibike-tripdata.csv.zip</Key>,\n",
       " <Key>JC-202011-citibike-tripdata.csv.zip</Key>,\n",
       " <Key>JC-202012-citibike-tripdata.csv.zip</Key>,\n",
       " <Key>JC-202101-citibike-tripdata.csv.zip</Key>,\n",
       " <Key>JC-202102-citibike-tripdata.csv.zip</Key>,\n",
       " <Key>JC-202103-citibike-tripdata.csv.zip</Key>,\n",
       " <Key>JC-202104-citibike-tripdata.csv.zip</Key>,\n",
       " <Key>JC-202105-citibike-tripdata.csv.zip</Key>,\n",
       " <Key>JC-202106-citibike-tripdata.csv.zip</Key>,\n",
       " <Key>JC-202107-citibike-tripdata.csv.zip</Key>,\n",
       " <Key>JC-202108-citibike-tripdata.csv.zip</Key>,\n",
       " <Key>JC-202109-citibike-tripdata.csv.zip</Key>,\n",
       " <Key>JC-202110-citibike-tripdata.csv.zip</Key>,\n",
       " <Key>index.html</Key>]"
      ]
     },
     "execution_count": 19,
     "metadata": {},
     "output_type": "execute_result"
    }
   ],
   "source": [
    "data_files = soup.find_all('Key')\n",
    "data_files"
   ]
  },
  {
   "cell_type": "code",
   "execution_count": 20,
   "metadata": {},
   "outputs": [],
   "source": [
    "# # Instantiate empty list\n",
    "# zip_files = []# Populate list with zip file names\n",
    "# for file in range(len(data_files)-1):\n",
    "#     zip_files.append(data_files[file].get_text())# Download Jersey City zip files\n",
    "# for file in zip_files:\n",
    "#     if 'JC' in file:\n",
    "#         webbrowser.open_new(url + file)\n",
    "#         sleep(7)"
   ]
  },
  {
   "cell_type": "code",
   "execution_count": 21,
   "metadata": {},
   "outputs": [],
   "source": [
    "df_201510=pd.read_csv('C:/Users/Karimah/Documents/Git/klasa_mod2/work_page/Data/JC-201510-citibike-tripdata.csv')"
   ]
  },
  {
   "cell_type": "code",
   "execution_count": 22,
   "metadata": {},
   "outputs": [
    {
     "data": {
      "text/html": [
       "<div>\n",
       "<style scoped>\n",
       "    .dataframe tbody tr th:only-of-type {\n",
       "        vertical-align: middle;\n",
       "    }\n",
       "\n",
       "    .dataframe tbody tr th {\n",
       "        vertical-align: top;\n",
       "    }\n",
       "\n",
       "    .dataframe thead th {\n",
       "        text-align: right;\n",
       "    }\n",
       "</style>\n",
       "<table border=\"1\" class=\"dataframe\">\n",
       "  <thead>\n",
       "    <tr style=\"text-align: right;\">\n",
       "      <th></th>\n",
       "      <th>Trip Duration</th>\n",
       "      <th>Start Time</th>\n",
       "      <th>Stop Time</th>\n",
       "      <th>Start Station ID</th>\n",
       "      <th>Start Station Name</th>\n",
       "      <th>Start Station Latitude</th>\n",
       "      <th>Start Station Longitude</th>\n",
       "      <th>End Station ID</th>\n",
       "      <th>End Station Name</th>\n",
       "      <th>End Station Latitude</th>\n",
       "      <th>End Station Longitude</th>\n",
       "      <th>Bike ID</th>\n",
       "      <th>User Type</th>\n",
       "      <th>Birth Year</th>\n",
       "      <th>Gender</th>\n",
       "    </tr>\n",
       "  </thead>\n",
       "  <tbody>\n",
       "    <tr>\n",
       "      <th>0</th>\n",
       "      <td>376</td>\n",
       "      <td>2015-10-01 00:16:26</td>\n",
       "      <td>2015-10-01 00:22:42</td>\n",
       "      <td>3212</td>\n",
       "      <td>Christ Hospital</td>\n",
       "      <td>40.734786</td>\n",
       "      <td>-74.050444</td>\n",
       "      <td>3207</td>\n",
       "      <td>Oakland Ave</td>\n",
       "      <td>40.737604</td>\n",
       "      <td>-74.052478</td>\n",
       "      <td>24470</td>\n",
       "      <td>Subscriber</td>\n",
       "      <td>1960.0</td>\n",
       "      <td>1</td>\n",
       "    </tr>\n",
       "    <tr>\n",
       "      <th>1</th>\n",
       "      <td>739</td>\n",
       "      <td>2015-10-01 00:27:12</td>\n",
       "      <td>2015-10-01 00:39:32</td>\n",
       "      <td>3207</td>\n",
       "      <td>Oakland Ave</td>\n",
       "      <td>40.737604</td>\n",
       "      <td>-74.052478</td>\n",
       "      <td>3212</td>\n",
       "      <td>Christ Hospital</td>\n",
       "      <td>40.734786</td>\n",
       "      <td>-74.050444</td>\n",
       "      <td>24481</td>\n",
       "      <td>Subscriber</td>\n",
       "      <td>1960.0</td>\n",
       "      <td>1</td>\n",
       "    </tr>\n",
       "    <tr>\n",
       "      <th>2</th>\n",
       "      <td>2714</td>\n",
       "      <td>2015-10-01 00:32:46</td>\n",
       "      <td>2015-10-01 01:18:01</td>\n",
       "      <td>3193</td>\n",
       "      <td>Lincoln Park</td>\n",
       "      <td>40.724605</td>\n",
       "      <td>-74.078406</td>\n",
       "      <td>3193</td>\n",
       "      <td>Lincoln Park</td>\n",
       "      <td>40.724605</td>\n",
       "      <td>-74.078406</td>\n",
       "      <td>24628</td>\n",
       "      <td>Subscriber</td>\n",
       "      <td>1983.0</td>\n",
       "      <td>1</td>\n",
       "    </tr>\n",
       "    <tr>\n",
       "      <th>3</th>\n",
       "      <td>275</td>\n",
       "      <td>2015-10-01 00:34:31</td>\n",
       "      <td>2015-10-01 00:39:06</td>\n",
       "      <td>3199</td>\n",
       "      <td>Newport Pkwy</td>\n",
       "      <td>40.728745</td>\n",
       "      <td>-74.032108</td>\n",
       "      <td>3187</td>\n",
       "      <td>Warren St</td>\n",
       "      <td>40.721124</td>\n",
       "      <td>-74.038051</td>\n",
       "      <td>24613</td>\n",
       "      <td>Subscriber</td>\n",
       "      <td>1975.0</td>\n",
       "      <td>1</td>\n",
       "    </tr>\n",
       "    <tr>\n",
       "      <th>4</th>\n",
       "      <td>561</td>\n",
       "      <td>2015-10-01 00:40:12</td>\n",
       "      <td>2015-10-01 00:49:33</td>\n",
       "      <td>3183</td>\n",
       "      <td>Exchange Place</td>\n",
       "      <td>40.716247</td>\n",
       "      <td>-74.033459</td>\n",
       "      <td>3192</td>\n",
       "      <td>Liberty Light Rail</td>\n",
       "      <td>40.711242</td>\n",
       "      <td>-74.055701</td>\n",
       "      <td>24668</td>\n",
       "      <td>Customer</td>\n",
       "      <td>NaN</td>\n",
       "      <td>0</td>\n",
       "    </tr>\n",
       "  </tbody>\n",
       "</table>\n",
       "</div>"
      ],
      "text/plain": [
       "   Trip Duration           Start Time            Stop Time  Start Station ID  \\\n",
       "0            376  2015-10-01 00:16:26  2015-10-01 00:22:42              3212   \n",
       "1            739  2015-10-01 00:27:12  2015-10-01 00:39:32              3207   \n",
       "2           2714  2015-10-01 00:32:46  2015-10-01 01:18:01              3193   \n",
       "3            275  2015-10-01 00:34:31  2015-10-01 00:39:06              3199   \n",
       "4            561  2015-10-01 00:40:12  2015-10-01 00:49:33              3183   \n",
       "\n",
       "  Start Station Name  Start Station Latitude  Start Station Longitude  \\\n",
       "0    Christ Hospital               40.734786               -74.050444   \n",
       "1        Oakland Ave               40.737604               -74.052478   \n",
       "2       Lincoln Park               40.724605               -74.078406   \n",
       "3       Newport Pkwy               40.728745               -74.032108   \n",
       "4     Exchange Place               40.716247               -74.033459   \n",
       "\n",
       "   End Station ID    End Station Name  End Station Latitude  \\\n",
       "0            3207         Oakland Ave             40.737604   \n",
       "1            3212     Christ Hospital             40.734786   \n",
       "2            3193        Lincoln Park             40.724605   \n",
       "3            3187           Warren St             40.721124   \n",
       "4            3192  Liberty Light Rail             40.711242   \n",
       "\n",
       "   End Station Longitude  Bike ID   User Type  Birth Year  Gender  \n",
       "0             -74.052478    24470  Subscriber      1960.0       1  \n",
       "1             -74.050444    24481  Subscriber      1960.0       1  \n",
       "2             -74.078406    24628  Subscriber      1983.0       1  \n",
       "3             -74.038051    24613  Subscriber      1975.0       1  \n",
       "4             -74.055701    24668    Customer         NaN       0  "
      ]
     },
     "execution_count": 22,
     "metadata": {},
     "output_type": "execute_result"
    }
   ],
   "source": [
    "df_201510.head()"
   ]
  },
  {
   "cell_type": "code",
   "execution_count": 23,
   "metadata": {},
   "outputs": [
    {
     "name": "stdout",
     "output_type": "stream",
     "text": [
      "<class 'pandas.core.frame.DataFrame'>\n",
      "RangeIndex: 19264 entries, 0 to 19263\n",
      "Data columns (total 15 columns):\n",
      "Trip Duration              19264 non-null int64\n",
      "Start Time                 19264 non-null object\n",
      "Stop Time                  19264 non-null object\n",
      "Start Station ID           19264 non-null int64\n",
      "Start Station Name         19264 non-null object\n",
      "Start Station Latitude     19264 non-null float64\n",
      "Start Station Longitude    19264 non-null float64\n",
      "End Station ID             19264 non-null int64\n",
      "End Station Name           19264 non-null object\n",
      "End Station Latitude       19264 non-null float64\n",
      "End Station Longitude      19264 non-null float64\n",
      "Bike ID                    19264 non-null int64\n",
      "User Type                  19264 non-null object\n",
      "Birth Year                 16967 non-null float64\n",
      "Gender                     19264 non-null int64\n",
      "dtypes: float64(5), int64(5), object(5)\n",
      "memory usage: 2.2+ MB\n"
     ]
    }
   ],
   "source": [
    "df_201510.info()"
   ]
  },
  {
   "cell_type": "markdown",
   "metadata": {},
   "source": [
    "## Count the number of missing values of each column"
   ]
  },
  {
   "cell_type": "code",
   "execution_count": 24,
   "metadata": {},
   "outputs": [
    {
     "data": {
      "text/plain": [
       "Trip Duration                 0\n",
       "Start Time                    0\n",
       "Stop Time                     0\n",
       "Start Station ID              0\n",
       "Start Station Name            0\n",
       "Start Station Latitude        0\n",
       "Start Station Longitude       0\n",
       "End Station ID                0\n",
       "End Station Name              0\n",
       "End Station Latitude          0\n",
       "End Station Longitude         0\n",
       "Bike ID                       0\n",
       "User Type                     0\n",
       "Birth Year                 2297\n",
       "Gender                        0\n",
       "dtype: int64"
      ]
     },
     "execution_count": 24,
     "metadata": {},
     "output_type": "execute_result"
    }
   ],
   "source": [
    "df_201510.isna().sum()"
   ]
  },
  {
   "cell_type": "code",
   "execution_count": 25,
   "metadata": {},
   "outputs": [
    {
     "data": {
      "text/plain": [
       "(19264, 15)"
      ]
     },
     "execution_count": 25,
     "metadata": {},
     "output_type": "execute_result"
    }
   ],
   "source": [
    "df_201510.shape"
   ]
  },
  {
   "cell_type": "code",
   "execution_count": 26,
   "metadata": {},
   "outputs": [],
   "source": [
    "df_201510.dropna(inplace=True)"
   ]
  },
  {
   "cell_type": "code",
   "execution_count": 27,
   "metadata": {},
   "outputs": [
    {
     "data": {
      "text/plain": [
       "(16967, 15)"
      ]
     },
     "execution_count": 27,
     "metadata": {},
     "output_type": "execute_result"
    }
   ],
   "source": [
    "df_201510.shape"
   ]
  },
  {
   "cell_type": "markdown",
   "metadata": {},
   "source": [
    "## Who rides citibikes? Show ridership distribution by gender, user type, and age\n",
    "Process the data and plot your answers"
   ]
  },
  {
   "cell_type": "code",
   "execution_count": 28,
   "metadata": {},
   "outputs": [],
   "source": [
    "df_201510['Age']=2021.0-df_201510['Birth Year']"
   ]
  },
  {
   "cell_type": "code",
   "execution_count": 29,
   "metadata": {},
   "outputs": [
    {
     "data": {
      "text/html": [
       "<div>\n",
       "<style scoped>\n",
       "    .dataframe tbody tr th:only-of-type {\n",
       "        vertical-align: middle;\n",
       "    }\n",
       "\n",
       "    .dataframe tbody tr th {\n",
       "        vertical-align: top;\n",
       "    }\n",
       "\n",
       "    .dataframe thead th {\n",
       "        text-align: right;\n",
       "    }\n",
       "</style>\n",
       "<table border=\"1\" class=\"dataframe\">\n",
       "  <thead>\n",
       "    <tr style=\"text-align: right;\">\n",
       "      <th></th>\n",
       "      <th>Trip Duration</th>\n",
       "      <th>Start Time</th>\n",
       "      <th>Stop Time</th>\n",
       "      <th>Start Station ID</th>\n",
       "      <th>Start Station Name</th>\n",
       "      <th>Start Station Latitude</th>\n",
       "      <th>Start Station Longitude</th>\n",
       "      <th>End Station ID</th>\n",
       "      <th>End Station Name</th>\n",
       "      <th>End Station Latitude</th>\n",
       "      <th>End Station Longitude</th>\n",
       "      <th>Bike ID</th>\n",
       "      <th>User Type</th>\n",
       "      <th>Birth Year</th>\n",
       "      <th>Gender</th>\n",
       "      <th>Age</th>\n",
       "    </tr>\n",
       "  </thead>\n",
       "  <tbody>\n",
       "    <tr>\n",
       "      <th>0</th>\n",
       "      <td>376</td>\n",
       "      <td>2015-10-01 00:16:26</td>\n",
       "      <td>2015-10-01 00:22:42</td>\n",
       "      <td>3212</td>\n",
       "      <td>Christ Hospital</td>\n",
       "      <td>40.734786</td>\n",
       "      <td>-74.050444</td>\n",
       "      <td>3207</td>\n",
       "      <td>Oakland Ave</td>\n",
       "      <td>40.737604</td>\n",
       "      <td>-74.052478</td>\n",
       "      <td>24470</td>\n",
       "      <td>Subscriber</td>\n",
       "      <td>1960.0</td>\n",
       "      <td>1</td>\n",
       "      <td>61.0</td>\n",
       "    </tr>\n",
       "    <tr>\n",
       "      <th>1</th>\n",
       "      <td>739</td>\n",
       "      <td>2015-10-01 00:27:12</td>\n",
       "      <td>2015-10-01 00:39:32</td>\n",
       "      <td>3207</td>\n",
       "      <td>Oakland Ave</td>\n",
       "      <td>40.737604</td>\n",
       "      <td>-74.052478</td>\n",
       "      <td>3212</td>\n",
       "      <td>Christ Hospital</td>\n",
       "      <td>40.734786</td>\n",
       "      <td>-74.050444</td>\n",
       "      <td>24481</td>\n",
       "      <td>Subscriber</td>\n",
       "      <td>1960.0</td>\n",
       "      <td>1</td>\n",
       "      <td>61.0</td>\n",
       "    </tr>\n",
       "    <tr>\n",
       "      <th>2</th>\n",
       "      <td>2714</td>\n",
       "      <td>2015-10-01 00:32:46</td>\n",
       "      <td>2015-10-01 01:18:01</td>\n",
       "      <td>3193</td>\n",
       "      <td>Lincoln Park</td>\n",
       "      <td>40.724605</td>\n",
       "      <td>-74.078406</td>\n",
       "      <td>3193</td>\n",
       "      <td>Lincoln Park</td>\n",
       "      <td>40.724605</td>\n",
       "      <td>-74.078406</td>\n",
       "      <td>24628</td>\n",
       "      <td>Subscriber</td>\n",
       "      <td>1983.0</td>\n",
       "      <td>1</td>\n",
       "      <td>38.0</td>\n",
       "    </tr>\n",
       "    <tr>\n",
       "      <th>3</th>\n",
       "      <td>275</td>\n",
       "      <td>2015-10-01 00:34:31</td>\n",
       "      <td>2015-10-01 00:39:06</td>\n",
       "      <td>3199</td>\n",
       "      <td>Newport Pkwy</td>\n",
       "      <td>40.728745</td>\n",
       "      <td>-74.032108</td>\n",
       "      <td>3187</td>\n",
       "      <td>Warren St</td>\n",
       "      <td>40.721124</td>\n",
       "      <td>-74.038051</td>\n",
       "      <td>24613</td>\n",
       "      <td>Subscriber</td>\n",
       "      <td>1975.0</td>\n",
       "      <td>1</td>\n",
       "      <td>46.0</td>\n",
       "    </tr>\n",
       "    <tr>\n",
       "      <th>6</th>\n",
       "      <td>139</td>\n",
       "      <td>2015-10-01 00:43:44</td>\n",
       "      <td>2015-10-01 00:46:03</td>\n",
       "      <td>3206</td>\n",
       "      <td>Hilltop</td>\n",
       "      <td>40.731169</td>\n",
       "      <td>-74.057574</td>\n",
       "      <td>3195</td>\n",
       "      <td>Sip Ave</td>\n",
       "      <td>40.730743</td>\n",
       "      <td>-74.063784</td>\n",
       "      <td>24482</td>\n",
       "      <td>Subscriber</td>\n",
       "      <td>1988.0</td>\n",
       "      <td>1</td>\n",
       "      <td>33.0</td>\n",
       "    </tr>\n",
       "  </tbody>\n",
       "</table>\n",
       "</div>"
      ],
      "text/plain": [
       "   Trip Duration           Start Time            Stop Time  Start Station ID  \\\n",
       "0            376  2015-10-01 00:16:26  2015-10-01 00:22:42              3212   \n",
       "1            739  2015-10-01 00:27:12  2015-10-01 00:39:32              3207   \n",
       "2           2714  2015-10-01 00:32:46  2015-10-01 01:18:01              3193   \n",
       "3            275  2015-10-01 00:34:31  2015-10-01 00:39:06              3199   \n",
       "6            139  2015-10-01 00:43:44  2015-10-01 00:46:03              3206   \n",
       "\n",
       "  Start Station Name  Start Station Latitude  Start Station Longitude  \\\n",
       "0    Christ Hospital               40.734786               -74.050444   \n",
       "1        Oakland Ave               40.737604               -74.052478   \n",
       "2       Lincoln Park               40.724605               -74.078406   \n",
       "3       Newport Pkwy               40.728745               -74.032108   \n",
       "6            Hilltop               40.731169               -74.057574   \n",
       "\n",
       "   End Station ID End Station Name  End Station Latitude  \\\n",
       "0            3207      Oakland Ave             40.737604   \n",
       "1            3212  Christ Hospital             40.734786   \n",
       "2            3193     Lincoln Park             40.724605   \n",
       "3            3187        Warren St             40.721124   \n",
       "6            3195          Sip Ave             40.730743   \n",
       "\n",
       "   End Station Longitude  Bike ID   User Type  Birth Year  Gender   Age  \n",
       "0             -74.052478    24470  Subscriber      1960.0       1  61.0  \n",
       "1             -74.050444    24481  Subscriber      1960.0       1  61.0  \n",
       "2             -74.078406    24628  Subscriber      1983.0       1  38.0  \n",
       "3             -74.038051    24613  Subscriber      1975.0       1  46.0  \n",
       "6             -74.063784    24482  Subscriber      1988.0       1  33.0  "
      ]
     },
     "execution_count": 29,
     "metadata": {},
     "output_type": "execute_result"
    }
   ],
   "source": [
    "df_201510.head()"
   ]
  },
  {
   "cell_type": "code",
   "execution_count": 30,
   "metadata": {},
   "outputs": [],
   "source": [
    "from sklearn.preprocessing import LabelEncoder\n",
    "\n",
    "le = LabelEncoder()\n",
    "df_201510['Label User Type']= le.fit_transform(df_201510['User Type'])"
   ]
  },
  {
   "cell_type": "code",
   "execution_count": 31,
   "metadata": {},
   "outputs": [
    {
     "data": {
      "text/html": [
       "<div>\n",
       "<style scoped>\n",
       "    .dataframe tbody tr th:only-of-type {\n",
       "        vertical-align: middle;\n",
       "    }\n",
       "\n",
       "    .dataframe tbody tr th {\n",
       "        vertical-align: top;\n",
       "    }\n",
       "\n",
       "    .dataframe thead th {\n",
       "        text-align: right;\n",
       "    }\n",
       "</style>\n",
       "<table border=\"1\" class=\"dataframe\">\n",
       "  <thead>\n",
       "    <tr style=\"text-align: right;\">\n",
       "      <th></th>\n",
       "      <th>Trip Duration</th>\n",
       "      <th>Start Time</th>\n",
       "      <th>Stop Time</th>\n",
       "      <th>Start Station ID</th>\n",
       "      <th>Start Station Name</th>\n",
       "      <th>Start Station Latitude</th>\n",
       "      <th>Start Station Longitude</th>\n",
       "      <th>End Station ID</th>\n",
       "      <th>End Station Name</th>\n",
       "      <th>End Station Latitude</th>\n",
       "      <th>End Station Longitude</th>\n",
       "      <th>Bike ID</th>\n",
       "      <th>User Type</th>\n",
       "      <th>Birth Year</th>\n",
       "      <th>Gender</th>\n",
       "      <th>Age</th>\n",
       "      <th>Label User Type</th>\n",
       "    </tr>\n",
       "  </thead>\n",
       "  <tbody>\n",
       "    <tr>\n",
       "      <th>0</th>\n",
       "      <td>376</td>\n",
       "      <td>2015-10-01 00:16:26</td>\n",
       "      <td>2015-10-01 00:22:42</td>\n",
       "      <td>3212</td>\n",
       "      <td>Christ Hospital</td>\n",
       "      <td>40.734786</td>\n",
       "      <td>-74.050444</td>\n",
       "      <td>3207</td>\n",
       "      <td>Oakland Ave</td>\n",
       "      <td>40.737604</td>\n",
       "      <td>-74.052478</td>\n",
       "      <td>24470</td>\n",
       "      <td>Subscriber</td>\n",
       "      <td>1960.0</td>\n",
       "      <td>1</td>\n",
       "      <td>61.0</td>\n",
       "      <td>0</td>\n",
       "    </tr>\n",
       "    <tr>\n",
       "      <th>1</th>\n",
       "      <td>739</td>\n",
       "      <td>2015-10-01 00:27:12</td>\n",
       "      <td>2015-10-01 00:39:32</td>\n",
       "      <td>3207</td>\n",
       "      <td>Oakland Ave</td>\n",
       "      <td>40.737604</td>\n",
       "      <td>-74.052478</td>\n",
       "      <td>3212</td>\n",
       "      <td>Christ Hospital</td>\n",
       "      <td>40.734786</td>\n",
       "      <td>-74.050444</td>\n",
       "      <td>24481</td>\n",
       "      <td>Subscriber</td>\n",
       "      <td>1960.0</td>\n",
       "      <td>1</td>\n",
       "      <td>61.0</td>\n",
       "      <td>0</td>\n",
       "    </tr>\n",
       "    <tr>\n",
       "      <th>2</th>\n",
       "      <td>2714</td>\n",
       "      <td>2015-10-01 00:32:46</td>\n",
       "      <td>2015-10-01 01:18:01</td>\n",
       "      <td>3193</td>\n",
       "      <td>Lincoln Park</td>\n",
       "      <td>40.724605</td>\n",
       "      <td>-74.078406</td>\n",
       "      <td>3193</td>\n",
       "      <td>Lincoln Park</td>\n",
       "      <td>40.724605</td>\n",
       "      <td>-74.078406</td>\n",
       "      <td>24628</td>\n",
       "      <td>Subscriber</td>\n",
       "      <td>1983.0</td>\n",
       "      <td>1</td>\n",
       "      <td>38.0</td>\n",
       "      <td>0</td>\n",
       "    </tr>\n",
       "    <tr>\n",
       "      <th>3</th>\n",
       "      <td>275</td>\n",
       "      <td>2015-10-01 00:34:31</td>\n",
       "      <td>2015-10-01 00:39:06</td>\n",
       "      <td>3199</td>\n",
       "      <td>Newport Pkwy</td>\n",
       "      <td>40.728745</td>\n",
       "      <td>-74.032108</td>\n",
       "      <td>3187</td>\n",
       "      <td>Warren St</td>\n",
       "      <td>40.721124</td>\n",
       "      <td>-74.038051</td>\n",
       "      <td>24613</td>\n",
       "      <td>Subscriber</td>\n",
       "      <td>1975.0</td>\n",
       "      <td>1</td>\n",
       "      <td>46.0</td>\n",
       "      <td>0</td>\n",
       "    </tr>\n",
       "    <tr>\n",
       "      <th>6</th>\n",
       "      <td>139</td>\n",
       "      <td>2015-10-01 00:43:44</td>\n",
       "      <td>2015-10-01 00:46:03</td>\n",
       "      <td>3206</td>\n",
       "      <td>Hilltop</td>\n",
       "      <td>40.731169</td>\n",
       "      <td>-74.057574</td>\n",
       "      <td>3195</td>\n",
       "      <td>Sip Ave</td>\n",
       "      <td>40.730743</td>\n",
       "      <td>-74.063784</td>\n",
       "      <td>24482</td>\n",
       "      <td>Subscriber</td>\n",
       "      <td>1988.0</td>\n",
       "      <td>1</td>\n",
       "      <td>33.0</td>\n",
       "      <td>0</td>\n",
       "    </tr>\n",
       "  </tbody>\n",
       "</table>\n",
       "</div>"
      ],
      "text/plain": [
       "   Trip Duration           Start Time            Stop Time  Start Station ID  \\\n",
       "0            376  2015-10-01 00:16:26  2015-10-01 00:22:42              3212   \n",
       "1            739  2015-10-01 00:27:12  2015-10-01 00:39:32              3207   \n",
       "2           2714  2015-10-01 00:32:46  2015-10-01 01:18:01              3193   \n",
       "3            275  2015-10-01 00:34:31  2015-10-01 00:39:06              3199   \n",
       "6            139  2015-10-01 00:43:44  2015-10-01 00:46:03              3206   \n",
       "\n",
       "  Start Station Name  Start Station Latitude  Start Station Longitude  \\\n",
       "0    Christ Hospital               40.734786               -74.050444   \n",
       "1        Oakland Ave               40.737604               -74.052478   \n",
       "2       Lincoln Park               40.724605               -74.078406   \n",
       "3       Newport Pkwy               40.728745               -74.032108   \n",
       "6            Hilltop               40.731169               -74.057574   \n",
       "\n",
       "   End Station ID End Station Name  End Station Latitude  \\\n",
       "0            3207      Oakland Ave             40.737604   \n",
       "1            3212  Christ Hospital             40.734786   \n",
       "2            3193     Lincoln Park             40.724605   \n",
       "3            3187        Warren St             40.721124   \n",
       "6            3195          Sip Ave             40.730743   \n",
       "\n",
       "   End Station Longitude  Bike ID   User Type  Birth Year  Gender   Age  \\\n",
       "0             -74.052478    24470  Subscriber      1960.0       1  61.0   \n",
       "1             -74.050444    24481  Subscriber      1960.0       1  61.0   \n",
       "2             -74.078406    24628  Subscriber      1983.0       1  38.0   \n",
       "3             -74.038051    24613  Subscriber      1975.0       1  46.0   \n",
       "6             -74.063784    24482  Subscriber      1988.0       1  33.0   \n",
       "\n",
       "   Label User Type  \n",
       "0                0  \n",
       "1                0  \n",
       "2                0  \n",
       "3                0  \n",
       "6                0  "
      ]
     },
     "execution_count": 31,
     "metadata": {},
     "output_type": "execute_result"
    }
   ],
   "source": [
    "df_201510.head()"
   ]
  },
  {
   "cell_type": "code",
   "execution_count": 32,
   "metadata": {},
   "outputs": [
    {
     "data": {
      "text/plain": [
       "Subscriber    16967\n",
       "Name: User Type, dtype: int64"
      ]
     },
     "execution_count": 32,
     "metadata": {},
     "output_type": "execute_result"
    }
   ],
   "source": [
    "df_201510['User Type'].value_counts()"
   ]
  },
  {
   "cell_type": "code",
   "execution_count": 33,
   "metadata": {},
   "outputs": [
    {
     "data": {
      "text/plain": [
       "0    16967\n",
       "Name: Label User Type, dtype: int64"
      ]
     },
     "execution_count": 33,
     "metadata": {},
     "output_type": "execute_result"
    }
   ],
   "source": [
    "df_201510['Label User Type'].value_counts()"
   ]
  },
  {
   "cell_type": "code",
   "execution_count": 34,
   "metadata": {},
   "outputs": [
    {
     "data": {
      "image/png": "[encoded data removed]",
      "text/plain": [
       "<Figure size 720x720 with 4 Axes>"
      ]
     },
     "metadata": {
      "needs_background": "light"
     },
     "output_type": "display_data"
    }
   ],
   "source": [
    "# 0 = Unknown; 1 = Male; 2 = Female\n",
    "# 0 = Subscriber = Annual Member; 1 = Customer = 24-hour pass or 3-day pass user;\n",
    "\n",
    "data_hist_plot_citi = df_201510[['Gender', 'Label User Type', 'Age']].hist(figsize = (10,10), color = \"gray\")"
   ]
  },
  {
   "cell_type": "markdown",
   "metadata": {},
   "source": [
    "## What is the average number of trips per day?"
   ]
  },
  {
   "cell_type": "code",
   "execution_count": 35,
   "metadata": {},
   "outputs": [],
   "source": [
    "df_201510['Start Time'] = pd.to_datetime(df_201510['Start Time'])\n",
    "df_201510['Stop Time'] = pd.to_datetime(df_201510['Stop Time'])"
   ]
  },
  {
   "cell_type": "code",
   "execution_count": 36,
   "metadata": {},
   "outputs": [
    {
     "name": "stdout",
     "output_type": "stream",
     "text": [
      "<class 'pandas.core.frame.DataFrame'>\n",
      "Int64Index: 16967 entries, 0 to 19262\n",
      "Data columns (total 17 columns):\n",
      "Trip Duration              16967 non-null int64\n",
      "Start Time                 16967 non-null datetime64[ns]\n",
      "Stop Time                  16967 non-null datetime64[ns]\n",
      "Start Station ID           16967 non-null int64\n",
      "Start Station Name         16967 non-null object\n",
      "Start Station Latitude     16967 non-null float64\n",
      "Start Station Longitude    16967 non-null float64\n",
      "End Station ID             16967 non-null int64\n",
      "End Station Name           16967 non-null object\n",
      "End Station Latitude       16967 non-null float64\n",
      "End Station Longitude      16967 non-null float64\n",
      "Bike ID                    16967 non-null int64\n",
      "User Type                  16967 non-null object\n",
      "Birth Year                 16967 non-null float64\n",
      "Gender                     16967 non-null int64\n",
      "Age                        16967 non-null float64\n",
      "Label User Type            16967 non-null int32\n",
      "dtypes: datetime64[ns](2), float64(6), int32(1), int64(5), object(3)\n",
      "memory usage: 2.3+ MB\n"
     ]
    }
   ],
   "source": [
    "df_201510.info()"
   ]
  },
  {
   "cell_type": "code",
   "execution_count": 37,
   "metadata": {},
   "outputs": [
    {
     "name": "stdout",
     "output_type": "stream",
     "text": [
      "Average number trips perday : 46.484931506849314\n"
     ]
    }
   ],
   "source": [
    "# [Average of trips per day] = [Total trip]/365\n",
    "\n",
    "count_trip = df_201510['Start Time'].count()\n",
    "avg_trip_perday = count_trip/365\n",
    "\n",
    "print(\"Average number trips perday :\", avg_trip_perday)"
   ]
  },
  {
   "cell_type": "markdown",
   "metadata": {},
   "source": [
    "## What is the average trip duration?"
   ]
  },
  {
   "cell_type": "code",
   "execution_count": 38,
   "metadata": {},
   "outputs": [],
   "source": [
    "df_201510['Duration']= df_201510['Stop Time']-df_201510['Start Time']"
   ]
  },
  {
   "cell_type": "code",
   "execution_count": 39,
   "metadata": {},
   "outputs": [
    {
     "data": {
      "text/html": [
       "<div>\n",
       "<style scoped>\n",
       "    .dataframe tbody tr th:only-of-type {\n",
       "        vertical-align: middle;\n",
       "    }\n",
       "\n",
       "    .dataframe tbody tr th {\n",
       "        vertical-align: top;\n",
       "    }\n",
       "\n",
       "    .dataframe thead th {\n",
       "        text-align: right;\n",
       "    }\n",
       "</style>\n",
       "<table border=\"1\" class=\"dataframe\">\n",
       "  <thead>\n",
       "    <tr style=\"text-align: right;\">\n",
       "      <th></th>\n",
       "      <th>Trip Duration</th>\n",
       "      <th>Start Time</th>\n",
       "      <th>Stop Time</th>\n",
       "      <th>Start Station ID</th>\n",
       "      <th>Start Station Name</th>\n",
       "      <th>Start Station Latitude</th>\n",
       "      <th>Start Station Longitude</th>\n",
       "      <th>End Station ID</th>\n",
       "      <th>End Station Name</th>\n",
       "      <th>End Station Latitude</th>\n",
       "      <th>End Station Longitude</th>\n",
       "      <th>Bike ID</th>\n",
       "      <th>User Type</th>\n",
       "      <th>Birth Year</th>\n",
       "      <th>Gender</th>\n",
       "      <th>Age</th>\n",
       "      <th>Label User Type</th>\n",
       "      <th>Duration</th>\n",
       "    </tr>\n",
       "  </thead>\n",
       "  <tbody>\n",
       "    <tr>\n",
       "      <th>0</th>\n",
       "      <td>376</td>\n",
       "      <td>2015-10-01 00:16:26</td>\n",
       "      <td>2015-10-01 00:22:42</td>\n",
       "      <td>3212</td>\n",
       "      <td>Christ Hospital</td>\n",
       "      <td>40.734786</td>\n",
       "      <td>-74.050444</td>\n",
       "      <td>3207</td>\n",
       "      <td>Oakland Ave</td>\n",
       "      <td>40.737604</td>\n",
       "      <td>-74.052478</td>\n",
       "      <td>24470</td>\n",
       "      <td>Subscriber</td>\n",
       "      <td>1960.0</td>\n",
       "      <td>1</td>\n",
       "      <td>61.0</td>\n",
       "      <td>0</td>\n",
       "      <td>00:06:16</td>\n",
       "    </tr>\n",
       "    <tr>\n",
       "      <th>1</th>\n",
       "      <td>739</td>\n",
       "      <td>2015-10-01 00:27:12</td>\n",
       "      <td>2015-10-01 00:39:32</td>\n",
       "      <td>3207</td>\n",
       "      <td>Oakland Ave</td>\n",
       "      <td>40.737604</td>\n",
       "      <td>-74.052478</td>\n",
       "      <td>3212</td>\n",
       "      <td>Christ Hospital</td>\n",
       "      <td>40.734786</td>\n",
       "      <td>-74.050444</td>\n",
       "      <td>24481</td>\n",
       "      <td>Subscriber</td>\n",
       "      <td>1960.0</td>\n",
       "      <td>1</td>\n",
       "      <td>61.0</td>\n",
       "      <td>0</td>\n",
       "      <td>00:12:20</td>\n",
       "    </tr>\n",
       "    <tr>\n",
       "      <th>2</th>\n",
       "      <td>2714</td>\n",
       "      <td>2015-10-01 00:32:46</td>\n",
       "      <td>2015-10-01 01:18:01</td>\n",
       "      <td>3193</td>\n",
       "      <td>Lincoln Park</td>\n",
       "      <td>40.724605</td>\n",
       "      <td>-74.078406</td>\n",
       "      <td>3193</td>\n",
       "      <td>Lincoln Park</td>\n",
       "      <td>40.724605</td>\n",
       "      <td>-74.078406</td>\n",
       "      <td>24628</td>\n",
       "      <td>Subscriber</td>\n",
       "      <td>1983.0</td>\n",
       "      <td>1</td>\n",
       "      <td>38.0</td>\n",
       "      <td>0</td>\n",
       "      <td>00:45:15</td>\n",
       "    </tr>\n",
       "    <tr>\n",
       "      <th>3</th>\n",
       "      <td>275</td>\n",
       "      <td>2015-10-01 00:34:31</td>\n",
       "      <td>2015-10-01 00:39:06</td>\n",
       "      <td>3199</td>\n",
       "      <td>Newport Pkwy</td>\n",
       "      <td>40.728745</td>\n",
       "      <td>-74.032108</td>\n",
       "      <td>3187</td>\n",
       "      <td>Warren St</td>\n",
       "      <td>40.721124</td>\n",
       "      <td>-74.038051</td>\n",
       "      <td>24613</td>\n",
       "      <td>Subscriber</td>\n",
       "      <td>1975.0</td>\n",
       "      <td>1</td>\n",
       "      <td>46.0</td>\n",
       "      <td>0</td>\n",
       "      <td>00:04:35</td>\n",
       "    </tr>\n",
       "    <tr>\n",
       "      <th>6</th>\n",
       "      <td>139</td>\n",
       "      <td>2015-10-01 00:43:44</td>\n",
       "      <td>2015-10-01 00:46:03</td>\n",
       "      <td>3206</td>\n",
       "      <td>Hilltop</td>\n",
       "      <td>40.731169</td>\n",
       "      <td>-74.057574</td>\n",
       "      <td>3195</td>\n",
       "      <td>Sip Ave</td>\n",
       "      <td>40.730743</td>\n",
       "      <td>-74.063784</td>\n",
       "      <td>24482</td>\n",
       "      <td>Subscriber</td>\n",
       "      <td>1988.0</td>\n",
       "      <td>1</td>\n",
       "      <td>33.0</td>\n",
       "      <td>0</td>\n",
       "      <td>00:02:19</td>\n",
       "    </tr>\n",
       "  </tbody>\n",
       "</table>\n",
       "</div>"
      ],
      "text/plain": [
       "   Trip Duration          Start Time           Stop Time  Start Station ID  \\\n",
       "0            376 2015-10-01 00:16:26 2015-10-01 00:22:42              3212   \n",
       "1            739 2015-10-01 00:27:12 2015-10-01 00:39:32              3207   \n",
       "2           2714 2015-10-01 00:32:46 2015-10-01 01:18:01              3193   \n",
       "3            275 2015-10-01 00:34:31 2015-10-01 00:39:06              3199   \n",
       "6            139 2015-10-01 00:43:44 2015-10-01 00:46:03              3206   \n",
       "\n",
       "  Start Station Name  Start Station Latitude  Start Station Longitude  \\\n",
       "0    Christ Hospital               40.734786               -74.050444   \n",
       "1        Oakland Ave               40.737604               -74.052478   \n",
       "2       Lincoln Park               40.724605               -74.078406   \n",
       "3       Newport Pkwy               40.728745               -74.032108   \n",
       "6            Hilltop               40.731169               -74.057574   \n",
       "\n",
       "   End Station ID End Station Name  End Station Latitude  \\\n",
       "0            3207      Oakland Ave             40.737604   \n",
       "1            3212  Christ Hospital             40.734786   \n",
       "2            3193     Lincoln Park             40.724605   \n",
       "3            3187        Warren St             40.721124   \n",
       "6            3195          Sip Ave             40.730743   \n",
       "\n",
       "   End Station Longitude  Bike ID   User Type  Birth Year  Gender   Age  \\\n",
       "0             -74.052478    24470  Subscriber      1960.0       1  61.0   \n",
       "1             -74.050444    24481  Subscriber      1960.0       1  61.0   \n",
       "2             -74.078406    24628  Subscriber      1983.0       1  38.0   \n",
       "3             -74.038051    24613  Subscriber      1975.0       1  46.0   \n",
       "6             -74.063784    24482  Subscriber      1988.0       1  33.0   \n",
       "\n",
       "   Label User Type Duration  \n",
       "0                0 00:06:16  \n",
       "1                0 00:12:20  \n",
       "2                0 00:45:15  \n",
       "3                0 00:04:35  \n",
       "6                0 00:02:19  "
      ]
     },
     "execution_count": 39,
     "metadata": {},
     "output_type": "execute_result"
    }
   ],
   "source": [
    "df_201510.head()"
   ]
  },
  {
   "cell_type": "code",
   "execution_count": 40,
   "metadata": {},
   "outputs": [
    {
     "name": "stdout",
     "output_type": "stream",
     "text": [
      "Average Trip Duration: 0 days 00:11:50.512347\n"
     ]
    }
   ],
   "source": [
    "avg_trip_duration = df_201510['Duration'].mean()\n",
    "\n",
    "print(\"Average Trip Duration:\", avg_trip_duration)"
   ]
  },
  {
   "cell_type": "markdown",
   "metadata": {},
   "source": [
    "## What days of the week are most rides taken on?\n",
    "Process the data and plot your answer"
   ]
  },
  {
   "cell_type": "code",
   "execution_count": 41,
   "metadata": {},
   "outputs": [],
   "source": [
    "df_201510['Start Day'] = df_201510['Start Time'].dt.weekday_name"
   ]
  },
  {
   "cell_type": "code",
   "execution_count": 42,
   "metadata": {},
   "outputs": [
    {
     "data": {
      "text/html": [
       "<div>\n",
       "<style scoped>\n",
       "    .dataframe tbody tr th:only-of-type {\n",
       "        vertical-align: middle;\n",
       "    }\n",
       "\n",
       "    .dataframe tbody tr th {\n",
       "        vertical-align: top;\n",
       "    }\n",
       "\n",
       "    .dataframe thead th {\n",
       "        text-align: right;\n",
       "    }\n",
       "</style>\n",
       "<table border=\"1\" class=\"dataframe\">\n",
       "  <thead>\n",
       "    <tr style=\"text-align: right;\">\n",
       "      <th></th>\n",
       "      <th>Trip Duration</th>\n",
       "      <th>Start Time</th>\n",
       "      <th>Stop Time</th>\n",
       "      <th>Start Station ID</th>\n",
       "      <th>Start Station Name</th>\n",
       "      <th>Start Station Latitude</th>\n",
       "      <th>Start Station Longitude</th>\n",
       "      <th>End Station ID</th>\n",
       "      <th>End Station Name</th>\n",
       "      <th>End Station Latitude</th>\n",
       "      <th>End Station Longitude</th>\n",
       "      <th>Bike ID</th>\n",
       "      <th>User Type</th>\n",
       "      <th>Birth Year</th>\n",
       "      <th>Gender</th>\n",
       "      <th>Age</th>\n",
       "      <th>Label User Type</th>\n",
       "      <th>Duration</th>\n",
       "      <th>Start Day</th>\n",
       "    </tr>\n",
       "  </thead>\n",
       "  <tbody>\n",
       "    <tr>\n",
       "      <th>0</th>\n",
       "      <td>376</td>\n",
       "      <td>2015-10-01 00:16:26</td>\n",
       "      <td>2015-10-01 00:22:42</td>\n",
       "      <td>3212</td>\n",
       "      <td>Christ Hospital</td>\n",
       "      <td>40.734786</td>\n",
       "      <td>-74.050444</td>\n",
       "      <td>3207</td>\n",
       "      <td>Oakland Ave</td>\n",
       "      <td>40.737604</td>\n",
       "      <td>-74.052478</td>\n",
       "      <td>24470</td>\n",
       "      <td>Subscriber</td>\n",
       "      <td>1960.0</td>\n",
       "      <td>1</td>\n",
       "      <td>61.0</td>\n",
       "      <td>0</td>\n",
       "      <td>00:06:16</td>\n",
       "      <td>Thursday</td>\n",
       "    </tr>\n",
       "    <tr>\n",
       "      <th>1</th>\n",
       "      <td>739</td>\n",
       "      <td>2015-10-01 00:27:12</td>\n",
       "      <td>2015-10-01 00:39:32</td>\n",
       "      <td>3207</td>\n",
       "      <td>Oakland Ave</td>\n",
       "      <td>40.737604</td>\n",
       "      <td>-74.052478</td>\n",
       "      <td>3212</td>\n",
       "      <td>Christ Hospital</td>\n",
       "      <td>40.734786</td>\n",
       "      <td>-74.050444</td>\n",
       "      <td>24481</td>\n",
       "      <td>Subscriber</td>\n",
       "      <td>1960.0</td>\n",
       "      <td>1</td>\n",
       "      <td>61.0</td>\n",
       "      <td>0</td>\n",
       "      <td>00:12:20</td>\n",
       "      <td>Thursday</td>\n",
       "    </tr>\n",
       "    <tr>\n",
       "      <th>2</th>\n",
       "      <td>2714</td>\n",
       "      <td>2015-10-01 00:32:46</td>\n",
       "      <td>2015-10-01 01:18:01</td>\n",
       "      <td>3193</td>\n",
       "      <td>Lincoln Park</td>\n",
       "      <td>40.724605</td>\n",
       "      <td>-74.078406</td>\n",
       "      <td>3193</td>\n",
       "      <td>Lincoln Park</td>\n",
       "      <td>40.724605</td>\n",
       "      <td>-74.078406</td>\n",
       "      <td>24628</td>\n",
       "      <td>Subscriber</td>\n",
       "      <td>1983.0</td>\n",
       "      <td>1</td>\n",
       "      <td>38.0</td>\n",
       "      <td>0</td>\n",
       "      <td>00:45:15</td>\n",
       "      <td>Thursday</td>\n",
       "    </tr>\n",
       "    <tr>\n",
       "      <th>3</th>\n",
       "      <td>275</td>\n",
       "      <td>2015-10-01 00:34:31</td>\n",
       "      <td>2015-10-01 00:39:06</td>\n",
       "      <td>3199</td>\n",
       "      <td>Newport Pkwy</td>\n",
       "      <td>40.728745</td>\n",
       "      <td>-74.032108</td>\n",
       "      <td>3187</td>\n",
       "      <td>Warren St</td>\n",
       "      <td>40.721124</td>\n",
       "      <td>-74.038051</td>\n",
       "      <td>24613</td>\n",
       "      <td>Subscriber</td>\n",
       "      <td>1975.0</td>\n",
       "      <td>1</td>\n",
       "      <td>46.0</td>\n",
       "      <td>0</td>\n",
       "      <td>00:04:35</td>\n",
       "      <td>Thursday</td>\n",
       "    </tr>\n",
       "    <tr>\n",
       "      <th>6</th>\n",
       "      <td>139</td>\n",
       "      <td>2015-10-01 00:43:44</td>\n",
       "      <td>2015-10-01 00:46:03</td>\n",
       "      <td>3206</td>\n",
       "      <td>Hilltop</td>\n",
       "      <td>40.731169</td>\n",
       "      <td>-74.057574</td>\n",
       "      <td>3195</td>\n",
       "      <td>Sip Ave</td>\n",
       "      <td>40.730743</td>\n",
       "      <td>-74.063784</td>\n",
       "      <td>24482</td>\n",
       "      <td>Subscriber</td>\n",
       "      <td>1988.0</td>\n",
       "      <td>1</td>\n",
       "      <td>33.0</td>\n",
       "      <td>0</td>\n",
       "      <td>00:02:19</td>\n",
       "      <td>Thursday</td>\n",
       "    </tr>\n",
       "  </tbody>\n",
       "</table>\n",
       "</div>"
      ],
      "text/plain": [
       "   Trip Duration          Start Time           Stop Time  Start Station ID  \\\n",
       "0            376 2015-10-01 00:16:26 2015-10-01 00:22:42              3212   \n",
       "1            739 2015-10-01 00:27:12 2015-10-01 00:39:32              3207   \n",
       "2           2714 2015-10-01 00:32:46 2015-10-01 01:18:01              3193   \n",
       "3            275 2015-10-01 00:34:31 2015-10-01 00:39:06              3199   \n",
       "6            139 2015-10-01 00:43:44 2015-10-01 00:46:03              3206   \n",
       "\n",
       "  Start Station Name  Start Station Latitude  Start Station Longitude  \\\n",
       "0    Christ Hospital               40.734786               -74.050444   \n",
       "1        Oakland Ave               40.737604               -74.052478   \n",
       "2       Lincoln Park               40.724605               -74.078406   \n",
       "3       Newport Pkwy               40.728745               -74.032108   \n",
       "6            Hilltop               40.731169               -74.057574   \n",
       "\n",
       "   End Station ID End Station Name  End Station Latitude  \\\n",
       "0            3207      Oakland Ave             40.737604   \n",
       "1            3212  Christ Hospital             40.734786   \n",
       "2            3193     Lincoln Park             40.724605   \n",
       "3            3187        Warren St             40.721124   \n",
       "6            3195          Sip Ave             40.730743   \n",
       "\n",
       "   End Station Longitude  Bike ID   User Type  Birth Year  Gender   Age  \\\n",
       "0             -74.052478    24470  Subscriber      1960.0       1  61.0   \n",
       "1             -74.050444    24481  Subscriber      1960.0       1  61.0   \n",
       "2             -74.078406    24628  Subscriber      1983.0       1  38.0   \n",
       "3             -74.038051    24613  Subscriber      1975.0       1  46.0   \n",
       "6             -74.063784    24482  Subscriber      1988.0       1  33.0   \n",
       "\n",
       "   Label User Type Duration Start Day  \n",
       "0                0 00:06:16  Thursday  \n",
       "1                0 00:12:20  Thursday  \n",
       "2                0 00:45:15  Thursday  \n",
       "3                0 00:04:35  Thursday  \n",
       "6                0 00:02:19  Thursday  "
      ]
     },
     "execution_count": 42,
     "metadata": {},
     "output_type": "execute_result"
    }
   ],
   "source": [
    "df_201510.head()"
   ]
  },
  {
   "cell_type": "code",
   "execution_count": 43,
   "metadata": {},
   "outputs": [],
   "source": [
    "df_count_weekdays = pd.DataFrame(df_201510['Start Day'].value_counts(ascending=True))"
   ]
  },
  {
   "cell_type": "code",
   "execution_count": 44,
   "metadata": {},
   "outputs": [],
   "source": [
    "df_count_weekdays.reset_index(inplace=True)"
   ]
  },
  {
   "cell_type": "code",
   "execution_count": 45,
   "metadata": {},
   "outputs": [],
   "source": [
    "df_count_weekdays.rename(columns={'Start Day': 'Count days of the trip', 'index': 'Days'}, inplace=True)"
   ]
  },
  {
   "cell_type": "code",
   "execution_count": 46,
   "metadata": {},
   "outputs": [
    {
     "data": {
      "text/html": [
       "<div>\n",
       "<style scoped>\n",
       "    .dataframe tbody tr th:only-of-type {\n",
       "        vertical-align: middle;\n",
       "    }\n",
       "\n",
       "    .dataframe tbody tr th {\n",
       "        vertical-align: top;\n",
       "    }\n",
       "\n",
       "    .dataframe thead th {\n",
       "        text-align: right;\n",
       "    }\n",
       "</style>\n",
       "<table border=\"1\" class=\"dataframe\">\n",
       "  <thead>\n",
       "    <tr style=\"text-align: right;\">\n",
       "      <th></th>\n",
       "      <th>Days</th>\n",
       "      <th>Count days of the trip</th>\n",
       "    </tr>\n",
       "  </thead>\n",
       "  <tbody>\n",
       "    <tr>\n",
       "      <th>0</th>\n",
       "      <td>Sunday</td>\n",
       "      <td>1715</td>\n",
       "    </tr>\n",
       "    <tr>\n",
       "      <th>1</th>\n",
       "      <td>Saturday</td>\n",
       "      <td>2074</td>\n",
       "    </tr>\n",
       "    <tr>\n",
       "      <th>2</th>\n",
       "      <td>Wednesday</td>\n",
       "      <td>2417</td>\n",
       "    </tr>\n",
       "    <tr>\n",
       "      <th>3</th>\n",
       "      <td>Monday</td>\n",
       "      <td>2442</td>\n",
       "    </tr>\n",
       "    <tr>\n",
       "      <th>4</th>\n",
       "      <td>Friday</td>\n",
       "      <td>2522</td>\n",
       "    </tr>\n",
       "    <tr>\n",
       "      <th>5</th>\n",
       "      <td>Tuesday</td>\n",
       "      <td>2669</td>\n",
       "    </tr>\n",
       "    <tr>\n",
       "      <th>6</th>\n",
       "      <td>Thursday</td>\n",
       "      <td>3128</td>\n",
       "    </tr>\n",
       "  </tbody>\n",
       "</table>\n",
       "</div>"
      ],
      "text/plain": [
       "        Days  Count days of the trip\n",
       "0     Sunday                    1715\n",
       "1   Saturday                    2074\n",
       "2  Wednesday                    2417\n",
       "3     Monday                    2442\n",
       "4     Friday                    2522\n",
       "5    Tuesday                    2669\n",
       "6   Thursday                    3128"
      ]
     },
     "execution_count": 46,
     "metadata": {},
     "output_type": "execute_result"
    }
   ],
   "source": [
    "df_count_weekdays"
   ]
  },
  {
   "cell_type": "code",
   "execution_count": 47,
   "metadata": {},
   "outputs": [],
   "source": [
    "cats = ['Monday', 'Tuesday', 'Wednesday', 'Thursday', 'Friday', 'Saturday', 'Sunday']\n",
    "df_count_weekdays['Days'] = pd.Categorical(df_count_weekdays['Days'], categories=cats, ordered=True)"
   ]
  },
  {
   "cell_type": "code",
   "execution_count": 48,
   "metadata": {},
   "outputs": [
    {
     "data": {
      "text/html": [
       "<div>\n",
       "<style scoped>\n",
       "    .dataframe tbody tr th:only-of-type {\n",
       "        vertical-align: middle;\n",
       "    }\n",
       "\n",
       "    .dataframe tbody tr th {\n",
       "        vertical-align: top;\n",
       "    }\n",
       "\n",
       "    .dataframe thead th {\n",
       "        text-align: right;\n",
       "    }\n",
       "</style>\n",
       "<table border=\"1\" class=\"dataframe\">\n",
       "  <thead>\n",
       "    <tr style=\"text-align: right;\">\n",
       "      <th></th>\n",
       "      <th>Days</th>\n",
       "      <th>Count days of the trip</th>\n",
       "    </tr>\n",
       "  </thead>\n",
       "  <tbody>\n",
       "    <tr>\n",
       "      <th>3</th>\n",
       "      <td>Monday</td>\n",
       "      <td>2442</td>\n",
       "    </tr>\n",
       "    <tr>\n",
       "      <th>5</th>\n",
       "      <td>Tuesday</td>\n",
       "      <td>2669</td>\n",
       "    </tr>\n",
       "    <tr>\n",
       "      <th>2</th>\n",
       "      <td>Wednesday</td>\n",
       "      <td>2417</td>\n",
       "    </tr>\n",
       "    <tr>\n",
       "      <th>6</th>\n",
       "      <td>Thursday</td>\n",
       "      <td>3128</td>\n",
       "    </tr>\n",
       "    <tr>\n",
       "      <th>4</th>\n",
       "      <td>Friday</td>\n",
       "      <td>2522</td>\n",
       "    </tr>\n",
       "    <tr>\n",
       "      <th>1</th>\n",
       "      <td>Saturday</td>\n",
       "      <td>2074</td>\n",
       "    </tr>\n",
       "    <tr>\n",
       "      <th>0</th>\n",
       "      <td>Sunday</td>\n",
       "      <td>1715</td>\n",
       "    </tr>\n",
       "  </tbody>\n",
       "</table>\n",
       "</div>"
      ],
      "text/plain": [
       "        Days  Count days of the trip\n",
       "3     Monday                    2442\n",
       "5    Tuesday                    2669\n",
       "2  Wednesday                    2417\n",
       "6   Thursday                    3128\n",
       "4     Friday                    2522\n",
       "1   Saturday                    2074\n",
       "0     Sunday                    1715"
      ]
     },
     "execution_count": 48,
     "metadata": {},
     "output_type": "execute_result"
    }
   ],
   "source": [
    "df_count_weekdays.sort_values('Days')"
   ]
  },
  {
   "cell_type": "code",
   "execution_count": 49,
   "metadata": {},
   "outputs": [
    {
     "data": {
      "text/html": [
       "<div>\n",
       "<style scoped>\n",
       "    .dataframe tbody tr th:only-of-type {\n",
       "        vertical-align: middle;\n",
       "    }\n",
       "\n",
       "    .dataframe tbody tr th {\n",
       "        vertical-align: top;\n",
       "    }\n",
       "\n",
       "    .dataframe thead th {\n",
       "        text-align: right;\n",
       "    }\n",
       "</style>\n",
       "<table border=\"1\" class=\"dataframe\">\n",
       "  <thead>\n",
       "    <tr style=\"text-align: right;\">\n",
       "      <th></th>\n",
       "      <th>Days</th>\n",
       "      <th>Count days of the trip</th>\n",
       "    </tr>\n",
       "  </thead>\n",
       "  <tbody>\n",
       "    <tr>\n",
       "      <th>6</th>\n",
       "      <td>Thursday</td>\n",
       "      <td>3128</td>\n",
       "    </tr>\n",
       "    <tr>\n",
       "      <th>5</th>\n",
       "      <td>Tuesday</td>\n",
       "      <td>2669</td>\n",
       "    </tr>\n",
       "    <tr>\n",
       "      <th>4</th>\n",
       "      <td>Friday</td>\n",
       "      <td>2522</td>\n",
       "    </tr>\n",
       "    <tr>\n",
       "      <th>3</th>\n",
       "      <td>Monday</td>\n",
       "      <td>2442</td>\n",
       "    </tr>\n",
       "    <tr>\n",
       "      <th>2</th>\n",
       "      <td>Wednesday</td>\n",
       "      <td>2417</td>\n",
       "    </tr>\n",
       "    <tr>\n",
       "      <th>1</th>\n",
       "      <td>Saturday</td>\n",
       "      <td>2074</td>\n",
       "    </tr>\n",
       "    <tr>\n",
       "      <th>0</th>\n",
       "      <td>Sunday</td>\n",
       "      <td>1715</td>\n",
       "    </tr>\n",
       "  </tbody>\n",
       "</table>\n",
       "</div>"
      ],
      "text/plain": [
       "        Days  Count days of the trip\n",
       "6   Thursday                    3128\n",
       "5    Tuesday                    2669\n",
       "4     Friday                    2522\n",
       "3     Monday                    2442\n",
       "2  Wednesday                    2417\n",
       "1   Saturday                    2074\n",
       "0     Sunday                    1715"
      ]
     },
     "execution_count": 49,
     "metadata": {},
     "output_type": "execute_result"
    }
   ],
   "source": [
    "df_count_weekdays.sort_values('Count days of the trip', ascending=False)"
   ]
  },
  {
   "cell_type": "code",
   "execution_count": 50,
   "metadata": {},
   "outputs": [
    {
     "data": {
      "image/png": "[encoded data removed]",
      "text/plain": [
       "<Figure size 1080x720 with 1 Axes>"
      ]
     },
     "metadata": {
      "needs_background": "light"
     },
     "output_type": "display_data"
    }
   ],
   "source": [
    "from matplotlib import pyplot\n",
    "\n",
    "a4_dims = (15, 10)\n",
    "fig, ax,= pyplot.subplots(figsize=a4_dims)\n",
    "\n",
    "ax = sns.barplot(data=df_count_weekdays, x= 'Days', y=\"Count days of the trip\")\n",
    "# ax.bar_label(ax.containers[0])"
   ]
  },
  {
   "cell_type": "markdown",
   "metadata": {},
   "source": [
    "Asnwer :\n",
    "The days of the week are the most traveled are thursdays, then the second position is occupied by tuesdays "
   ]
  },
  {
   "cell_type": "markdown",
   "metadata": {},
   "source": [
    "## What hour of the day are most rides taken on?\n",
    "Process the data and plot your answer"
   ]
  },
  {
   "cell_type": "code",
   "execution_count": 51,
   "metadata": {},
   "outputs": [],
   "source": [
    "df_201510['Start Hour'] = df_201510['Start Time'].dt.hour"
   ]
  },
  {
   "cell_type": "code",
   "execution_count": 52,
   "metadata": {},
   "outputs": [
    {
     "data": {
      "text/html": [
       "<div>\n",
       "<style scoped>\n",
       "    .dataframe tbody tr th:only-of-type {\n",
       "        vertical-align: middle;\n",
       "    }\n",
       "\n",
       "    .dataframe tbody tr th {\n",
       "        vertical-align: top;\n",
       "    }\n",
       "\n",
       "    .dataframe thead th {\n",
       "        text-align: right;\n",
       "    }\n",
       "</style>\n",
       "<table border=\"1\" class=\"dataframe\">\n",
       "  <thead>\n",
       "    <tr style=\"text-align: right;\">\n",
       "      <th></th>\n",
       "      <th>Trip Duration</th>\n",
       "      <th>Start Time</th>\n",
       "      <th>Stop Time</th>\n",
       "      <th>Start Station ID</th>\n",
       "      <th>Start Station Name</th>\n",
       "      <th>Start Station Latitude</th>\n",
       "      <th>Start Station Longitude</th>\n",
       "      <th>End Station ID</th>\n",
       "      <th>End Station Name</th>\n",
       "      <th>End Station Latitude</th>\n",
       "      <th>End Station Longitude</th>\n",
       "      <th>Bike ID</th>\n",
       "      <th>User Type</th>\n",
       "      <th>Birth Year</th>\n",
       "      <th>Gender</th>\n",
       "      <th>Age</th>\n",
       "      <th>Label User Type</th>\n",
       "      <th>Duration</th>\n",
       "      <th>Start Day</th>\n",
       "      <th>Start Hour</th>\n",
       "    </tr>\n",
       "  </thead>\n",
       "  <tbody>\n",
       "    <tr>\n",
       "      <th>19257</th>\n",
       "      <td>185</td>\n",
       "      <td>2015-10-31 23:33:00</td>\n",
       "      <td>2015-10-31 23:36:06</td>\n",
       "      <td>3186</td>\n",
       "      <td>Grove St PATH</td>\n",
       "      <td>40.719586</td>\n",
       "      <td>-74.043117</td>\n",
       "      <td>3213</td>\n",
       "      <td>Van Vorst Park</td>\n",
       "      <td>40.718489</td>\n",
       "      <td>-74.047727</td>\n",
       "      <td>24714</td>\n",
       "      <td>Subscriber</td>\n",
       "      <td>1982.0</td>\n",
       "      <td>2</td>\n",
       "      <td>39.0</td>\n",
       "      <td>0</td>\n",
       "      <td>00:03:06</td>\n",
       "      <td>Saturday</td>\n",
       "      <td>23</td>\n",
       "    </tr>\n",
       "    <tr>\n",
       "      <th>19258</th>\n",
       "      <td>533</td>\n",
       "      <td>2015-10-31 23:33:21</td>\n",
       "      <td>2015-10-31 23:42:15</td>\n",
       "      <td>3195</td>\n",
       "      <td>Sip Ave</td>\n",
       "      <td>40.730743</td>\n",
       "      <td>-74.063784</td>\n",
       "      <td>3225</td>\n",
       "      <td>Baldwin at Montgomery</td>\n",
       "      <td>40.723659</td>\n",
       "      <td>-74.064194</td>\n",
       "      <td>24452</td>\n",
       "      <td>Subscriber</td>\n",
       "      <td>1947.0</td>\n",
       "      <td>1</td>\n",
       "      <td>74.0</td>\n",
       "      <td>0</td>\n",
       "      <td>00:08:54</td>\n",
       "      <td>Saturday</td>\n",
       "      <td>23</td>\n",
       "    </tr>\n",
       "    <tr>\n",
       "      <th>19259</th>\n",
       "      <td>509</td>\n",
       "      <td>2015-10-31 23:34:26</td>\n",
       "      <td>2015-10-31 23:42:55</td>\n",
       "      <td>3195</td>\n",
       "      <td>Sip Ave</td>\n",
       "      <td>40.730743</td>\n",
       "      <td>-74.063784</td>\n",
       "      <td>3225</td>\n",
       "      <td>Baldwin at Montgomery</td>\n",
       "      <td>40.723659</td>\n",
       "      <td>-74.064194</td>\n",
       "      <td>24544</td>\n",
       "      <td>Subscriber</td>\n",
       "      <td>1949.0</td>\n",
       "      <td>2</td>\n",
       "      <td>72.0</td>\n",
       "      <td>0</td>\n",
       "      <td>00:08:29</td>\n",
       "      <td>Saturday</td>\n",
       "      <td>23</td>\n",
       "    </tr>\n",
       "    <tr>\n",
       "      <th>19261</th>\n",
       "      <td>229</td>\n",
       "      <td>2015-10-31 23:47:34</td>\n",
       "      <td>2015-10-31 23:51:23</td>\n",
       "      <td>3195</td>\n",
       "      <td>Sip Ave</td>\n",
       "      <td>40.730743</td>\n",
       "      <td>-74.063784</td>\n",
       "      <td>3194</td>\n",
       "      <td>McGinley Square</td>\n",
       "      <td>40.725340</td>\n",
       "      <td>-74.067622</td>\n",
       "      <td>24443</td>\n",
       "      <td>Subscriber</td>\n",
       "      <td>1996.0</td>\n",
       "      <td>2</td>\n",
       "      <td>25.0</td>\n",
       "      <td>0</td>\n",
       "      <td>00:03:49</td>\n",
       "      <td>Saturday</td>\n",
       "      <td>23</td>\n",
       "    </tr>\n",
       "    <tr>\n",
       "      <th>19262</th>\n",
       "      <td>196</td>\n",
       "      <td>2015-10-31 23:48:44</td>\n",
       "      <td>2015-10-31 23:52:00</td>\n",
       "      <td>3186</td>\n",
       "      <td>Grove St PATH</td>\n",
       "      <td>40.719586</td>\n",
       "      <td>-74.043117</td>\n",
       "      <td>3185</td>\n",
       "      <td>City Hall</td>\n",
       "      <td>40.717733</td>\n",
       "      <td>-74.043845</td>\n",
       "      <td>24592</td>\n",
       "      <td>Subscriber</td>\n",
       "      <td>1986.0</td>\n",
       "      <td>1</td>\n",
       "      <td>35.0</td>\n",
       "      <td>0</td>\n",
       "      <td>00:03:16</td>\n",
       "      <td>Saturday</td>\n",
       "      <td>23</td>\n",
       "    </tr>\n",
       "  </tbody>\n",
       "</table>\n",
       "</div>"
      ],
      "text/plain": [
       "       Trip Duration          Start Time           Stop Time  \\\n",
       "19257            185 2015-10-31 23:33:00 2015-10-31 23:36:06   \n",
       "19258            533 2015-10-31 23:33:21 2015-10-31 23:42:15   \n",
       "19259            509 2015-10-31 23:34:26 2015-10-31 23:42:55   \n",
       "19261            229 2015-10-31 23:47:34 2015-10-31 23:51:23   \n",
       "19262            196 2015-10-31 23:48:44 2015-10-31 23:52:00   \n",
       "\n",
       "       Start Station ID Start Station Name  Start Station Latitude  \\\n",
       "19257              3186      Grove St PATH               40.719586   \n",
       "19258              3195            Sip Ave               40.730743   \n",
       "19259              3195            Sip Ave               40.730743   \n",
       "19261              3195            Sip Ave               40.730743   \n",
       "19262              3186      Grove St PATH               40.719586   \n",
       "\n",
       "       Start Station Longitude  End Station ID       End Station Name  \\\n",
       "19257               -74.043117            3213         Van Vorst Park   \n",
       "19258               -74.063784            3225  Baldwin at Montgomery   \n",
       "19259               -74.063784            3225  Baldwin at Montgomery   \n",
       "19261               -74.063784            3194        McGinley Square   \n",
       "19262               -74.043117            3185              City Hall   \n",
       "\n",
       "       End Station Latitude  End Station Longitude  Bike ID   User Type  \\\n",
       "19257             40.718489             -74.047727    24714  Subscriber   \n",
       "19258             40.723659             -74.064194    24452  Subscriber   \n",
       "19259             40.723659             -74.064194    24544  Subscriber   \n",
       "19261             40.725340             -74.067622    24443  Subscriber   \n",
       "19262             40.717733             -74.043845    24592  Subscriber   \n",
       "\n",
       "       Birth Year  Gender   Age  Label User Type Duration Start Day  \\\n",
       "19257      1982.0       2  39.0                0 00:03:06  Saturday   \n",
       "19258      1947.0       1  74.0                0 00:08:54  Saturday   \n",
       "19259      1949.0       2  72.0                0 00:08:29  Saturday   \n",
       "19261      1996.0       2  25.0                0 00:03:49  Saturday   \n",
       "19262      1986.0       1  35.0                0 00:03:16  Saturday   \n",
       "\n",
       "       Start Hour  \n",
       "19257          23  \n",
       "19258          23  \n",
       "19259          23  \n",
       "19261          23  \n",
       "19262          23  "
      ]
     },
     "execution_count": 52,
     "metadata": {},
     "output_type": "execute_result"
    }
   ],
   "source": [
    "df_201510.tail()"
   ]
  },
  {
   "cell_type": "code",
   "execution_count": 53,
   "metadata": {},
   "outputs": [],
   "source": [
    "df_count_hour = pd.DataFrame(df_201510['Start Hour'].value_counts(ascending=True))"
   ]
  },
  {
   "cell_type": "code",
   "execution_count": 54,
   "metadata": {},
   "outputs": [],
   "source": [
    "df_count_hour.reset_index(inplace=True)"
   ]
  },
  {
   "cell_type": "code",
   "execution_count": 55,
   "metadata": {},
   "outputs": [],
   "source": [
    "df_count_hour.rename(columns={'Start Hour': 'Count Hour', 'index': 'Hour'}, inplace=True)"
   ]
  },
  {
   "cell_type": "code",
   "execution_count": 56,
   "metadata": {},
   "outputs": [
    {
     "data": {
      "text/html": [
       "<div>\n",
       "<style scoped>\n",
       "    .dataframe tbody tr th:only-of-type {\n",
       "        vertical-align: middle;\n",
       "    }\n",
       "\n",
       "    .dataframe tbody tr th {\n",
       "        vertical-align: top;\n",
       "    }\n",
       "\n",
       "    .dataframe thead th {\n",
       "        text-align: right;\n",
       "    }\n",
       "</style>\n",
       "<table border=\"1\" class=\"dataframe\">\n",
       "  <thead>\n",
       "    <tr style=\"text-align: right;\">\n",
       "      <th></th>\n",
       "      <th>Hour</th>\n",
       "      <th>Count Hour</th>\n",
       "    </tr>\n",
       "  </thead>\n",
       "  <tbody>\n",
       "    <tr>\n",
       "      <th>5</th>\n",
       "      <td>0</td>\n",
       "      <td>174</td>\n",
       "    </tr>\n",
       "    <tr>\n",
       "      <th>3</th>\n",
       "      <td>1</td>\n",
       "      <td>84</td>\n",
       "    </tr>\n",
       "    <tr>\n",
       "      <th>2</th>\n",
       "      <td>2</td>\n",
       "      <td>48</td>\n",
       "    </tr>\n",
       "    <tr>\n",
       "      <th>1</th>\n",
       "      <td>3</td>\n",
       "      <td>20</td>\n",
       "    </tr>\n",
       "    <tr>\n",
       "      <th>0</th>\n",
       "      <td>4</td>\n",
       "      <td>16</td>\n",
       "    </tr>\n",
       "    <tr>\n",
       "      <th>4</th>\n",
       "      <td>5</td>\n",
       "      <td>102</td>\n",
       "    </tr>\n",
       "    <tr>\n",
       "      <th>7</th>\n",
       "      <td>6</td>\n",
       "      <td>413</td>\n",
       "    </tr>\n",
       "    <tr>\n",
       "      <th>18</th>\n",
       "      <td>7</td>\n",
       "      <td>1061</td>\n",
       "    </tr>\n",
       "    <tr>\n",
       "      <th>23</th>\n",
       "      <td>8</td>\n",
       "      <td>2129</td>\n",
       "    </tr>\n",
       "    <tr>\n",
       "      <th>19</th>\n",
       "      <td>9</td>\n",
       "      <td>1086</td>\n",
       "    </tr>\n",
       "    <tr>\n",
       "      <th>11</th>\n",
       "      <td>10</td>\n",
       "      <td>672</td>\n",
       "    </tr>\n",
       "    <tr>\n",
       "      <th>10</th>\n",
       "      <td>11</td>\n",
       "      <td>655</td>\n",
       "    </tr>\n",
       "    <tr>\n",
       "      <th>15</th>\n",
       "      <td>12</td>\n",
       "      <td>807</td>\n",
       "    </tr>\n",
       "    <tr>\n",
       "      <th>13</th>\n",
       "      <td>13</td>\n",
       "      <td>761</td>\n",
       "    </tr>\n",
       "    <tr>\n",
       "      <th>12</th>\n",
       "      <td>14</td>\n",
       "      <td>704</td>\n",
       "    </tr>\n",
       "    <tr>\n",
       "      <th>14</th>\n",
       "      <td>15</td>\n",
       "      <td>769</td>\n",
       "    </tr>\n",
       "    <tr>\n",
       "      <th>17</th>\n",
       "      <td>16</td>\n",
       "      <td>904</td>\n",
       "    </tr>\n",
       "    <tr>\n",
       "      <th>21</th>\n",
       "      <td>17</td>\n",
       "      <td>1512</td>\n",
       "    </tr>\n",
       "    <tr>\n",
       "      <th>22</th>\n",
       "      <td>18</td>\n",
       "      <td>1658</td>\n",
       "    </tr>\n",
       "    <tr>\n",
       "      <th>20</th>\n",
       "      <td>19</td>\n",
       "      <td>1180</td>\n",
       "    </tr>\n",
       "    <tr>\n",
       "      <th>16</th>\n",
       "      <td>20</td>\n",
       "      <td>881</td>\n",
       "    </tr>\n",
       "    <tr>\n",
       "      <th>9</th>\n",
       "      <td>21</td>\n",
       "      <td>653</td>\n",
       "    </tr>\n",
       "    <tr>\n",
       "      <th>8</th>\n",
       "      <td>22</td>\n",
       "      <td>437</td>\n",
       "    </tr>\n",
       "    <tr>\n",
       "      <th>6</th>\n",
       "      <td>23</td>\n",
       "      <td>241</td>\n",
       "    </tr>\n",
       "  </tbody>\n",
       "</table>\n",
       "</div>"
      ],
      "text/plain": [
       "    Hour  Count Hour\n",
       "5      0         174\n",
       "3      1          84\n",
       "2      2          48\n",
       "1      3          20\n",
       "0      4          16\n",
       "4      5         102\n",
       "7      6         413\n",
       "18     7        1061\n",
       "23     8        2129\n",
       "19     9        1086\n",
       "11    10         672\n",
       "10    11         655\n",
       "15    12         807\n",
       "13    13         761\n",
       "12    14         704\n",
       "14    15         769\n",
       "17    16         904\n",
       "21    17        1512\n",
       "22    18        1658\n",
       "20    19        1180\n",
       "16    20         881\n",
       "9     21         653\n",
       "8     22         437\n",
       "6     23         241"
      ]
     },
     "execution_count": 56,
     "metadata": {},
     "output_type": "execute_result"
    }
   ],
   "source": [
    "df_count_hour.sort_values('Hour')"
   ]
  },
  {
   "cell_type": "code",
   "execution_count": 57,
   "metadata": {},
   "outputs": [
    {
     "data": {
      "image/png": "[encoded data removed]",
      "text/plain": [
       "<Figure size 1440x720 with 1 Axes>"
      ]
     },
     "metadata": {
      "needs_background": "light"
     },
     "output_type": "display_data"
    }
   ],
   "source": [
    "from matplotlib import pyplot\n",
    "\n",
    "a4_dims = (20, 10)\n",
    "fig, ax2,= pyplot.subplots(figsize=a4_dims)\n",
    "\n",
    "ax2 = sns.barplot(data=df_count_hour, x= 'Hour', y=\"Count Hour\")"
   ]
  },
  {
   "cell_type": "markdown",
   "metadata": {},
   "source": [
    "Answer : \n",
    "The hour of the day is that most of the trips made are at 8 am, followed by the second position is at 18/6 pm "
   ]
  },
  {
   "cell_type": "markdown",
   "metadata": {},
   "source": [
    "## Is there correlation between age and trip duration?"
   ]
  },
  {
   "cell_type": "code",
   "execution_count": 58,
   "metadata": {},
   "outputs": [],
   "source": [
    "df_201510.rename(columns={'Trip Duration': 'Trip_Duration'}, inplace=True)"
   ]
  },
  {
   "cell_type": "code",
   "execution_count": 59,
   "metadata": {},
   "outputs": [
    {
     "data": {
      "text/plain": [
       "0.015938575580309113"
      ]
     },
     "execution_count": 59,
     "metadata": {},
     "output_type": "execute_result"
    }
   ],
   "source": [
    "df_201510['Age'].corr(df_201510['Trip_Duration'])"
   ]
  },
  {
   "cell_type": "code",
   "execution_count": 60,
   "metadata": {},
   "outputs": [
    {
     "data": {
      "text/plain": [
       "<matplotlib.axes._subplots.AxesSubplot at 0x1b2f547a940>"
      ]
     },
     "execution_count": 60,
     "metadata": {},
     "output_type": "execute_result"
    },
    {
     "data": {
      "image/png": "[encoded data removed]",
      "text/plain": [
       "<Figure size 432x288 with 1 Axes>"
      ]
     },
     "metadata": {
      "needs_background": "light"
     },
     "output_type": "display_data"
    }
   ],
   "source": [
    "sns.regplot(data=df_201510.sample(200, random_state=1), \n",
    "            x=\"Age\", y=\"Trip_Duration\",\n",
    "            line_kws={\"color\": \"red\"})"
   ]
  },
  {
   "cell_type": "code",
   "execution_count": 61,
   "metadata": {},
   "outputs": [],
   "source": [
    "df_mean_perage = df_201510.groupby('Age', as_index=False).Trip_Duration.mean()"
   ]
  },
  {
   "cell_type": "code",
   "execution_count": 62,
   "metadata": {},
   "outputs": [],
   "source": [
    "Top10_mean_dur_perage = pd.DataFrame(df_mean_perage.sort_values('Trip_Duration', ascending=False).head(10))"
   ]
  },
  {
   "cell_type": "code",
   "execution_count": 63,
   "metadata": {},
   "outputs": [
    {
     "data": {
      "text/html": [
       "<div>\n",
       "<style scoped>\n",
       "    .dataframe tbody tr th:only-of-type {\n",
       "        vertical-align: middle;\n",
       "    }\n",
       "\n",
       "    .dataframe tbody tr th {\n",
       "        vertical-align: top;\n",
       "    }\n",
       "\n",
       "    .dataframe thead th {\n",
       "        text-align: right;\n",
       "    }\n",
       "</style>\n",
       "<table border=\"1\" class=\"dataframe\">\n",
       "  <thead>\n",
       "    <tr style=\"text-align: right;\">\n",
       "      <th></th>\n",
       "      <th>Age</th>\n",
       "      <th>Trip_Duration</th>\n",
       "    </tr>\n",
       "  </thead>\n",
       "  <tbody>\n",
       "    <tr>\n",
       "      <th>43</th>\n",
       "      <td>66.0</td>\n",
       "      <td>2435.428571</td>\n",
       "    </tr>\n",
       "    <tr>\n",
       "      <th>37</th>\n",
       "      <td>60.0</td>\n",
       "      <td>1630.862069</td>\n",
       "    </tr>\n",
       "    <tr>\n",
       "      <th>8</th>\n",
       "      <td>31.0</td>\n",
       "      <td>1355.203426</td>\n",
       "    </tr>\n",
       "    <tr>\n",
       "      <th>53</th>\n",
       "      <td>77.0</td>\n",
       "      <td>1252.235294</td>\n",
       "    </tr>\n",
       "    <tr>\n",
       "      <th>41</th>\n",
       "      <td>64.0</td>\n",
       "      <td>1206.763889</td>\n",
       "    </tr>\n",
       "  </tbody>\n",
       "</table>\n",
       "</div>"
      ],
      "text/plain": [
       "     Age  Trip_Duration\n",
       "43  66.0    2435.428571\n",
       "37  60.0    1630.862069\n",
       "8   31.0    1355.203426\n",
       "53  77.0    1252.235294\n",
       "41  64.0    1206.763889"
      ]
     },
     "execution_count": 63,
     "metadata": {},
     "output_type": "execute_result"
    }
   ],
   "source": [
    "Top10_mean_dur_perage.head(5)"
   ]
  },
  {
   "cell_type": "code",
   "execution_count": 64,
   "metadata": {},
   "outputs": [
    {
     "data": {
      "text/html": [
       "<div>\n",
       "<style scoped>\n",
       "    .dataframe tbody tr th:only-of-type {\n",
       "        vertical-align: middle;\n",
       "    }\n",
       "\n",
       "    .dataframe tbody tr th {\n",
       "        vertical-align: top;\n",
       "    }\n",
       "\n",
       "    .dataframe thead th {\n",
       "        text-align: right;\n",
       "    }\n",
       "</style>\n",
       "<table border=\"1\" class=\"dataframe\">\n",
       "  <thead>\n",
       "    <tr style=\"text-align: right;\">\n",
       "      <th></th>\n",
       "      <th>Age</th>\n",
       "      <th>Trip_Duration</th>\n",
       "    </tr>\n",
       "  </thead>\n",
       "  <tbody>\n",
       "    <tr>\n",
       "      <th>43</th>\n",
       "      <td>66.0</td>\n",
       "      <td>2435.428571</td>\n",
       "    </tr>\n",
       "    <tr>\n",
       "      <th>37</th>\n",
       "      <td>60.0</td>\n",
       "      <td>1630.862069</td>\n",
       "    </tr>\n",
       "    <tr>\n",
       "      <th>8</th>\n",
       "      <td>31.0</td>\n",
       "      <td>1355.203426</td>\n",
       "    </tr>\n",
       "    <tr>\n",
       "      <th>53</th>\n",
       "      <td>77.0</td>\n",
       "      <td>1252.235294</td>\n",
       "    </tr>\n",
       "    <tr>\n",
       "      <th>41</th>\n",
       "      <td>64.0</td>\n",
       "      <td>1206.763889</td>\n",
       "    </tr>\n",
       "    <tr>\n",
       "      <th>31</th>\n",
       "      <td>54.0</td>\n",
       "      <td>1121.594286</td>\n",
       "    </tr>\n",
       "    <tr>\n",
       "      <th>42</th>\n",
       "      <td>65.0</td>\n",
       "      <td>1087.304054</td>\n",
       "    </tr>\n",
       "    <tr>\n",
       "      <th>29</th>\n",
       "      <td>52.0</td>\n",
       "      <td>1011.757848</td>\n",
       "    </tr>\n",
       "    <tr>\n",
       "      <th>44</th>\n",
       "      <td>67.0</td>\n",
       "      <td>988.069930</td>\n",
       "    </tr>\n",
       "    <tr>\n",
       "      <th>32</th>\n",
       "      <td>55.0</td>\n",
       "      <td>969.315789</td>\n",
       "    </tr>\n",
       "  </tbody>\n",
       "</table>\n",
       "</div>"
      ],
      "text/plain": [
       "     Age  Trip_Duration\n",
       "43  66.0    2435.428571\n",
       "37  60.0    1630.862069\n",
       "8   31.0    1355.203426\n",
       "53  77.0    1252.235294\n",
       "41  64.0    1206.763889\n",
       "31  54.0    1121.594286\n",
       "42  65.0    1087.304054\n",
       "29  52.0    1011.757848\n",
       "44  67.0     988.069930\n",
       "32  55.0     969.315789"
      ]
     },
     "execution_count": 64,
     "metadata": {},
     "output_type": "execute_result"
    }
   ],
   "source": [
    "Top10_mean_dur_perage.sort_values('Trip_Duration', ascending=False)"
   ]
  },
  {
   "cell_type": "code",
   "execution_count": 65,
   "metadata": {},
   "outputs": [
    {
     "data": {
      "image/png": "[encoded data removed]",
      "text/plain": [
       "<Figure size 1800x720 with 1 Axes>"
      ]
     },
     "metadata": {
      "needs_background": "light"
     },
     "output_type": "display_data"
    }
   ],
   "source": [
    "a4_dims = (25, 10)\n",
    "fig, ax5,= pyplot.subplots(figsize=a4_dims)\n",
    "\n",
    "ax5 = sns.barplot(data=Top10_mean_dur_perage, x= 'Age', y=\"Trip_Duration\")"
   ]
  },
  {
   "cell_type": "markdown",
   "metadata": {},
   "source": [
    "Answer :\n",
    "There is a correlation between age and trip duration, but the correlation value is very small which is close to 0. So it can be concluded that these two variables are not very correlated "
   ]
  },
  {
   "cell_type": "markdown",
   "metadata": {},
   "source": [
    "## What are the top 10 pair of stations that our riders use as a start & stopping point?"
   ]
  },
  {
   "cell_type": "code",
   "execution_count": 66,
   "metadata": {},
   "outputs": [],
   "source": [
    "df_201510['Pair Trip Station Name'] = df_201510[\"Start Station Name\"] +\"-\"+df_201510[\"End Station Name\"]\n"
   ]
  },
  {
   "cell_type": "code",
   "execution_count": 67,
   "metadata": {},
   "outputs": [
    {
     "data": {
      "text/html": [
       "<div>\n",
       "<style scoped>\n",
       "    .dataframe tbody tr th:only-of-type {\n",
       "        vertical-align: middle;\n",
       "    }\n",
       "\n",
       "    .dataframe tbody tr th {\n",
       "        vertical-align: top;\n",
       "    }\n",
       "\n",
       "    .dataframe thead th {\n",
       "        text-align: right;\n",
       "    }\n",
       "</style>\n",
       "<table border=\"1\" class=\"dataframe\">\n",
       "  <thead>\n",
       "    <tr style=\"text-align: right;\">\n",
       "      <th></th>\n",
       "      <th>Trip_Duration</th>\n",
       "      <th>Start Time</th>\n",
       "      <th>Stop Time</th>\n",
       "      <th>Start Station ID</th>\n",
       "      <th>Start Station Name</th>\n",
       "      <th>Start Station Latitude</th>\n",
       "      <th>Start Station Longitude</th>\n",
       "      <th>End Station ID</th>\n",
       "      <th>End Station Name</th>\n",
       "      <th>End Station Latitude</th>\n",
       "      <th>...</th>\n",
       "      <th>Bike ID</th>\n",
       "      <th>User Type</th>\n",
       "      <th>Birth Year</th>\n",
       "      <th>Gender</th>\n",
       "      <th>Age</th>\n",
       "      <th>Label User Type</th>\n",
       "      <th>Duration</th>\n",
       "      <th>Start Day</th>\n",
       "      <th>Start Hour</th>\n",
       "      <th>Pair Trip Station Name</th>\n",
       "    </tr>\n",
       "  </thead>\n",
       "  <tbody>\n",
       "    <tr>\n",
       "      <th>0</th>\n",
       "      <td>376</td>\n",
       "      <td>2015-10-01 00:16:26</td>\n",
       "      <td>2015-10-01 00:22:42</td>\n",
       "      <td>3212</td>\n",
       "      <td>Christ Hospital</td>\n",
       "      <td>40.734786</td>\n",
       "      <td>-74.050444</td>\n",
       "      <td>3207</td>\n",
       "      <td>Oakland Ave</td>\n",
       "      <td>40.737604</td>\n",
       "      <td>...</td>\n",
       "      <td>24470</td>\n",
       "      <td>Subscriber</td>\n",
       "      <td>1960.0</td>\n",
       "      <td>1</td>\n",
       "      <td>61.0</td>\n",
       "      <td>0</td>\n",
       "      <td>00:06:16</td>\n",
       "      <td>Thursday</td>\n",
       "      <td>0</td>\n",
       "      <td>Christ Hospital-Oakland Ave</td>\n",
       "    </tr>\n",
       "    <tr>\n",
       "      <th>1</th>\n",
       "      <td>739</td>\n",
       "      <td>2015-10-01 00:27:12</td>\n",
       "      <td>2015-10-01 00:39:32</td>\n",
       "      <td>3207</td>\n",
       "      <td>Oakland Ave</td>\n",
       "      <td>40.737604</td>\n",
       "      <td>-74.052478</td>\n",
       "      <td>3212</td>\n",
       "      <td>Christ Hospital</td>\n",
       "      <td>40.734786</td>\n",
       "      <td>...</td>\n",
       "      <td>24481</td>\n",
       "      <td>Subscriber</td>\n",
       "      <td>1960.0</td>\n",
       "      <td>1</td>\n",
       "      <td>61.0</td>\n",
       "      <td>0</td>\n",
       "      <td>00:12:20</td>\n",
       "      <td>Thursday</td>\n",
       "      <td>0</td>\n",
       "      <td>Oakland Ave-Christ Hospital</td>\n",
       "    </tr>\n",
       "    <tr>\n",
       "      <th>2</th>\n",
       "      <td>2714</td>\n",
       "      <td>2015-10-01 00:32:46</td>\n",
       "      <td>2015-10-01 01:18:01</td>\n",
       "      <td>3193</td>\n",
       "      <td>Lincoln Park</td>\n",
       "      <td>40.724605</td>\n",
       "      <td>-74.078406</td>\n",
       "      <td>3193</td>\n",
       "      <td>Lincoln Park</td>\n",
       "      <td>40.724605</td>\n",
       "      <td>...</td>\n",
       "      <td>24628</td>\n",
       "      <td>Subscriber</td>\n",
       "      <td>1983.0</td>\n",
       "      <td>1</td>\n",
       "      <td>38.0</td>\n",
       "      <td>0</td>\n",
       "      <td>00:45:15</td>\n",
       "      <td>Thursday</td>\n",
       "      <td>0</td>\n",
       "      <td>Lincoln Park-Lincoln Park</td>\n",
       "    </tr>\n",
       "    <tr>\n",
       "      <th>3</th>\n",
       "      <td>275</td>\n",
       "      <td>2015-10-01 00:34:31</td>\n",
       "      <td>2015-10-01 00:39:06</td>\n",
       "      <td>3199</td>\n",
       "      <td>Newport Pkwy</td>\n",
       "      <td>40.728745</td>\n",
       "      <td>-74.032108</td>\n",
       "      <td>3187</td>\n",
       "      <td>Warren St</td>\n",
       "      <td>40.721124</td>\n",
       "      <td>...</td>\n",
       "      <td>24613</td>\n",
       "      <td>Subscriber</td>\n",
       "      <td>1975.0</td>\n",
       "      <td>1</td>\n",
       "      <td>46.0</td>\n",
       "      <td>0</td>\n",
       "      <td>00:04:35</td>\n",
       "      <td>Thursday</td>\n",
       "      <td>0</td>\n",
       "      <td>Newport Pkwy-Warren St</td>\n",
       "    </tr>\n",
       "    <tr>\n",
       "      <th>6</th>\n",
       "      <td>139</td>\n",
       "      <td>2015-10-01 00:43:44</td>\n",
       "      <td>2015-10-01 00:46:03</td>\n",
       "      <td>3206</td>\n",
       "      <td>Hilltop</td>\n",
       "      <td>40.731169</td>\n",
       "      <td>-74.057574</td>\n",
       "      <td>3195</td>\n",
       "      <td>Sip Ave</td>\n",
       "      <td>40.730743</td>\n",
       "      <td>...</td>\n",
       "      <td>24482</td>\n",
       "      <td>Subscriber</td>\n",
       "      <td>1988.0</td>\n",
       "      <td>1</td>\n",
       "      <td>33.0</td>\n",
       "      <td>0</td>\n",
       "      <td>00:02:19</td>\n",
       "      <td>Thursday</td>\n",
       "      <td>0</td>\n",
       "      <td>Hilltop-Sip Ave</td>\n",
       "    </tr>\n",
       "  </tbody>\n",
       "</table>\n",
       "<p>5 rows × 21 columns</p>\n",
       "</div>"
      ],
      "text/plain": [
       "   Trip_Duration          Start Time           Stop Time  Start Station ID  \\\n",
       "0            376 2015-10-01 00:16:26 2015-10-01 00:22:42              3212   \n",
       "1            739 2015-10-01 00:27:12 2015-10-01 00:39:32              3207   \n",
       "2           2714 2015-10-01 00:32:46 2015-10-01 01:18:01              3193   \n",
       "3            275 2015-10-01 00:34:31 2015-10-01 00:39:06              3199   \n",
       "6            139 2015-10-01 00:43:44 2015-10-01 00:46:03              3206   \n",
       "\n",
       "  Start Station Name  Start Station Latitude  Start Station Longitude  \\\n",
       "0    Christ Hospital               40.734786               -74.050444   \n",
       "1        Oakland Ave               40.737604               -74.052478   \n",
       "2       Lincoln Park               40.724605               -74.078406   \n",
       "3       Newport Pkwy               40.728745               -74.032108   \n",
       "6            Hilltop               40.731169               -74.057574   \n",
       "\n",
       "   End Station ID End Station Name  End Station Latitude  ...  Bike ID  \\\n",
       "0            3207      Oakland Ave             40.737604  ...    24470   \n",
       "1            3212  Christ Hospital             40.734786  ...    24481   \n",
       "2            3193     Lincoln Park             40.724605  ...    24628   \n",
       "3            3187        Warren St             40.721124  ...    24613   \n",
       "6            3195          Sip Ave             40.730743  ...    24482   \n",
       "\n",
       "    User Type Birth Year  Gender   Age  Label User Type  Duration Start Day  \\\n",
       "0  Subscriber     1960.0       1  61.0                0  00:06:16  Thursday   \n",
       "1  Subscriber     1960.0       1  61.0                0  00:12:20  Thursday   \n",
       "2  Subscriber     1983.0       1  38.0                0  00:45:15  Thursday   \n",
       "3  Subscriber     1975.0       1  46.0                0  00:04:35  Thursday   \n",
       "6  Subscriber     1988.0       1  33.0                0  00:02:19  Thursday   \n",
       "\n",
       "  Start Hour       Pair Trip Station Name  \n",
       "0          0  Christ Hospital-Oakland Ave  \n",
       "1          0  Oakland Ave-Christ Hospital  \n",
       "2          0    Lincoln Park-Lincoln Park  \n",
       "3          0       Newport Pkwy-Warren St  \n",
       "6          0              Hilltop-Sip Ave  \n",
       "\n",
       "[5 rows x 21 columns]"
      ]
     },
     "execution_count": 67,
     "metadata": {},
     "output_type": "execute_result"
    }
   ],
   "source": [
    "df_201510.head()"
   ]
  },
  {
   "cell_type": "code",
   "execution_count": 68,
   "metadata": {},
   "outputs": [
    {
     "data": {
      "text/plain": [
       "Brunswick St-Grove St PATH              539\n",
       "Hamilton Park-Grove St PATH             521\n",
       "Grove St PATH-Hamilton Park             416\n",
       "Essex Light Rail-Exchange Place         385\n",
       "Grove St PATH-Brunswick St              355\n",
       "Van Vorst Park-Grove St PATH            351\n",
       "Exchange Place-Essex Light Rail         334\n",
       "Newport PATH-Hamilton Park              316\n",
       "Grove St PATH-Van Vorst Park            308\n",
       "McGinley Square-Sip Ave                 295\n",
       "Sip Ave-McGinley Square                 238\n",
       "Grove St PATH-Essex Light Rail          208\n",
       "Hamilton Park-Newport PATH              203\n",
       "Newport PATH-Newport Pkwy               182\n",
       "Newport Pkwy-Newport PATH               145\n",
       "Sip Ave-Dey St                          144\n",
       "Van Vorst Park-Exchange Place           142\n",
       "Grove St PATH-JC Medical Center         140\n",
       "Sip Ave-Lincoln Park                    138\n",
       "Newark Ave-Grove St PATH                137\n",
       "Oakland Ave-Sip Ave                     136\n",
       "Lincoln Park-Sip Ave                    133\n",
       "Essex Light Rail-Grove St PATH          130\n",
       "Dey St-Sip Ave                          126\n",
       "Warren St-Exchange Place                124\n",
       "Newport Pkwy-Newport Pkwy               121\n",
       "Exchange Place-Newport Pkwy             118\n",
       "Newport PATH-Warren St                  114\n",
       "Newport Pkwy-Exchange Place             113\n",
       "JC Medical Center-Grove St PATH         111\n",
       "                                       ... \n",
       "West Side Light Rail-Pershing Field       1\n",
       "Liberty Light Rail-Heights Elevator       1\n",
       "Oakland Ave-Newport Pkwy                  1\n",
       "Columbia Park-Columbia Park               1\n",
       "Garfield Ave Station-Bayside Park         1\n",
       "Heights Elevator-City Hall                1\n",
       "Baldwin at Montgomery-Dey St              1\n",
       "JC Medical Center-Hilltop                 1\n",
       "North St-NJCU                             1\n",
       "Columbia Park-Riverview Park              1\n",
       "Columbia Park-Union St                    1\n",
       "Heights Elevator-McGinley Square          1\n",
       "Heights Elevator-Liberty Light Rail       1\n",
       "Newport Pkwy-North St                     1\n",
       "Oakland Ave-Van Vorst Park                1\n",
       "Christ Hospital-Central Ave               1\n",
       "Heights Elevator-5 Corners Library        1\n",
       "5 Corners Library-Liberty Light Rail      1\n",
       "Van Vorst Park-Heights Elevator           1\n",
       "Dey St-Essex Light Rail                   1\n",
       "Newport PATH-Broadway & W 58 St           1\n",
       "Pershing Field-City Hall                  1\n",
       "Paulus Hook-NJCU                          1\n",
       "Sip Ave-MLK Light Rail                    1\n",
       "City Hall-North St                        1\n",
       "NJCU-Lincoln Park                         1\n",
       "NJCU-Union St                             1\n",
       "Van Vorst Park-Lincoln Park               1\n",
       "Oakland Ave-JC Medical Center             1\n",
       "Central Ave-Essex Light Rail              1\n",
       "Name: Pair Trip Station Name, Length: 751, dtype: int64"
      ]
     },
     "execution_count": 68,
     "metadata": {},
     "output_type": "execute_result"
    }
   ],
   "source": [
    "df_201510['Pair Trip Station Name'].value_counts(ascending=False)"
   ]
  },
  {
   "cell_type": "code",
   "execution_count": 69,
   "metadata": {},
   "outputs": [],
   "source": [
    "Top10_pair = pd.DataFrame(df_201510['Pair Trip Station Name'].value_counts(ascending=False).head(10))"
   ]
  },
  {
   "cell_type": "code",
   "execution_count": 70,
   "metadata": {},
   "outputs": [],
   "source": [
    "Top10_pair.reset_index(inplace=True)"
   ]
  },
  {
   "cell_type": "code",
   "execution_count": 71,
   "metadata": {},
   "outputs": [],
   "source": [
    "Top10_pair.rename(columns={'Pair Trip Station Name': 'Count Pair Trip Station', 'index': 'Pair Trip Station Name'}, inplace=True)"
   ]
  },
  {
   "cell_type": "code",
   "execution_count": 72,
   "metadata": {},
   "outputs": [
    {
     "data": {
      "text/html": [
       "<div>\n",
       "<style scoped>\n",
       "    .dataframe tbody tr th:only-of-type {\n",
       "        vertical-align: middle;\n",
       "    }\n",
       "\n",
       "    .dataframe tbody tr th {\n",
       "        vertical-align: top;\n",
       "    }\n",
       "\n",
       "    .dataframe thead th {\n",
       "        text-align: right;\n",
       "    }\n",
       "</style>\n",
       "<table border=\"1\" class=\"dataframe\">\n",
       "  <thead>\n",
       "    <tr style=\"text-align: right;\">\n",
       "      <th></th>\n",
       "      <th>Pair Trip Station Name</th>\n",
       "      <th>Count Pair Trip Station</th>\n",
       "    </tr>\n",
       "  </thead>\n",
       "  <tbody>\n",
       "    <tr>\n",
       "      <th>0</th>\n",
       "      <td>Brunswick St-Grove St PATH</td>\n",
       "      <td>539</td>\n",
       "    </tr>\n",
       "    <tr>\n",
       "      <th>1</th>\n",
       "      <td>Hamilton Park-Grove St PATH</td>\n",
       "      <td>521</td>\n",
       "    </tr>\n",
       "    <tr>\n",
       "      <th>2</th>\n",
       "      <td>Grove St PATH-Hamilton Park</td>\n",
       "      <td>416</td>\n",
       "    </tr>\n",
       "    <tr>\n",
       "      <th>3</th>\n",
       "      <td>Essex Light Rail-Exchange Place</td>\n",
       "      <td>385</td>\n",
       "    </tr>\n",
       "    <tr>\n",
       "      <th>4</th>\n",
       "      <td>Grove St PATH-Brunswick St</td>\n",
       "      <td>355</td>\n",
       "    </tr>\n",
       "    <tr>\n",
       "      <th>5</th>\n",
       "      <td>Van Vorst Park-Grove St PATH</td>\n",
       "      <td>351</td>\n",
       "    </tr>\n",
       "    <tr>\n",
       "      <th>6</th>\n",
       "      <td>Exchange Place-Essex Light Rail</td>\n",
       "      <td>334</td>\n",
       "    </tr>\n",
       "    <tr>\n",
       "      <th>7</th>\n",
       "      <td>Newport PATH-Hamilton Park</td>\n",
       "      <td>316</td>\n",
       "    </tr>\n",
       "    <tr>\n",
       "      <th>8</th>\n",
       "      <td>Grove St PATH-Van Vorst Park</td>\n",
       "      <td>308</td>\n",
       "    </tr>\n",
       "    <tr>\n",
       "      <th>9</th>\n",
       "      <td>McGinley Square-Sip Ave</td>\n",
       "      <td>295</td>\n",
       "    </tr>\n",
       "  </tbody>\n",
       "</table>\n",
       "</div>"
      ],
      "text/plain": [
       "            Pair Trip Station Name  Count Pair Trip Station\n",
       "0       Brunswick St-Grove St PATH                      539\n",
       "1      Hamilton Park-Grove St PATH                      521\n",
       "2      Grove St PATH-Hamilton Park                      416\n",
       "3  Essex Light Rail-Exchange Place                      385\n",
       "4       Grove St PATH-Brunswick St                      355\n",
       "5     Van Vorst Park-Grove St PATH                      351\n",
       "6  Exchange Place-Essex Light Rail                      334\n",
       "7       Newport PATH-Hamilton Park                      316\n",
       "8     Grove St PATH-Van Vorst Park                      308\n",
       "9          McGinley Square-Sip Ave                      295"
      ]
     },
     "execution_count": 72,
     "metadata": {},
     "output_type": "execute_result"
    }
   ],
   "source": [
    "Top10_pair"
   ]
  },
  {
   "cell_type": "code",
   "execution_count": 73,
   "metadata": {},
   "outputs": [
    {
     "data": {
      "text/plain": [
       "[<matplotlib.axis.XTick at 0x1b2f554cba8>,\n",
       " <matplotlib.axis.XTick at 0x1b2f554c4e0>,\n",
       " <matplotlib.axis.XTick at 0x1b2f554c358>,\n",
       " <matplotlib.axis.XTick at 0x1b2f556d7f0>,\n",
       " <matplotlib.axis.XTick at 0x1b2f55665f8>,\n",
       " <matplotlib.axis.XTick at 0x1b2f55745f8>,\n",
       " <matplotlib.axis.XTick at 0x1b2f55746d8>,\n",
       " <matplotlib.axis.XTick at 0x1b2f557a668>,\n",
       " <matplotlib.axis.XTick at 0x1b2f557abe0>,\n",
       " <matplotlib.axis.XTick at 0x1b2f55811d0>,\n",
       " <matplotlib.axis.XTick at 0x1b2f5581710>,\n",
       " <matplotlib.axis.XTick at 0x1b2f5581c88>,\n",
       " <matplotlib.axis.XTick at 0x1b2f558b240>,\n",
       " <matplotlib.axis.XTick at 0x1b2f5581d68>,\n",
       " <matplotlib.axis.XTick at 0x1b2f557acc0>,\n",
       " <matplotlib.axis.XTick at 0x1b2f558b160>,\n",
       " <matplotlib.axis.XTick at 0x1b2f558bc50>,\n",
       " <matplotlib.axis.XTick at 0x1b2f5592208>,\n",
       " <matplotlib.axis.XTick at 0x1b2f5592780>,\n",
       " <matplotlib.axis.XTick at 0x1b2f5592cf8>,\n",
       " <matplotlib.axis.XTick at 0x1b2f55982b0>,\n",
       " <matplotlib.axis.XTick at 0x1b2f5598828>,\n",
       " <matplotlib.axis.XTick at 0x1b2f5598da0>]"
      ]
     },
     "execution_count": 73,
     "metadata": {},
     "output_type": "execute_result"
    },
    {
     "data": {
      "image/png": "[encoded data removed]",
      "text/plain": [
       "<Figure size 1800x1080 with 1 Axes>"
      ]
     },
     "metadata": {
      "needs_background": "light"
     },
     "output_type": "display_data"
    }
   ],
   "source": [
    "a4_dims = (25, 15)\n",
    "fig, ax3,= pyplot.subplots(figsize=a4_dims)\n",
    "sns.set_style(\"darkgrid\")\n",
    "sns.set_context(\"poster\")\n",
    "\n",
    "ax3 = sns.barplot(x= 'Count Pair Trip Station', y=\"Pair Trip Station Name\", data=Top10_pair, orient='h')\n",
    "ax3.set_xticks([0, 25, 50, 75, 100, 125, 150, 175, 200, 225, 250, 275, 300, 325, 350, 375, 400, 425, 450, 475, 500, 525, 550])"
   ]
  },
  {
   "cell_type": "markdown",
   "metadata": {},
   "source": [
    "## Come up with your own question on the Citibike data usage and formulate a hypothesis"
   ]
  },
  {
   "cell_type": "markdown",
   "metadata": {},
   "source": [
    "### Example:\n",
    "### \"Women are less likely than men to choose biking for commuting.\"\n",
    ">\n",
    ">Null Hypothesis: \n",
    "\n",
    ">The proportion of men biking on weekends is the same or higher than the proportion of women biking on weekends\n",
    "\n"
   ]
  },
  {
   "cell_type": "markdown",
   "metadata": {},
   "source": [
    "Question : Average Age in top10 pair station ?\n",
    "\n",
    "Hypotesis : based on previous data, the people who have the most travel duration on average are people with the age of 66 years. The hypothesis is that in these top 10 pair stations, bicycle users come from the age of 66 "
   ]
  },
  {
   "cell_type": "markdown",
   "metadata": {},
   "source": [
    "## Work with your dataset and show your findings to help answer your question"
   ]
  },
  {
   "cell_type": "code",
   "execution_count": 86,
   "metadata": {},
   "outputs": [],
   "source": [
    "a = Top10_pair['Pair Trip Station Name'].tolist()"
   ]
  },
  {
   "cell_type": "code",
   "execution_count": 87,
   "metadata": {},
   "outputs": [],
   "source": [
    "count_user_age = df_201510[['Age', 'Pair Trip Station Name']]"
   ]
  },
  {
   "cell_type": "code",
   "execution_count": 88,
   "metadata": {},
   "outputs": [
    {
     "name": "stderr",
     "output_type": "stream",
     "text": [
      "C:\\Users\\Karimah\\Anaconda2\\lib\\site-packages\\pandas\\core\\frame.py:4025: SettingWithCopyWarning: \n",
      "A value is trying to be set on a copy of a slice from a DataFrame\n",
      "\n",
      "See the caveats in the documentation: http://pandas.pydata.org/pandas-docs/stable/indexing.html#indexing-view-versus-copy\n",
      "  return super(DataFrame, self).rename(**kwargs)\n"
     ]
    }
   ],
   "source": [
    "count_user_age.rename(columns={'Pair Trip Station Name': 'Pair_Trip_Station'}, inplace=True)"
   ]
  },
  {
   "cell_type": "code",
   "execution_count": 89,
   "metadata": {},
   "outputs": [],
   "source": [
    "top10_user_age = count_user_age[count_user_age.Pair_Trip_Station.isin(a) == True]"
   ]
  },
  {
   "cell_type": "code",
   "execution_count": 90,
   "metadata": {},
   "outputs": [
    {
     "data": {
      "text/plain": [
       "(3820, 2)"
      ]
     },
     "execution_count": 90,
     "metadata": {},
     "output_type": "execute_result"
    }
   ],
   "source": [
    "top10_user_age.shape"
   ]
  },
  {
   "cell_type": "code",
   "execution_count": 95,
   "metadata": {},
   "outputs": [],
   "source": [
    "top10_user_age_groupby = top10_user_age.groupby('Age', as_index=False).Pair_Trip_Station.count()"
   ]
  },
  {
   "cell_type": "code",
   "execution_count": 98,
   "metadata": {},
   "outputs": [],
   "source": [
    "top10_user_age_groupby.rename(columns={'Pair_Trip_Station': 'Count_Age_In_Top10'}, inplace=True)"
   ]
  },
  {
   "cell_type": "code",
   "execution_count": 99,
   "metadata": {},
   "outputs": [
    {
     "data": {
      "text/html": [
       "<div>\n",
       "<style scoped>\n",
       "    .dataframe tbody tr th:only-of-type {\n",
       "        vertical-align: middle;\n",
       "    }\n",
       "\n",
       "    .dataframe tbody tr th {\n",
       "        vertical-align: top;\n",
       "    }\n",
       "\n",
       "    .dataframe thead th {\n",
       "        text-align: right;\n",
       "    }\n",
       "</style>\n",
       "<table border=\"1\" class=\"dataframe\">\n",
       "  <thead>\n",
       "    <tr style=\"text-align: right;\">\n",
       "      <th></th>\n",
       "      <th>Age</th>\n",
       "      <th>Count_Age_In_Top10</th>\n",
       "    </tr>\n",
       "  </thead>\n",
       "  <tbody>\n",
       "    <tr>\n",
       "      <th>0</th>\n",
       "      <td>22.0</td>\n",
       "      <td>2</td>\n",
       "    </tr>\n",
       "    <tr>\n",
       "      <th>1</th>\n",
       "      <td>25.0</td>\n",
       "      <td>27</td>\n",
       "    </tr>\n",
       "    <tr>\n",
       "      <th>2</th>\n",
       "      <td>26.0</td>\n",
       "      <td>1</td>\n",
       "    </tr>\n",
       "    <tr>\n",
       "      <th>3</th>\n",
       "      <td>28.0</td>\n",
       "      <td>1</td>\n",
       "    </tr>\n",
       "    <tr>\n",
       "      <th>4</th>\n",
       "      <td>29.0</td>\n",
       "      <td>64</td>\n",
       "    </tr>\n",
       "  </tbody>\n",
       "</table>\n",
       "</div>"
      ],
      "text/plain": [
       "    Age  Count_Age_In_Top10\n",
       "0  22.0                   2\n",
       "1  25.0                  27\n",
       "2  26.0                   1\n",
       "3  28.0                   1\n",
       "4  29.0                  64"
      ]
     },
     "execution_count": 99,
     "metadata": {},
     "output_type": "execute_result"
    }
   ],
   "source": [
    "top10_user_age_groupby.head()"
   ]
  },
  {
   "cell_type": "code",
   "execution_count": 102,
   "metadata": {},
   "outputs": [],
   "source": [
    "top10_user_age_groupby = top10_user_age_groupby.sort_values('Count_Age_In_Top10', ascending=False).head(10)"
   ]
  },
  {
   "cell_type": "code",
   "execution_count": 111,
   "metadata": {},
   "outputs": [
    {
     "data": {
      "text/html": [
       "<div>\n",
       "<style scoped>\n",
       "    .dataframe tbody tr th:only-of-type {\n",
       "        vertical-align: middle;\n",
       "    }\n",
       "\n",
       "    .dataframe tbody tr th {\n",
       "        vertical-align: top;\n",
       "    }\n",
       "\n",
       "    .dataframe thead th {\n",
       "        text-align: right;\n",
       "    }\n",
       "</style>\n",
       "<table border=\"1\" class=\"dataframe\">\n",
       "  <thead>\n",
       "    <tr style=\"text-align: right;\">\n",
       "      <th></th>\n",
       "      <th>Age</th>\n",
       "      <th>Count_Age_In_Top10</th>\n",
       "    </tr>\n",
       "  </thead>\n",
       "  <tbody>\n",
       "    <tr>\n",
       "      <th>15</th>\n",
       "      <td>40.0</td>\n",
       "      <td>367</td>\n",
       "    </tr>\n",
       "    <tr>\n",
       "      <th>16</th>\n",
       "      <td>41.0</td>\n",
       "      <td>267</td>\n",
       "    </tr>\n",
       "    <tr>\n",
       "      <th>14</th>\n",
       "      <td>39.0</td>\n",
       "      <td>207</td>\n",
       "    </tr>\n",
       "    <tr>\n",
       "      <th>20</th>\n",
       "      <td>45.0</td>\n",
       "      <td>202</td>\n",
       "    </tr>\n",
       "    <tr>\n",
       "      <th>12</th>\n",
       "      <td>37.0</td>\n",
       "      <td>185</td>\n",
       "    </tr>\n",
       "    <tr>\n",
       "      <th>13</th>\n",
       "      <td>38.0</td>\n",
       "      <td>184</td>\n",
       "    </tr>\n",
       "    <tr>\n",
       "      <th>26</th>\n",
       "      <td>51.0</td>\n",
       "      <td>169</td>\n",
       "    </tr>\n",
       "    <tr>\n",
       "      <th>10</th>\n",
       "      <td>35.0</td>\n",
       "      <td>168</td>\n",
       "    </tr>\n",
       "    <tr>\n",
       "      <th>18</th>\n",
       "      <td>43.0</td>\n",
       "      <td>167</td>\n",
       "    </tr>\n",
       "    <tr>\n",
       "      <th>11</th>\n",
       "      <td>36.0</td>\n",
       "      <td>165</td>\n",
       "    </tr>\n",
       "  </tbody>\n",
       "</table>\n",
       "</div>"
      ],
      "text/plain": [
       "     Age  Count_Age_In_Top10\n",
       "15  40.0                 367\n",
       "16  41.0                 267\n",
       "14  39.0                 207\n",
       "20  45.0                 202\n",
       "12  37.0                 185\n",
       "13  38.0                 184\n",
       "26  51.0                 169\n",
       "10  35.0                 168\n",
       "18  43.0                 167\n",
       "11  36.0                 165"
      ]
     },
     "execution_count": 111,
     "metadata": {},
     "output_type": "execute_result"
    }
   ],
   "source": [
    "top10_user_age_groupby"
   ]
  },
  {
   "cell_type": "code",
   "execution_count": 110,
   "metadata": {},
   "outputs": [
    {
     "data": {
      "text/plain": [
       "[<matplotlib.axis.XTick at 0x1b2f6688358>,\n",
       " <matplotlib.axis.XTick at 0x1b2f6681ba8>,\n",
       " <matplotlib.axis.XTick at 0x1b2f6681898>,\n",
       " <matplotlib.axis.XTick at 0x1b2f66f22b0>,\n",
       " <matplotlib.axis.XTick at 0x1b2f66f2748>,\n",
       " <matplotlib.axis.XTick at 0x1b2f66f2cc0>,\n",
       " <matplotlib.axis.XTick at 0x1b2f66f8278>,\n",
       " <matplotlib.axis.XTick at 0x1b2f66f87f0>,\n",
       " <matplotlib.axis.XTick at 0x1b2f66f8d68>,\n",
       " <matplotlib.axis.XTick at 0x1b2f66f8710>,\n",
       " <matplotlib.axis.XTick at 0x1b2f66f2668>,\n",
       " <matplotlib.axis.XTick at 0x1b2f66eb278>,\n",
       " <matplotlib.axis.XTick at 0x1b2f66ff828>,\n",
       " <matplotlib.axis.XTick at 0x1b2f66ffda0>,\n",
       " <matplotlib.axis.XTick at 0x1b2f6705358>,\n",
       " <matplotlib.axis.XTick at 0x1b2f67058d0>,\n",
       " <matplotlib.axis.XTick at 0x1b2f6705e48>]"
      ]
     },
     "execution_count": 110,
     "metadata": {},
     "output_type": "execute_result"
    },
    {
     "data": {
      "image/png": "[encoded data removed]",
      "text/plain": [
       "<Figure size 1800x1080 with 1 Axes>"
      ]
     },
     "metadata": {},
     "output_type": "display_data"
    }
   ],
   "source": [
    "a4_dims = (25, 15)\n",
    "fig, ax7,= pyplot.subplots(figsize=a4_dims)\n",
    "sns.set_style(\"darkgrid\")\n",
    "sns.set_context(\"poster\")\n",
    "\n",
    "ax7 = sns.barplot(x= 'Count_Age_In_Top10', y=\"Age\", data=top10_user_age_groupby, orient='h')\n",
    "ax7.set_xticks([0, 25, 50, 75, 100, 125, 150, 175, 200, 225, 250, 275, 300, 325, 350, 375, 400])"
   ]
  },
  {
   "cell_type": "markdown",
   "metadata": {},
   "source": [
    "Answer :\n",
    "Based on the data, it turns out that the top 10 pair stations are dominated by customers who come from the age group 35-51 years with the highest gains achieved by users aged 40 years"
   ]
  },
  {
   "cell_type": "markdown",
   "metadata": {},
   "source": [
    "# Submit Instructions\n",
    "Rename this notebook to `mod2_<first_name>_<last_name>.ipynb` and push this to your branch in module-2 repository\n",
    "\n",
    "```\n",
    "git checkout -b tanyani\n",
    "git add mod2_tanya_nabila.ipynb\n",
    "git commit -m 'submit mod2 assignment for Tanya Nabila'\n",
    "git push\n",
    "```"
   ]
  }
 ],
 "metadata": {
  "interpreter": {
   "hash": "52b78d8e2db875985b812709016d1a544e51f9f88c2ad8d2c099fce058451922"
  },
  "kernelspec": {
   "display_name": "Python 3",
   "language": "python",
   "name": "python3"
  },
  "language_info": {
   "codemirror_mode": {
    "name": "ipython",
    "version": 3
   },
   "file_extension": ".py",
   "mimetype": "text/x-python",
   "name": "python",
   "nbconvert_exporter": "python",
   "pygments_lexer": "ipython3",
   "version": "3.6.8"
  }
 },
 "nbformat": 4,
 "nbformat_minor": 2
}
